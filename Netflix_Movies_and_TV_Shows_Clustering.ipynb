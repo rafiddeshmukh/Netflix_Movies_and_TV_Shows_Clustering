{
  "nbformat": 4,
  "nbformat_minor": 0,
  "metadata": {
    "colab": {
      "provenance": [],
      "collapsed_sections": [
        "vncDsAP0Gaoa",
        "FJNUwmbgGyua",
        "w6K7xa23Elo4",
        "yQaldy8SH6Dl",
        "mDgbUHAGgjLW",
        "O_i_v8NEhb9l",
        "HhfV-JJviCcP",
        "Y3lxredqlCYt",
        "3RnN4peoiCZX",
        "x71ZqKXriCWQ",
        "7hBIi_osiCS2",
        "JlHwYmJAmNHm",
        "35m5QtbWiB9F",
        "PoPl-ycgm1ru",
        "H0kj-8xxnORC",
        "nA9Y7ga8ng1Z",
        "PBTbrJXOngz2",
        "u3PMJOP6ngxN",
        "dauF4eBmngu3",
        "bKJF3rekwFvQ",
        "MSa1f5Uengrz",
        "GF8Ens_Soomf",
        "0wOQAZs5pc--",
        "K5QZ13OEpz2H",
        "lQ7QKXXCp7Bj",
        "448CDAPjqfQr",
        "KSlN3yHqYklG",
        "t6dVpIINYklI",
        "ijmpgYnKYklI",
        "-JiQyfWJYklI",
        "EM7whBJCYoAo",
        "fge-S5ZAYoAp",
        "85gYPyotYoAp",
        "RoGjAbkUYoAp",
        "4Of9eVA-YrdM",
        "iky9q4vBYrdO",
        "F6T5p64dYrdO",
        "y-Ehk30pYrdP",
        "bamQiAODYuh1",
        "QHF8YVU7Yuh3",
        "GwzvFGzlYuh3",
        "qYpmQ266Yuh3",
        "OH-pJp9IphqM",
        "bbFf2-_FphqN",
        "_ouA3fa0phqN",
        "Seke61FWphqN",
        "PIIx-8_IphqN",
        "t27r6nlMphqO",
        "r2jJGEOYphqO",
        "b0JNsNcRphqO",
        "BZR9WyysphqO",
        "jj7wYXLtphqO",
        "eZrbJ2SmphqO",
        "rFu4xreNphqO",
        "YJ55k-q6phqO",
        "gCFgpxoyphqP",
        "OVtJsKN_phqQ",
        "lssrdh5qphqQ",
        "U2RJ9gkRphqQ",
        "1M8mcRywphqQ",
        "tgIPom80phqQ",
        "JMzcOPDDphqR",
        "x-EpHcCOp1ci",
        "X_VqEhTip1ck",
        "8zGJKyg5p1ck",
        "PVzmfK_Ep1ck",
        "n3dbpmDWp1ck",
        "ylSl6qgtp1ck",
        "ZWILFDl5p1ck",
        "M7G43BXep1ck",
        "Ag9LCva-p1cl",
        "E6MkPsBcp1cl",
        "2cELzS2fp1cl",
        "3MPXvC8up1cl",
        "NC_X3p0fY2L0",
        "UV0SzAkaZNRQ",
        "YPEH6qLeZNRQ",
        "q29F0dvdveiT",
        "EXh0U9oCveiU",
        "22aHeOlLveiV",
        "g-ATYxFrGrvw",
        "Yfr_Vlr8HBkt",
        "8yEUt7NnHlrM",
        "tEA2Xm5dHt1r",
        "I79__PHVH19G",
        "Ou-I18pAyIpj",
        "fF3858GYyt-u",
        "4_0_7-oCpUZd",
        "hwyV_J3ipUZe",
        "3yB-zSqbpUZe",
        "dEUvejAfpUZe",
        "Fd15vwWVpUZf",
        "bn_IUdTipZyH",
        "49K5P_iCpZyH",
        "Nff-vKELpZyI",
        "kLW572S8pZyI",
        "dWbDXHzopZyI",
        "yLjJCtPM0KBk",
        "xiyOF9F70UgQ",
        "7wuGOrhz0itI",
        "id1riN9m0vUs",
        "578E2V7j08f6",
        "89xtkJwZ18nB",
        "67NQN5KX2AMe",
        "Iwf50b-R2tYG",
        "GMQiZwjn3iu7",
        "WVIkgGqN3qsr",
        "XkPnILGE3zoT",
        "Hlsf0x5436Go",
        "mT9DMSJo4nBL",
        "c49ITxTc407N",
        "OeJFEK0N496M",
        "9ExmJH0g5HBk",
        "cJNqERVU536h",
        "k5UmGsbsOxih",
        "T0VqWOYE6DLQ",
        "qBMux9mC6MCf",
        "-oLEiFgy-5Pf",
        "C74aWNz2AliB",
        "2DejudWSA-a0",
        "pEMng2IbBLp7",
        "rAdphbQ9Bhjc",
        "TNVZ9zx19K6k",
        "nqoHp30x9hH9",
        "rMDnDkt2B6du",
        "yiiVWRdJDDil",
        "1UUpS68QDMuG",
        "kexQrXU-DjzY",
        "T5CmagL3EC8N",
        "BhH2vgX9EjGr",
        "qjKvONjwE8ra",
        "P1XJ9OREExlT",
        "VFOzZv6IFROw",
        "TIqpNgepFxVj",
        "VfCC591jGiD4",
        "OB4l2ZhMeS1U",
        "ArJBuiUVfxKd",
        "4qY1EAkEfxKe",
        "PiV4Ypx8fxKe",
        "TfvqoZmBfxKf",
        "dJ2tPlVmpsJ0",
        "JWYfwnehpsJ1",
        "-jK_YjpMpsJ2",
        "HAih1iBOpsJ2",
        "zVGeBEFhpsJ2",
        "bmKjuQ-FpsJ3",
        "Fze-IPXLpx6K",
        "7AN1z2sKpx6M",
        "9PIHJqyupx6M",
        "_-qAgymDpx6N",
        "Z-hykwinpx6N",
        "h_CCil-SKHpo",
        "cBFFvTBNJzUa",
        "HvGl1hHyA_VK",
        "EyNgTHvd2WFk",
        "KH5McJBi2d8v",
        "iW_Lq9qf2h6X",
        "-Kee-DAl2viO",
        "gCX9965dhzqZ",
        "gIfDvo9L0UH2"
      ],
      "include_colab_link": true
    },
    "kernelspec": {
      "name": "python3",
      "display_name": "Python 3"
    },
    "language_info": {
      "name": "python"
    }
  },
  "cells": [
    {
      "cell_type": "markdown",
      "metadata": {
        "id": "view-in-github",
        "colab_type": "text"
      },
      "source": [
        "<a href=\"https://colab.research.google.com/github/rafiddeshmukh/Netflix_Movies_and_TV_Shows_Clustering/blob/main/Netflix_Movies_and_TV_Shows_Clustering.ipynb\" target=\"_parent\"><img src=\"https://colab.research.google.com/assets/colab-badge.svg\" alt=\"Open In Colab\"/></a>"
      ]
    },
    {
      "cell_type": "markdown",
      "source": [
        "# **Project Name**    - **Netflix Movies and TV Shows Clustering**\n",
        "\n"
      ],
      "metadata": {
        "id": "vncDsAP0Gaoa"
      }
    },
    {
      "cell_type": "markdown",
      "source": [
        "##### **Project Type**    - **Unsupervised**\n",
        "##### **Contribution**    - **Rafid Deshmukh (Individual)**"
      ],
      "metadata": {
        "id": "beRrZCGUAJYm"
      }
    },
    {
      "cell_type": "markdown",
      "source": [
        "# **Project Summary -**"
      ],
      "metadata": {
        "id": "FJNUwmbgGyua"
      }
    },
    {
      "cell_type": "markdown",
      "source": [
        "Write the summary here within 500-600 words."
      ],
      "metadata": {
        "id": "F6v_1wHtG2nS"
      }
    },
    {
      "cell_type": "markdown",
      "source": [
        "# **GitHub Link -**"
      ],
      "metadata": {
        "id": "w6K7xa23Elo4"
      }
    },
    {
      "cell_type": "markdown",
      "source": [
        "[Netflix Movies and TV Shows Clustering](https://github.com/rafiddeshmukh/Netflix_Movies_and_TV_Shows_Clustering)"
      ],
      "metadata": {
        "id": "h1o69JH3Eqqn"
      }
    },
    {
      "cell_type": "markdown",
      "source": [
        "# **Problem Statement**\n"
      ],
      "metadata": {
        "id": "yQaldy8SH6Dl"
      }
    },
    {
      "cell_type": "markdown",
      "source": [
        "**Write Problem Statement Here.**"
      ],
      "metadata": {
        "id": "DpeJGUA3kjGy"
      }
    },
    {
      "cell_type": "markdown",
      "source": [
        "# **General Guidelines** : -"
      ],
      "metadata": {
        "id": "mDgbUHAGgjLW"
      }
    },
    {
      "cell_type": "markdown",
      "source": [
        "1.   Well-structured, formatted, and commented code is required.\n",
        "2.   Exception Handling, Production Grade Code & Deployment Ready Code will be a plus. Those students will be awarded some additional credits.\n",
        "\n",
        "     The additional credits will have advantages over other students during Star Student selection.\n",
        "\n",
        "             [ Note: - Deployment Ready Code is defined as, the whole .ipynb notebook should be executable in one go\n",
        "                       without a single error logged. ]\n",
        "\n",
        "3.   Each and every logic should have proper comments.\n",
        "4. You may add as many number of charts you want. Make Sure for each and every chart the following format should be answered.\n",
        "\n",
        "\n",
        "```\n",
        "# Chart visualization code\n",
        "```\n",
        "\n",
        "\n",
        "*   Why did you pick the specific chart?\n",
        "*   What is/are the insight(s) found from the chart?\n",
        "* Will the gained insights help creating a positive business impact?\n",
        "Are there any insights that lead to negative growth? Justify with specific reason.\n",
        "\n",
        "5. You have to create at least 15 logical & meaningful charts having important insights.\n",
        "\n",
        "\n",
        "[ Hints : - Do the Vizualization in  a structured way while following \"UBM\" Rule.\n",
        "\n",
        "U - Univariate Analysis,\n",
        "\n",
        "B - Bivariate Analysis (Numerical - Categorical, Numerical - Numerical, Categorical - Categorical)\n",
        "\n",
        "M - Multivariate Analysis\n",
        " ]\n",
        "\n",
        "\n",
        "\n",
        "\n",
        "\n",
        "6. You may add more ml algorithms for model creation. Make sure for each and every algorithm, the following format should be answered.\n",
        "\n",
        "\n",
        "*   Explain the ML Model used and it's performance using Evaluation metric Score Chart.\n",
        "\n",
        "\n",
        "*   Cross- Validation & Hyperparameter Tuning\n",
        "\n",
        "*   Have you seen any improvement? Note down the improvement with updates Evaluation metric Score Chart.\n",
        "\n",
        "*   Explain each evaluation metric's indication towards business and the business impact pf the ML model used.\n",
        "\n",
        "\n",
        "\n",
        "\n",
        "\n",
        "\n",
        "\n",
        "\n",
        "\n",
        "\n",
        "\n",
        "\n",
        "\n",
        "\n",
        "\n",
        "\n",
        "\n",
        "\n"
      ],
      "metadata": {
        "id": "ZrxVaUj-hHfC"
      }
    },
    {
      "cell_type": "markdown",
      "source": [
        "# ***Let's Begin !***"
      ],
      "metadata": {
        "id": "O_i_v8NEhb9l"
      }
    },
    {
      "cell_type": "markdown",
      "source": [
        "## ***1. Know Your Data***"
      ],
      "metadata": {
        "id": "HhfV-JJviCcP"
      }
    },
    {
      "cell_type": "markdown",
      "source": [
        "### Import Libraries"
      ],
      "metadata": {
        "id": "Y3lxredqlCYt"
      }
    },
    {
      "cell_type": "code",
      "source": [
        "# Import Libraries\n",
        "import numpy as np\n",
        "import pandas as pd\n",
        "import matplotlib.pyplot as plt\n",
        "import seaborn as sns\n",
        "%matplotlib inline\n",
        "\n",
        "import plotly.graph_objects as go\n",
        "import plotly.express as px\n",
        "from plotly.subplots import make_subplots\n",
        "from plotly.offline import init_notebook_mode, iplot\n",
        "import plotly.offline as po\n",
        "\n",
        "from wordcloud import WordCloud\n",
        "\n",
        "# Importing warnings library\n",
        "import warnings\n",
        "warnings.filterwarnings('ignore')"
      ],
      "metadata": {
        "id": "M8Vqi-pPk-HR"
      },
      "execution_count": 48,
      "outputs": []
    },
    {
      "cell_type": "markdown",
      "source": [
        "### Dataset Loading"
      ],
      "metadata": {
        "id": "3RnN4peoiCZX"
      }
    },
    {
      "cell_type": "code",
      "source": [
        "from google.colab import drive\n",
        "drive.mount('/content/drive')"
      ],
      "metadata": {
        "id": "wOh4oDr1T2yb",
        "colab": {
          "base_uri": "https://localhost:8080/"
        },
        "outputId": "4047d736-a779-4d6e-b4dd-d0a492f26148"
      },
      "execution_count": 2,
      "outputs": [
        {
          "output_type": "stream",
          "name": "stdout",
          "text": [
            "Mounted at /content/drive\n"
          ]
        }
      ]
    },
    {
      "cell_type": "code",
      "source": [
        "# Load Dataset\n",
        "nf_df = pd.read_csv(\"/content/drive/MyDrive/Colab Notebooks/Almabeter/4.ML/4.Unsupervised Algorithms /Project/Unsupervised-Netflix_clustering/NETFLIX MOVIES AND TV SHOWS CLUSTERING.csv\")"
      ],
      "metadata": {
        "id": "4CkvbW_SlZ_R"
      },
      "execution_count": 5,
      "outputs": []
    },
    {
      "cell_type": "markdown",
      "source": [
        "### Dataset First View"
      ],
      "metadata": {
        "id": "x71ZqKXriCWQ"
      }
    },
    {
      "cell_type": "code",
      "source": [
        "# Dataset First Look\n",
        "nf_df.head()"
      ],
      "metadata": {
        "id": "LWNFOSvLl09H",
        "colab": {
          "base_uri": "https://localhost:8080/",
          "height": 424
        },
        "outputId": "7efe6804-fd56-4454-b7a3-0e8392053313"
      },
      "execution_count": 6,
      "outputs": [
        {
          "output_type": "execute_result",
          "data": {
            "text/plain": [
              "  show_id     type  title           director  \\\n",
              "0      s1  TV Show     3%                NaN   \n",
              "1      s2    Movie   7:19  Jorge Michel Grau   \n",
              "2      s3    Movie  23:59       Gilbert Chan   \n",
              "3      s4    Movie      9        Shane Acker   \n",
              "4      s5    Movie     21     Robert Luketic   \n",
              "\n",
              "                                                cast        country  \\\n",
              "0  João Miguel, Bianca Comparato, Michel Gomes, R...         Brazil   \n",
              "1  Demián Bichir, Héctor Bonilla, Oscar Serrano, ...         Mexico   \n",
              "2  Tedd Chan, Stella Chung, Henley Hii, Lawrence ...      Singapore   \n",
              "3  Elijah Wood, John C. Reilly, Jennifer Connelly...  United States   \n",
              "4  Jim Sturgess, Kevin Spacey, Kate Bosworth, Aar...  United States   \n",
              "\n",
              "          date_added  release_year rating   duration  \\\n",
              "0    August 14, 2020          2020  TV-MA  4 Seasons   \n",
              "1  December 23, 2016          2016  TV-MA     93 min   \n",
              "2  December 20, 2018          2011      R     78 min   \n",
              "3  November 16, 2017          2009  PG-13     80 min   \n",
              "4    January 1, 2020          2008  PG-13    123 min   \n",
              "\n",
              "                                           listed_in  \\\n",
              "0  International TV Shows, TV Dramas, TV Sci-Fi &...   \n",
              "1                       Dramas, International Movies   \n",
              "2                Horror Movies, International Movies   \n",
              "3  Action & Adventure, Independent Movies, Sci-Fi...   \n",
              "4                                             Dramas   \n",
              "\n",
              "                                         description  \n",
              "0  In a future where the elite inhabit an island ...  \n",
              "1  After a devastating earthquake hits Mexico Cit...  \n",
              "2  When an army recruit is found dead, his fellow...  \n",
              "3  In a postapocalyptic world, rag-doll robots hi...  \n",
              "4  A brilliant group of students become card-coun...  "
            ],
            "text/html": [
              "\n",
              "  <div id=\"df-70969e13-58c5-4ce2-9133-02c91c581f6e\">\n",
              "    <div class=\"colab-df-container\">\n",
              "      <div>\n",
              "<style scoped>\n",
              "    .dataframe tbody tr th:only-of-type {\n",
              "        vertical-align: middle;\n",
              "    }\n",
              "\n",
              "    .dataframe tbody tr th {\n",
              "        vertical-align: top;\n",
              "    }\n",
              "\n",
              "    .dataframe thead th {\n",
              "        text-align: right;\n",
              "    }\n",
              "</style>\n",
              "<table border=\"1\" class=\"dataframe\">\n",
              "  <thead>\n",
              "    <tr style=\"text-align: right;\">\n",
              "      <th></th>\n",
              "      <th>show_id</th>\n",
              "      <th>type</th>\n",
              "      <th>title</th>\n",
              "      <th>director</th>\n",
              "      <th>cast</th>\n",
              "      <th>country</th>\n",
              "      <th>date_added</th>\n",
              "      <th>release_year</th>\n",
              "      <th>rating</th>\n",
              "      <th>duration</th>\n",
              "      <th>listed_in</th>\n",
              "      <th>description</th>\n",
              "    </tr>\n",
              "  </thead>\n",
              "  <tbody>\n",
              "    <tr>\n",
              "      <th>0</th>\n",
              "      <td>s1</td>\n",
              "      <td>TV Show</td>\n",
              "      <td>3%</td>\n",
              "      <td>NaN</td>\n",
              "      <td>João Miguel, Bianca Comparato, Michel Gomes, R...</td>\n",
              "      <td>Brazil</td>\n",
              "      <td>August 14, 2020</td>\n",
              "      <td>2020</td>\n",
              "      <td>TV-MA</td>\n",
              "      <td>4 Seasons</td>\n",
              "      <td>International TV Shows, TV Dramas, TV Sci-Fi &amp;...</td>\n",
              "      <td>In a future where the elite inhabit an island ...</td>\n",
              "    </tr>\n",
              "    <tr>\n",
              "      <th>1</th>\n",
              "      <td>s2</td>\n",
              "      <td>Movie</td>\n",
              "      <td>7:19</td>\n",
              "      <td>Jorge Michel Grau</td>\n",
              "      <td>Demián Bichir, Héctor Bonilla, Oscar Serrano, ...</td>\n",
              "      <td>Mexico</td>\n",
              "      <td>December 23, 2016</td>\n",
              "      <td>2016</td>\n",
              "      <td>TV-MA</td>\n",
              "      <td>93 min</td>\n",
              "      <td>Dramas, International Movies</td>\n",
              "      <td>After a devastating earthquake hits Mexico Cit...</td>\n",
              "    </tr>\n",
              "    <tr>\n",
              "      <th>2</th>\n",
              "      <td>s3</td>\n",
              "      <td>Movie</td>\n",
              "      <td>23:59</td>\n",
              "      <td>Gilbert Chan</td>\n",
              "      <td>Tedd Chan, Stella Chung, Henley Hii, Lawrence ...</td>\n",
              "      <td>Singapore</td>\n",
              "      <td>December 20, 2018</td>\n",
              "      <td>2011</td>\n",
              "      <td>R</td>\n",
              "      <td>78 min</td>\n",
              "      <td>Horror Movies, International Movies</td>\n",
              "      <td>When an army recruit is found dead, his fellow...</td>\n",
              "    </tr>\n",
              "    <tr>\n",
              "      <th>3</th>\n",
              "      <td>s4</td>\n",
              "      <td>Movie</td>\n",
              "      <td>9</td>\n",
              "      <td>Shane Acker</td>\n",
              "      <td>Elijah Wood, John C. Reilly, Jennifer Connelly...</td>\n",
              "      <td>United States</td>\n",
              "      <td>November 16, 2017</td>\n",
              "      <td>2009</td>\n",
              "      <td>PG-13</td>\n",
              "      <td>80 min</td>\n",
              "      <td>Action &amp; Adventure, Independent Movies, Sci-Fi...</td>\n",
              "      <td>In a postapocalyptic world, rag-doll robots hi...</td>\n",
              "    </tr>\n",
              "    <tr>\n",
              "      <th>4</th>\n",
              "      <td>s5</td>\n",
              "      <td>Movie</td>\n",
              "      <td>21</td>\n",
              "      <td>Robert Luketic</td>\n",
              "      <td>Jim Sturgess, Kevin Spacey, Kate Bosworth, Aar...</td>\n",
              "      <td>United States</td>\n",
              "      <td>January 1, 2020</td>\n",
              "      <td>2008</td>\n",
              "      <td>PG-13</td>\n",
              "      <td>123 min</td>\n",
              "      <td>Dramas</td>\n",
              "      <td>A brilliant group of students become card-coun...</td>\n",
              "    </tr>\n",
              "  </tbody>\n",
              "</table>\n",
              "</div>\n",
              "      <button class=\"colab-df-convert\" onclick=\"convertToInteractive('df-70969e13-58c5-4ce2-9133-02c91c581f6e')\"\n",
              "              title=\"Convert this dataframe to an interactive table.\"\n",
              "              style=\"display:none;\">\n",
              "        \n",
              "  <svg xmlns=\"http://www.w3.org/2000/svg\" height=\"24px\"viewBox=\"0 0 24 24\"\n",
              "       width=\"24px\">\n",
              "    <path d=\"M0 0h24v24H0V0z\" fill=\"none\"/>\n",
              "    <path d=\"M18.56 5.44l.94 2.06.94-2.06 2.06-.94-2.06-.94-.94-2.06-.94 2.06-2.06.94zm-11 1L8.5 8.5l.94-2.06 2.06-.94-2.06-.94L8.5 2.5l-.94 2.06-2.06.94zm10 10l.94 2.06.94-2.06 2.06-.94-2.06-.94-.94-2.06-.94 2.06-2.06.94z\"/><path d=\"M17.41 7.96l-1.37-1.37c-.4-.4-.92-.59-1.43-.59-.52 0-1.04.2-1.43.59L10.3 9.45l-7.72 7.72c-.78.78-.78 2.05 0 2.83L4 21.41c.39.39.9.59 1.41.59.51 0 1.02-.2 1.41-.59l7.78-7.78 2.81-2.81c.8-.78.8-2.07 0-2.86zM5.41 20L4 18.59l7.72-7.72 1.47 1.35L5.41 20z\"/>\n",
              "  </svg>\n",
              "      </button>\n",
              "      \n",
              "  <style>\n",
              "    .colab-df-container {\n",
              "      display:flex;\n",
              "      flex-wrap:wrap;\n",
              "      gap: 12px;\n",
              "    }\n",
              "\n",
              "    .colab-df-convert {\n",
              "      background-color: #E8F0FE;\n",
              "      border: none;\n",
              "      border-radius: 50%;\n",
              "      cursor: pointer;\n",
              "      display: none;\n",
              "      fill: #1967D2;\n",
              "      height: 32px;\n",
              "      padding: 0 0 0 0;\n",
              "      width: 32px;\n",
              "    }\n",
              "\n",
              "    .colab-df-convert:hover {\n",
              "      background-color: #E2EBFA;\n",
              "      box-shadow: 0px 1px 2px rgba(60, 64, 67, 0.3), 0px 1px 3px 1px rgba(60, 64, 67, 0.15);\n",
              "      fill: #174EA6;\n",
              "    }\n",
              "\n",
              "    [theme=dark] .colab-df-convert {\n",
              "      background-color: #3B4455;\n",
              "      fill: #D2E3FC;\n",
              "    }\n",
              "\n",
              "    [theme=dark] .colab-df-convert:hover {\n",
              "      background-color: #434B5C;\n",
              "      box-shadow: 0px 1px 3px 1px rgba(0, 0, 0, 0.15);\n",
              "      filter: drop-shadow(0px 1px 2px rgba(0, 0, 0, 0.3));\n",
              "      fill: #FFFFFF;\n",
              "    }\n",
              "  </style>\n",
              "\n",
              "      <script>\n",
              "        const buttonEl =\n",
              "          document.querySelector('#df-70969e13-58c5-4ce2-9133-02c91c581f6e button.colab-df-convert');\n",
              "        buttonEl.style.display =\n",
              "          google.colab.kernel.accessAllowed ? 'block' : 'none';\n",
              "\n",
              "        async function convertToInteractive(key) {\n",
              "          const element = document.querySelector('#df-70969e13-58c5-4ce2-9133-02c91c581f6e');\n",
              "          const dataTable =\n",
              "            await google.colab.kernel.invokeFunction('convertToInteractive',\n",
              "                                                     [key], {});\n",
              "          if (!dataTable) return;\n",
              "\n",
              "          const docLinkHtml = 'Like what you see? Visit the ' +\n",
              "            '<a target=\"_blank\" href=https://colab.research.google.com/notebooks/data_table.ipynb>data table notebook</a>'\n",
              "            + ' to learn more about interactive tables.';\n",
              "          element.innerHTML = '';\n",
              "          dataTable['output_type'] = 'display_data';\n",
              "          await google.colab.output.renderOutput(dataTable, element);\n",
              "          const docLink = document.createElement('div');\n",
              "          docLink.innerHTML = docLinkHtml;\n",
              "          element.appendChild(docLink);\n",
              "        }\n",
              "      </script>\n",
              "    </div>\n",
              "  </div>\n",
              "  "
            ]
          },
          "metadata": {},
          "execution_count": 6
        }
      ]
    },
    {
      "cell_type": "code",
      "source": [
        "nf_df.tail()"
      ],
      "metadata": {
        "colab": {
          "base_uri": "https://localhost:8080/",
          "height": 476
        },
        "id": "2lgAwdXaQR2T",
        "outputId": "a94ad80d-90b3-4a61-f3e7-e399256b7a82"
      },
      "execution_count": 7,
      "outputs": [
        {
          "output_type": "execute_result",
          "data": {
            "text/plain": [
              "     show_id     type                                    title     director  \\\n",
              "7782   s7783    Movie                                     Zozo  Josef Fares   \n",
              "7783   s7784    Movie                                   Zubaan  Mozez Singh   \n",
              "7784   s7785    Movie                        Zulu Man in Japan          NaN   \n",
              "7785   s7786  TV Show                    Zumbo's Just Desserts          NaN   \n",
              "7786   s7787    Movie  ZZ TOP: THAT LITTLE OL' BAND FROM TEXAS     Sam Dunn   \n",
              "\n",
              "                                                   cast  \\\n",
              "7782  Imad Creidi, Antoinette Turk, Elias Gergi, Car...   \n",
              "7783  Vicky Kaushal, Sarah-Jane Dias, Raaghav Chanan...   \n",
              "7784                                            Nasty C   \n",
              "7785                         Adriano Zumbo, Rachel Khoo   \n",
              "7786                                                NaN   \n",
              "\n",
              "                                                country          date_added  \\\n",
              "7782  Sweden, Czech Republic, United Kingdom, Denmar...    October 19, 2020   \n",
              "7783                                              India       March 2, 2019   \n",
              "7784                                                NaN  September 25, 2020   \n",
              "7785                                          Australia    October 31, 2020   \n",
              "7786              United Kingdom, Canada, United States       March 1, 2020   \n",
              "\n",
              "      release_year rating  duration  \\\n",
              "7782          2005  TV-MA    99 min   \n",
              "7783          2015  TV-14   111 min   \n",
              "7784          2019  TV-MA    44 min   \n",
              "7785          2019  TV-PG  1 Season   \n",
              "7786          2019  TV-MA    90 min   \n",
              "\n",
              "                                              listed_in  \\\n",
              "7782                       Dramas, International Movies   \n",
              "7783     Dramas, International Movies, Music & Musicals   \n",
              "7784  Documentaries, International Movies, Music & M...   \n",
              "7785                 International TV Shows, Reality TV   \n",
              "7786                    Documentaries, Music & Musicals   \n",
              "\n",
              "                                            description  \n",
              "7782  When Lebanon's Civil War deprives Zozo of his ...  \n",
              "7783  A scrappy but poor boy worms his way into a ty...  \n",
              "7784  In this documentary, South African rapper Nast...  \n",
              "7785  Dessert wizard Adriano Zumbo looks for the nex...  \n",
              "7786  This documentary delves into the mystique behi...  "
            ],
            "text/html": [
              "\n",
              "  <div id=\"df-eaf2465d-1926-44cb-a582-e8ec890761ed\">\n",
              "    <div class=\"colab-df-container\">\n",
              "      <div>\n",
              "<style scoped>\n",
              "    .dataframe tbody tr th:only-of-type {\n",
              "        vertical-align: middle;\n",
              "    }\n",
              "\n",
              "    .dataframe tbody tr th {\n",
              "        vertical-align: top;\n",
              "    }\n",
              "\n",
              "    .dataframe thead th {\n",
              "        text-align: right;\n",
              "    }\n",
              "</style>\n",
              "<table border=\"1\" class=\"dataframe\">\n",
              "  <thead>\n",
              "    <tr style=\"text-align: right;\">\n",
              "      <th></th>\n",
              "      <th>show_id</th>\n",
              "      <th>type</th>\n",
              "      <th>title</th>\n",
              "      <th>director</th>\n",
              "      <th>cast</th>\n",
              "      <th>country</th>\n",
              "      <th>date_added</th>\n",
              "      <th>release_year</th>\n",
              "      <th>rating</th>\n",
              "      <th>duration</th>\n",
              "      <th>listed_in</th>\n",
              "      <th>description</th>\n",
              "    </tr>\n",
              "  </thead>\n",
              "  <tbody>\n",
              "    <tr>\n",
              "      <th>7782</th>\n",
              "      <td>s7783</td>\n",
              "      <td>Movie</td>\n",
              "      <td>Zozo</td>\n",
              "      <td>Josef Fares</td>\n",
              "      <td>Imad Creidi, Antoinette Turk, Elias Gergi, Car...</td>\n",
              "      <td>Sweden, Czech Republic, United Kingdom, Denmar...</td>\n",
              "      <td>October 19, 2020</td>\n",
              "      <td>2005</td>\n",
              "      <td>TV-MA</td>\n",
              "      <td>99 min</td>\n",
              "      <td>Dramas, International Movies</td>\n",
              "      <td>When Lebanon's Civil War deprives Zozo of his ...</td>\n",
              "    </tr>\n",
              "    <tr>\n",
              "      <th>7783</th>\n",
              "      <td>s7784</td>\n",
              "      <td>Movie</td>\n",
              "      <td>Zubaan</td>\n",
              "      <td>Mozez Singh</td>\n",
              "      <td>Vicky Kaushal, Sarah-Jane Dias, Raaghav Chanan...</td>\n",
              "      <td>India</td>\n",
              "      <td>March 2, 2019</td>\n",
              "      <td>2015</td>\n",
              "      <td>TV-14</td>\n",
              "      <td>111 min</td>\n",
              "      <td>Dramas, International Movies, Music &amp; Musicals</td>\n",
              "      <td>A scrappy but poor boy worms his way into a ty...</td>\n",
              "    </tr>\n",
              "    <tr>\n",
              "      <th>7784</th>\n",
              "      <td>s7785</td>\n",
              "      <td>Movie</td>\n",
              "      <td>Zulu Man in Japan</td>\n",
              "      <td>NaN</td>\n",
              "      <td>Nasty C</td>\n",
              "      <td>NaN</td>\n",
              "      <td>September 25, 2020</td>\n",
              "      <td>2019</td>\n",
              "      <td>TV-MA</td>\n",
              "      <td>44 min</td>\n",
              "      <td>Documentaries, International Movies, Music &amp; M...</td>\n",
              "      <td>In this documentary, South African rapper Nast...</td>\n",
              "    </tr>\n",
              "    <tr>\n",
              "      <th>7785</th>\n",
              "      <td>s7786</td>\n",
              "      <td>TV Show</td>\n",
              "      <td>Zumbo's Just Desserts</td>\n",
              "      <td>NaN</td>\n",
              "      <td>Adriano Zumbo, Rachel Khoo</td>\n",
              "      <td>Australia</td>\n",
              "      <td>October 31, 2020</td>\n",
              "      <td>2019</td>\n",
              "      <td>TV-PG</td>\n",
              "      <td>1 Season</td>\n",
              "      <td>International TV Shows, Reality TV</td>\n",
              "      <td>Dessert wizard Adriano Zumbo looks for the nex...</td>\n",
              "    </tr>\n",
              "    <tr>\n",
              "      <th>7786</th>\n",
              "      <td>s7787</td>\n",
              "      <td>Movie</td>\n",
              "      <td>ZZ TOP: THAT LITTLE OL' BAND FROM TEXAS</td>\n",
              "      <td>Sam Dunn</td>\n",
              "      <td>NaN</td>\n",
              "      <td>United Kingdom, Canada, United States</td>\n",
              "      <td>March 1, 2020</td>\n",
              "      <td>2019</td>\n",
              "      <td>TV-MA</td>\n",
              "      <td>90 min</td>\n",
              "      <td>Documentaries, Music &amp; Musicals</td>\n",
              "      <td>This documentary delves into the mystique behi...</td>\n",
              "    </tr>\n",
              "  </tbody>\n",
              "</table>\n",
              "</div>\n",
              "      <button class=\"colab-df-convert\" onclick=\"convertToInteractive('df-eaf2465d-1926-44cb-a582-e8ec890761ed')\"\n",
              "              title=\"Convert this dataframe to an interactive table.\"\n",
              "              style=\"display:none;\">\n",
              "        \n",
              "  <svg xmlns=\"http://www.w3.org/2000/svg\" height=\"24px\"viewBox=\"0 0 24 24\"\n",
              "       width=\"24px\">\n",
              "    <path d=\"M0 0h24v24H0V0z\" fill=\"none\"/>\n",
              "    <path d=\"M18.56 5.44l.94 2.06.94-2.06 2.06-.94-2.06-.94-.94-2.06-.94 2.06-2.06.94zm-11 1L8.5 8.5l.94-2.06 2.06-.94-2.06-.94L8.5 2.5l-.94 2.06-2.06.94zm10 10l.94 2.06.94-2.06 2.06-.94-2.06-.94-.94-2.06-.94 2.06-2.06.94z\"/><path d=\"M17.41 7.96l-1.37-1.37c-.4-.4-.92-.59-1.43-.59-.52 0-1.04.2-1.43.59L10.3 9.45l-7.72 7.72c-.78.78-.78 2.05 0 2.83L4 21.41c.39.39.9.59 1.41.59.51 0 1.02-.2 1.41-.59l7.78-7.78 2.81-2.81c.8-.78.8-2.07 0-2.86zM5.41 20L4 18.59l7.72-7.72 1.47 1.35L5.41 20z\"/>\n",
              "  </svg>\n",
              "      </button>\n",
              "      \n",
              "  <style>\n",
              "    .colab-df-container {\n",
              "      display:flex;\n",
              "      flex-wrap:wrap;\n",
              "      gap: 12px;\n",
              "    }\n",
              "\n",
              "    .colab-df-convert {\n",
              "      background-color: #E8F0FE;\n",
              "      border: none;\n",
              "      border-radius: 50%;\n",
              "      cursor: pointer;\n",
              "      display: none;\n",
              "      fill: #1967D2;\n",
              "      height: 32px;\n",
              "      padding: 0 0 0 0;\n",
              "      width: 32px;\n",
              "    }\n",
              "\n",
              "    .colab-df-convert:hover {\n",
              "      background-color: #E2EBFA;\n",
              "      box-shadow: 0px 1px 2px rgba(60, 64, 67, 0.3), 0px 1px 3px 1px rgba(60, 64, 67, 0.15);\n",
              "      fill: #174EA6;\n",
              "    }\n",
              "\n",
              "    [theme=dark] .colab-df-convert {\n",
              "      background-color: #3B4455;\n",
              "      fill: #D2E3FC;\n",
              "    }\n",
              "\n",
              "    [theme=dark] .colab-df-convert:hover {\n",
              "      background-color: #434B5C;\n",
              "      box-shadow: 0px 1px 3px 1px rgba(0, 0, 0, 0.15);\n",
              "      filter: drop-shadow(0px 1px 2px rgba(0, 0, 0, 0.3));\n",
              "      fill: #FFFFFF;\n",
              "    }\n",
              "  </style>\n",
              "\n",
              "      <script>\n",
              "        const buttonEl =\n",
              "          document.querySelector('#df-eaf2465d-1926-44cb-a582-e8ec890761ed button.colab-df-convert');\n",
              "        buttonEl.style.display =\n",
              "          google.colab.kernel.accessAllowed ? 'block' : 'none';\n",
              "\n",
              "        async function convertToInteractive(key) {\n",
              "          const element = document.querySelector('#df-eaf2465d-1926-44cb-a582-e8ec890761ed');\n",
              "          const dataTable =\n",
              "            await google.colab.kernel.invokeFunction('convertToInteractive',\n",
              "                                                     [key], {});\n",
              "          if (!dataTable) return;\n",
              "\n",
              "          const docLinkHtml = 'Like what you see? Visit the ' +\n",
              "            '<a target=\"_blank\" href=https://colab.research.google.com/notebooks/data_table.ipynb>data table notebook</a>'\n",
              "            + ' to learn more about interactive tables.';\n",
              "          element.innerHTML = '';\n",
              "          dataTable['output_type'] = 'display_data';\n",
              "          await google.colab.output.renderOutput(dataTable, element);\n",
              "          const docLink = document.createElement('div');\n",
              "          docLink.innerHTML = docLinkHtml;\n",
              "          element.appendChild(docLink);\n",
              "        }\n",
              "      </script>\n",
              "    </div>\n",
              "  </div>\n",
              "  "
            ]
          },
          "metadata": {},
          "execution_count": 7
        }
      ]
    },
    {
      "cell_type": "markdown",
      "source": [
        "### Dataset Rows & Columns count"
      ],
      "metadata": {
        "id": "7hBIi_osiCS2"
      }
    },
    {
      "cell_type": "code",
      "source": [
        "# Dataset Rows & Columns count\n",
        "nf_df.shape"
      ],
      "metadata": {
        "id": "Kllu7SJgmLij",
        "colab": {
          "base_uri": "https://localhost:8080/"
        },
        "outputId": "ecde196c-9663-4fa2-c458-485fd50e38a9"
      },
      "execution_count": 8,
      "outputs": [
        {
          "output_type": "execute_result",
          "data": {
            "text/plain": [
              "(7787, 12)"
            ]
          },
          "metadata": {},
          "execution_count": 8
        }
      ]
    },
    {
      "cell_type": "markdown",
      "source": [
        "### Dataset Information"
      ],
      "metadata": {
        "id": "JlHwYmJAmNHm"
      }
    },
    {
      "cell_type": "code",
      "source": [
        "# Dataset Info\n",
        "nf_df.info()"
      ],
      "metadata": {
        "id": "e9hRXRi6meOf",
        "colab": {
          "base_uri": "https://localhost:8080/"
        },
        "outputId": "d613f9c3-6c59-4873-a980-8a5cd9d1f858"
      },
      "execution_count": 9,
      "outputs": [
        {
          "output_type": "stream",
          "name": "stdout",
          "text": [
            "<class 'pandas.core.frame.DataFrame'>\n",
            "RangeIndex: 7787 entries, 0 to 7786\n",
            "Data columns (total 12 columns):\n",
            " #   Column        Non-Null Count  Dtype \n",
            "---  ------        --------------  ----- \n",
            " 0   show_id       7787 non-null   object\n",
            " 1   type          7787 non-null   object\n",
            " 2   title         7787 non-null   object\n",
            " 3   director      5398 non-null   object\n",
            " 4   cast          7069 non-null   object\n",
            " 5   country       7280 non-null   object\n",
            " 6   date_added    7777 non-null   object\n",
            " 7   release_year  7787 non-null   int64 \n",
            " 8   rating        7780 non-null   object\n",
            " 9   duration      7787 non-null   object\n",
            " 10  listed_in     7787 non-null   object\n",
            " 11  description   7787 non-null   object\n",
            "dtypes: int64(1), object(11)\n",
            "memory usage: 730.2+ KB\n"
          ]
        }
      ]
    },
    {
      "cell_type": "markdown",
      "source": [
        "#### Duplicate Values"
      ],
      "metadata": {
        "id": "35m5QtbWiB9F"
      }
    },
    {
      "cell_type": "code",
      "source": [
        "# Dataset Duplicate Value Count\n",
        "# Check for duplicate rows\n",
        "num_duplicates = nf_df.duplicated().sum()\n",
        "\n",
        "print(f\"Number of duplicate rows: {num_duplicates}\")"
      ],
      "metadata": {
        "id": "1sLdpKYkmox0",
        "colab": {
          "base_uri": "https://localhost:8080/"
        },
        "outputId": "3ba5a8fc-97f7-49de-ff03-9167853e4842"
      },
      "execution_count": 12,
      "outputs": [
        {
          "output_type": "stream",
          "name": "stdout",
          "text": [
            "Number of duplicate rows: 0\n"
          ]
        }
      ]
    },
    {
      "cell_type": "markdown",
      "source": [
        "#### Missing Values/Null Values"
      ],
      "metadata": {
        "id": "PoPl-ycgm1ru"
      }
    },
    {
      "cell_type": "code",
      "source": [
        "# Missing Values/Null Values Count\n",
        "# Check for null values\n",
        "null_values = nf_df.isnull().sum()\n",
        "print(null_values)"
      ],
      "metadata": {
        "id": "GgHWkxvamxVg",
        "colab": {
          "base_uri": "https://localhost:8080/"
        },
        "outputId": "893d037d-e88e-409d-86e0-bf6b97c89b67"
      },
      "execution_count": 13,
      "outputs": [
        {
          "output_type": "stream",
          "name": "stdout",
          "text": [
            "show_id            0\n",
            "type               0\n",
            "title              0\n",
            "director        2389\n",
            "cast             718\n",
            "country          507\n",
            "date_added        10\n",
            "release_year       0\n",
            "rating             7\n",
            "duration           0\n",
            "listed_in          0\n",
            "description        0\n",
            "dtype: int64\n"
          ]
        }
      ]
    },
    {
      "cell_type": "code",
      "source": [
        "# Visualizing the missing values\n",
        "sns.heatmap(nf_df.isnull(), cmap='viridis')\n",
        "plt.show()"
      ],
      "metadata": {
        "id": "3q5wnI3om9sJ",
        "colab": {
          "base_uri": "https://localhost:8080/",
          "height": 512
        },
        "outputId": "bf3c28cd-5ccd-4a67-8924-b932bd6bec82"
      },
      "execution_count": 14,
      "outputs": [
        {
          "output_type": "display_data",
          "data": {
            "text/plain": [
              "<Figure size 640x480 with 2 Axes>"
            ],
            "image/png": "[encoded data removed]"
          },
          "metadata": {}
        }
      ]
    },
    {
      "cell_type": "markdown",
      "source": [
        "### What did you know about your dataset?"
      ],
      "metadata": {
        "id": "H0kj-8xxnORC"
      }
    },
    {
      "cell_type": "markdown",
      "source": [
        "Answer Here"
      ],
      "metadata": {
        "id": "gfoNAAC-nUe_"
      }
    },
    {
      "cell_type": "markdown",
      "source": [
        "## ***2. Understanding Your Variables***"
      ],
      "metadata": {
        "id": "nA9Y7ga8ng1Z"
      }
    },
    {
      "cell_type": "code",
      "source": [
        "# Dataset Columns\n",
        "nf_df.columns"
      ],
      "metadata": {
        "id": "j7xfkqrt5Ag5",
        "colab": {
          "base_uri": "https://localhost:8080/"
        },
        "outputId": "9f33240f-3faa-4be1-975d-a29f51d2db92"
      },
      "execution_count": 16,
      "outputs": [
        {
          "output_type": "execute_result",
          "data": {
            "text/plain": [
              "Index(['show_id', 'type', 'title', 'director', 'cast', 'country', 'date_added',\n",
              "       'release_year', 'rating', 'duration', 'listed_in', 'description'],\n",
              "      dtype='object')"
            ]
          },
          "metadata": {},
          "execution_count": 16
        }
      ]
    },
    {
      "cell_type": "code",
      "source": [
        "# Dataset Describe\n",
        "nf_df.describe(include='all').transpose()"
      ],
      "metadata": {
        "id": "DnOaZdaE5Q5t",
        "colab": {
          "base_uri": "https://localhost:8080/",
          "height": 426
        },
        "outputId": "6df4a80a-ddd5-4db6-f3fd-336758ed60ec"
      },
      "execution_count": 19,
      "outputs": [
        {
          "output_type": "execute_result",
          "data": {
            "text/plain": [
              "               count unique  \\\n",
              "show_id         7787   7787   \n",
              "type            7787      2   \n",
              "title           7787   7787   \n",
              "director        5398   4049   \n",
              "cast            7069   6831   \n",
              "country         7280    681   \n",
              "date_added      7777   1565   \n",
              "release_year  7787.0    NaN   \n",
              "rating          7780     14   \n",
              "duration        7787    216   \n",
              "listed_in       7787    492   \n",
              "description     7787   7769   \n",
              "\n",
              "                                                            top  freq  \\\n",
              "show_id                                                      s1     1   \n",
              "type                                                      Movie  5377   \n",
              "title                                                        3%     1   \n",
              "director                                 Raúl Campos, Jan Suter    18   \n",
              "cast                                         David Attenborough    18   \n",
              "country                                           United States  2555   \n",
              "date_added                                      January 1, 2020   118   \n",
              "release_year                                                NaN   NaN   \n",
              "rating                                                    TV-MA  2863   \n",
              "duration                                               1 Season  1608   \n",
              "listed_in                                         Documentaries   334   \n",
              "description   Multiple women report their husbands as missin...     3   \n",
              "\n",
              "                    mean       std     min     25%     50%     75%     max  \n",
              "show_id              NaN       NaN     NaN     NaN     NaN     NaN     NaN  \n",
              "type                 NaN       NaN     NaN     NaN     NaN     NaN     NaN  \n",
              "title                NaN       NaN     NaN     NaN     NaN     NaN     NaN  \n",
              "director             NaN       NaN     NaN     NaN     NaN     NaN     NaN  \n",
              "cast                 NaN       NaN     NaN     NaN     NaN     NaN     NaN  \n",
              "country              NaN       NaN     NaN     NaN     NaN     NaN     NaN  \n",
              "date_added           NaN       NaN     NaN     NaN     NaN     NaN     NaN  \n",
              "release_year  2013.93258  8.757395  1925.0  2013.0  2017.0  2018.0  2021.0  \n",
              "rating               NaN       NaN     NaN     NaN     NaN     NaN     NaN  \n",
              "duration             NaN       NaN     NaN     NaN     NaN     NaN     NaN  \n",
              "listed_in            NaN       NaN     NaN     NaN     NaN     NaN     NaN  \n",
              "description          NaN       NaN     NaN     NaN     NaN     NaN     NaN  "
            ],
            "text/html": [
              "\n",
              "  <div id=\"df-5d082b48-d30c-4413-b8a2-ba2e44272944\">\n",
              "    <div class=\"colab-df-container\">\n",
              "      <div>\n",
              "<style scoped>\n",
              "    .dataframe tbody tr th:only-of-type {\n",
              "        vertical-align: middle;\n",
              "    }\n",
              "\n",
              "    .dataframe tbody tr th {\n",
              "        vertical-align: top;\n",
              "    }\n",
              "\n",
              "    .dataframe thead th {\n",
              "        text-align: right;\n",
              "    }\n",
              "</style>\n",
              "<table border=\"1\" class=\"dataframe\">\n",
              "  <thead>\n",
              "    <tr style=\"text-align: right;\">\n",
              "      <th></th>\n",
              "      <th>count</th>\n",
              "      <th>unique</th>\n",
              "      <th>top</th>\n",
              "      <th>freq</th>\n",
              "      <th>mean</th>\n",
              "      <th>std</th>\n",
              "      <th>min</th>\n",
              "      <th>25%</th>\n",
              "      <th>50%</th>\n",
              "      <th>75%</th>\n",
              "      <th>max</th>\n",
              "    </tr>\n",
              "  </thead>\n",
              "  <tbody>\n",
              "    <tr>\n",
              "      <th>show_id</th>\n",
              "      <td>7787</td>\n",
              "      <td>7787</td>\n",
              "      <td>s1</td>\n",
              "      <td>1</td>\n",
              "      <td>NaN</td>\n",
              "      <td>NaN</td>\n",
              "      <td>NaN</td>\n",
              "      <td>NaN</td>\n",
              "      <td>NaN</td>\n",
              "      <td>NaN</td>\n",
              "      <td>NaN</td>\n",
              "    </tr>\n",
              "    <tr>\n",
              "      <th>type</th>\n",
              "      <td>7787</td>\n",
              "      <td>2</td>\n",
              "      <td>Movie</td>\n",
              "      <td>5377</td>\n",
              "      <td>NaN</td>\n",
              "      <td>NaN</td>\n",
              "      <td>NaN</td>\n",
              "      <td>NaN</td>\n",
              "      <td>NaN</td>\n",
              "      <td>NaN</td>\n",
              "      <td>NaN</td>\n",
              "    </tr>\n",
              "    <tr>\n",
              "      <th>title</th>\n",
              "      <td>7787</td>\n",
              "      <td>7787</td>\n",
              "      <td>3%</td>\n",
              "      <td>1</td>\n",
              "      <td>NaN</td>\n",
              "      <td>NaN</td>\n",
              "      <td>NaN</td>\n",
              "      <td>NaN</td>\n",
              "      <td>NaN</td>\n",
              "      <td>NaN</td>\n",
              "      <td>NaN</td>\n",
              "    </tr>\n",
              "    <tr>\n",
              "      <th>director</th>\n",
              "      <td>5398</td>\n",
              "      <td>4049</td>\n",
              "      <td>Raúl Campos, Jan Suter</td>\n",
              "      <td>18</td>\n",
              "      <td>NaN</td>\n",
              "      <td>NaN</td>\n",
              "      <td>NaN</td>\n",
              "      <td>NaN</td>\n",
              "      <td>NaN</td>\n",
              "      <td>NaN</td>\n",
              "      <td>NaN</td>\n",
              "    </tr>\n",
              "    <tr>\n",
              "      <th>cast</th>\n",
              "      <td>7069</td>\n",
              "      <td>6831</td>\n",
              "      <td>David Attenborough</td>\n",
              "      <td>18</td>\n",
              "      <td>NaN</td>\n",
              "      <td>NaN</td>\n",
              "      <td>NaN</td>\n",
              "      <td>NaN</td>\n",
              "      <td>NaN</td>\n",
              "      <td>NaN</td>\n",
              "      <td>NaN</td>\n",
              "    </tr>\n",
              "    <tr>\n",
              "      <th>country</th>\n",
              "      <td>7280</td>\n",
              "      <td>681</td>\n",
              "      <td>United States</td>\n",
              "      <td>2555</td>\n",
              "      <td>NaN</td>\n",
              "      <td>NaN</td>\n",
              "      <td>NaN</td>\n",
              "      <td>NaN</td>\n",
              "      <td>NaN</td>\n",
              "      <td>NaN</td>\n",
              "      <td>NaN</td>\n",
              "    </tr>\n",
              "    <tr>\n",
              "      <th>date_added</th>\n",
              "      <td>7777</td>\n",
              "      <td>1565</td>\n",
              "      <td>January 1, 2020</td>\n",
              "      <td>118</td>\n",
              "      <td>NaN</td>\n",
              "      <td>NaN</td>\n",
              "      <td>NaN</td>\n",
              "      <td>NaN</td>\n",
              "      <td>NaN</td>\n",
              "      <td>NaN</td>\n",
              "      <td>NaN</td>\n",
              "    </tr>\n",
              "    <tr>\n",
              "      <th>release_year</th>\n",
              "      <td>7787.0</td>\n",
              "      <td>NaN</td>\n",
              "      <td>NaN</td>\n",
              "      <td>NaN</td>\n",
              "      <td>2013.93258</td>\n",
              "      <td>8.757395</td>\n",
              "      <td>1925.0</td>\n",
              "      <td>2013.0</td>\n",
              "      <td>2017.0</td>\n",
              "      <td>2018.0</td>\n",
              "      <td>2021.0</td>\n",
              "    </tr>\n",
              "    <tr>\n",
              "      <th>rating</th>\n",
              "      <td>7780</td>\n",
              "      <td>14</td>\n",
              "      <td>TV-MA</td>\n",
              "      <td>2863</td>\n",
              "      <td>NaN</td>\n",
              "      <td>NaN</td>\n",
              "      <td>NaN</td>\n",
              "      <td>NaN</td>\n",
              "      <td>NaN</td>\n",
              "      <td>NaN</td>\n",
              "      <td>NaN</td>\n",
              "    </tr>\n",
              "    <tr>\n",
              "      <th>duration</th>\n",
              "      <td>7787</td>\n",
              "      <td>216</td>\n",
              "      <td>1 Season</td>\n",
              "      <td>1608</td>\n",
              "      <td>NaN</td>\n",
              "      <td>NaN</td>\n",
              "      <td>NaN</td>\n",
              "      <td>NaN</td>\n",
              "      <td>NaN</td>\n",
              "      <td>NaN</td>\n",
              "      <td>NaN</td>\n",
              "    </tr>\n",
              "    <tr>\n",
              "      <th>listed_in</th>\n",
              "      <td>7787</td>\n",
              "      <td>492</td>\n",
              "      <td>Documentaries</td>\n",
              "      <td>334</td>\n",
              "      <td>NaN</td>\n",
              "      <td>NaN</td>\n",
              "      <td>NaN</td>\n",
              "      <td>NaN</td>\n",
              "      <td>NaN</td>\n",
              "      <td>NaN</td>\n",
              "      <td>NaN</td>\n",
              "    </tr>\n",
              "    <tr>\n",
              "      <th>description</th>\n",
              "      <td>7787</td>\n",
              "      <td>7769</td>\n",
              "      <td>Multiple women report their husbands as missin...</td>\n",
              "      <td>3</td>\n",
              "      <td>NaN</td>\n",
              "      <td>NaN</td>\n",
              "      <td>NaN</td>\n",
              "      <td>NaN</td>\n",
              "      <td>NaN</td>\n",
              "      <td>NaN</td>\n",
              "      <td>NaN</td>\n",
              "    </tr>\n",
              "  </tbody>\n",
              "</table>\n",
              "</div>\n",
              "      <button class=\"colab-df-convert\" onclick=\"convertToInteractive('df-5d082b48-d30c-4413-b8a2-ba2e44272944')\"\n",
              "              title=\"Convert this dataframe to an interactive table.\"\n",
              "              style=\"display:none;\">\n",
              "        \n",
              "  <svg xmlns=\"http://www.w3.org/2000/svg\" height=\"24px\"viewBox=\"0 0 24 24\"\n",
              "       width=\"24px\">\n",
              "    <path d=\"M0 0h24v24H0V0z\" fill=\"none\"/>\n",
              "    <path d=\"M18.56 5.44l.94 2.06.94-2.06 2.06-.94-2.06-.94-.94-2.06-.94 2.06-2.06.94zm-11 1L8.5 8.5l.94-2.06 2.06-.94-2.06-.94L8.5 2.5l-.94 2.06-2.06.94zm10 10l.94 2.06.94-2.06 2.06-.94-2.06-.94-.94-2.06-.94 2.06-2.06.94z\"/><path d=\"M17.41 7.96l-1.37-1.37c-.4-.4-.92-.59-1.43-.59-.52 0-1.04.2-1.43.59L10.3 9.45l-7.72 7.72c-.78.78-.78 2.05 0 2.83L4 21.41c.39.39.9.59 1.41.59.51 0 1.02-.2 1.41-.59l7.78-7.78 2.81-2.81c.8-.78.8-2.07 0-2.86zM5.41 20L4 18.59l7.72-7.72 1.47 1.35L5.41 20z\"/>\n",
              "  </svg>\n",
              "      </button>\n",
              "      \n",
              "  <style>\n",
              "    .colab-df-container {\n",
              "      display:flex;\n",
              "      flex-wrap:wrap;\n",
              "      gap: 12px;\n",
              "    }\n",
              "\n",
              "    .colab-df-convert {\n",
              "      background-color: #E8F0FE;\n",
              "      border: none;\n",
              "      border-radius: 50%;\n",
              "      cursor: pointer;\n",
              "      display: none;\n",
              "      fill: #1967D2;\n",
              "      height: 32px;\n",
              "      padding: 0 0 0 0;\n",
              "      width: 32px;\n",
              "    }\n",
              "\n",
              "    .colab-df-convert:hover {\n",
              "      background-color: #E2EBFA;\n",
              "      box-shadow: 0px 1px 2px rgba(60, 64, 67, 0.3), 0px 1px 3px 1px rgba(60, 64, 67, 0.15);\n",
              "      fill: #174EA6;\n",
              "    }\n",
              "\n",
              "    [theme=dark] .colab-df-convert {\n",
              "      background-color: #3B4455;\n",
              "      fill: #D2E3FC;\n",
              "    }\n",
              "\n",
              "    [theme=dark] .colab-df-convert:hover {\n",
              "      background-color: #434B5C;\n",
              "      box-shadow: 0px 1px 3px 1px rgba(0, 0, 0, 0.15);\n",
              "      filter: drop-shadow(0px 1px 2px rgba(0, 0, 0, 0.3));\n",
              "      fill: #FFFFFF;\n",
              "    }\n",
              "  </style>\n",
              "\n",
              "      <script>\n",
              "        const buttonEl =\n",
              "          document.querySelector('#df-5d082b48-d30c-4413-b8a2-ba2e44272944 button.colab-df-convert');\n",
              "        buttonEl.style.display =\n",
              "          google.colab.kernel.accessAllowed ? 'block' : 'none';\n",
              "\n",
              "        async function convertToInteractive(key) {\n",
              "          const element = document.querySelector('#df-5d082b48-d30c-4413-b8a2-ba2e44272944');\n",
              "          const dataTable =\n",
              "            await google.colab.kernel.invokeFunction('convertToInteractive',\n",
              "                                                     [key], {});\n",
              "          if (!dataTable) return;\n",
              "\n",
              "          const docLinkHtml = 'Like what you see? Visit the ' +\n",
              "            '<a target=\"_blank\" href=https://colab.research.google.com/notebooks/data_table.ipynb>data table notebook</a>'\n",
              "            + ' to learn more about interactive tables.';\n",
              "          element.innerHTML = '';\n",
              "          dataTable['output_type'] = 'display_data';\n",
              "          await google.colab.output.renderOutput(dataTable, element);\n",
              "          const docLink = document.createElement('div');\n",
              "          docLink.innerHTML = docLinkHtml;\n",
              "          element.appendChild(docLink);\n",
              "        }\n",
              "      </script>\n",
              "    </div>\n",
              "  </div>\n",
              "  "
            ]
          },
          "metadata": {},
          "execution_count": 19
        }
      ]
    },
    {
      "cell_type": "markdown",
      "source": [
        "### Variables Description"
      ],
      "metadata": {
        "id": "PBTbrJXOngz2"
      }
    },
    {
      "cell_type": "markdown",
      "source": [
        "![image.png](data:image/png;base64,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)"
      ],
      "metadata": {
        "id": "aJV4KIxSnxay"
      }
    },
    {
      "cell_type": "markdown",
      "source": [
        "### Check Unique Values for each variable."
      ],
      "metadata": {
        "id": "u3PMJOP6ngxN"
      }
    },
    {
      "cell_type": "code",
      "source": [
        "# Check Unique Values for each variable.\n",
        "# Check for unique values in each column\n",
        "unique_values = nf_df.nunique().sort_values(ascending=False)\n",
        "print(unique_values)"
      ],
      "metadata": {
        "id": "zms12Yq5n-jE",
        "colab": {
          "base_uri": "https://localhost:8080/"
        },
        "outputId": "7700fbf0-c820-4d7a-e77a-52107096a898"
      },
      "execution_count": 20,
      "outputs": [
        {
          "output_type": "stream",
          "name": "stdout",
          "text": [
            "show_id         7787\n",
            "title           7787\n",
            "description     7769\n",
            "cast            6831\n",
            "director        4049\n",
            "date_added      1565\n",
            "country          681\n",
            "listed_in        492\n",
            "duration         216\n",
            "release_year      73\n",
            "rating            14\n",
            "type               2\n",
            "dtype: int64\n"
          ]
        }
      ]
    },
    {
      "cell_type": "markdown",
      "source": [
        "## 3. ***Data Wrangling***"
      ],
      "metadata": {
        "id": "dauF4eBmngu3"
      }
    },
    {
      "cell_type": "markdown",
      "source": [
        "### Data Wrangling Code"
      ],
      "metadata": {
        "id": "bKJF3rekwFvQ"
      }
    },
    {
      "cell_type": "code",
      "source": [
        "# Write your code to make your dataset analysis ready.\n",
        "import pandas as pd\n",
        "\n",
        "# Assuming 'nf_df' is the DataFrame containing the Netflix dataset\n",
        "\n",
        "# Fill missing values in 'director' column with 'Unknown'\n",
        "nf_df['director'] = nf_df['director'].fillna('Unknown')\n",
        "\n",
        "# Fill missing values in 'cast' column with 'Unknown'\n",
        "nf_df['cast'] = nf_df['cast'].fillna('Unknown')\n",
        "\n",
        "# Fill missing values in 'country' column with 'Unknown'\n",
        "nf_df['country'] = nf_df['country'].fillna('Unknown')\n",
        "\n",
        "# Fill missing values in 'date_added' column with the mode (most frequent value)\n",
        "nf_df['date_added'] = nf_df['date_added'].fillna(nf_df['date_added'].mode()[0])\n",
        "\n",
        "# Fill missing values in 'rating' column with 'Not Rated'\n",
        "nf_df['rating'] = nf_df['rating'].fillna('Not Rated')\n",
        "\n",
        "# Verify that there are no more missing values\n",
        "null_values = nf_df.isnull().sum()\n",
        "print(null_values)\n"
      ],
      "metadata": {
        "id": "wk-9a2fpoLcV",
        "colab": {
          "base_uri": "https://localhost:8080/"
        },
        "outputId": "30594846-53d0-443d-9b8a-570227553f7e"
      },
      "execution_count": 29,
      "outputs": [
        {
          "output_type": "stream",
          "name": "stdout",
          "text": [
            "show_id         0\n",
            "type            0\n",
            "title           0\n",
            "director        0\n",
            "cast            0\n",
            "country         0\n",
            "date_added      0\n",
            "release_year    0\n",
            "rating          0\n",
            "duration        0\n",
            "listed_in       0\n",
            "description     0\n",
            "dtype: int64\n"
          ]
        }
      ]
    },
    {
      "cell_type": "markdown",
      "source": [
        "### What all manipulations have you done and insights you found?"
      ],
      "metadata": {
        "id": "MSa1f5Uengrz"
      }
    },
    {
      "cell_type": "markdown",
      "source": [
        "Answer Here."
      ],
      "metadata": {
        "id": "LbyXE7I1olp8"
      }
    },
    {
      "cell_type": "markdown",
      "source": [
        "## ***4. Data Vizualization, Storytelling & Experimenting with charts : Understand the relationships between variables***"
      ],
      "metadata": {
        "id": "GF8Ens_Soomf"
      }
    },
    {
      "cell_type": "markdown",
      "source": [
        "#### Chart - 1"
      ],
      "metadata": {
        "id": "0wOQAZs5pc--"
      }
    },
    {
      "cell_type": "code",
      "source": [
        "# Chart - 1 visualization code\n",
        "# Count the number of each content type\n",
        "content_types = nf_df['type'].value_counts()\n",
        "\n",
        "# Create a bar chart\n",
        "plt.bar(content_types.index, content_types.values)\n",
        "plt.xlabel('Content Type')\n",
        "plt.ylabel('Count')\n",
        "plt.title('Content Type Distribution')\n",
        "plt.show()\n",
        "\n"
      ],
      "metadata": {
        "id": "7v_ESjsspbW7",
        "colab": {
          "base_uri": "https://localhost:8080/",
          "height": 472
        },
        "outputId": "3f995a87-cf99-47e5-88c9-3021e9867d53"
      },
      "execution_count": 39,
      "outputs": [
        {
          "output_type": "display_data",
          "data": {
            "text/plain": [
              "<Figure size 640x480 with 1 Axes>"
            ],
            "image/png": "[encoded data removed]"
          },
          "metadata": {}
        }
      ]
    },
    {
      "cell_type": "markdown",
      "source": [
        "##### 1. Why did you pick the specific chart?"
      ],
      "metadata": {
        "id": "K5QZ13OEpz2H"
      }
    },
    {
      "cell_type": "markdown",
      "source": [
        "Answer Here."
      ],
      "metadata": {
        "id": "XESiWehPqBRc"
      }
    },
    {
      "cell_type": "markdown",
      "source": [
        "##### 2. What is/are the insight(s) found from the chart?"
      ],
      "metadata": {
        "id": "lQ7QKXXCp7Bj"
      }
    },
    {
      "cell_type": "markdown",
      "source": [
        "Answer Here"
      ],
      "metadata": {
        "id": "C_j1G7yiqdRP"
      }
    },
    {
      "cell_type": "markdown",
      "source": [
        "##### 3. Will the gained insights help creating a positive business impact?\n",
        "Are there any insights that lead to negative growth? Justify with specific reason."
      ],
      "metadata": {
        "id": "448CDAPjqfQr"
      }
    },
    {
      "cell_type": "markdown",
      "source": [
        "Answer Here"
      ],
      "metadata": {
        "id": "3cspy4FjqxJW"
      }
    },
    {
      "cell_type": "markdown",
      "source": [
        "#### Chart - 2"
      ],
      "metadata": {
        "id": "KSlN3yHqYklG"
      }
    },
    {
      "cell_type": "code",
      "source": [
        "# Chart - 2 visualization code\n",
        "\n",
        "# Count the number of titles for each director and select the top 10\n",
        "top_directors = nf_df['director'].value_counts().head(10)\n",
        "\n",
        "# Create a bar chart\n",
        "plt.bar(top_directors.index, top_directors.values)\n",
        "plt.xlabel('Director')\n",
        "plt.ylabel('Count')\n",
        "plt.title('Top 10 Directors by Number of Titles')\n",
        "plt.xticks(rotation=45)\n",
        "plt.show()\n"
      ],
      "metadata": {
        "id": "R4YgtaqtYklH",
        "colab": {
          "base_uri": "https://localhost:8080/",
          "height": 583
        },
        "outputId": "2a7393eb-2929-4f84-a75f-24b06d5f40c9"
      },
      "execution_count": 40,
      "outputs": [
        {
          "output_type": "display_data",
          "data": {
            "text/plain": [
              "<Figure size 640x480 with 1 Axes>"
            ],
            "image/png": "[encoded data removed]"
          },
          "metadata": {}
        }
      ]
    },
    {
      "cell_type": "markdown",
      "source": [
        "##### 1. Why did you pick the specific chart?"
      ],
      "metadata": {
        "id": "t6dVpIINYklI"
      }
    },
    {
      "cell_type": "markdown",
      "source": [
        "Answer Here."
      ],
      "metadata": {
        "id": "5aaW0BYyYklI"
      }
    },
    {
      "cell_type": "markdown",
      "source": [
        "##### 2. What is/are the insight(s) found from the chart?"
      ],
      "metadata": {
        "id": "ijmpgYnKYklI"
      }
    },
    {
      "cell_type": "markdown",
      "source": [
        "Answer Here"
      ],
      "metadata": {
        "id": "PSx9atu2YklI"
      }
    },
    {
      "cell_type": "markdown",
      "source": [
        "##### 3. Will the gained insights help creating a positive business impact?\n",
        "Are there any insights that lead to negative growth? Justify with specific reason."
      ],
      "metadata": {
        "id": "-JiQyfWJYklI"
      }
    },
    {
      "cell_type": "markdown",
      "source": [
        "Answer Here"
      ],
      "metadata": {
        "id": "BcBbebzrYklV"
      }
    },
    {
      "cell_type": "markdown",
      "source": [
        "#### Chart - 3"
      ],
      "metadata": {
        "id": "EM7whBJCYoAo"
      }
    },
    {
      "cell_type": "code",
      "source": [
        "# Chart - 3 visualization code\n",
        "# Count the number of titles for each country and select the top 10\n",
        "top_countries = nf_df['country'].value_counts().head(10)\n",
        "\n",
        "# Create a bar chart\n",
        "plt.bar(top_countries.index, top_countries.values)\n",
        "plt.xlabel('Country')\n",
        "plt.ylabel('Count')\n",
        "plt.title('Top 10 Countries by Number of Titles')\n",
        "plt.xticks(rotation=45)\n",
        "plt.show()\n",
        "\n"
      ],
      "metadata": {
        "id": "t6GMdE67YoAp",
        "colab": {
          "base_uri": "https://localhost:8080/",
          "height": 546
        },
        "outputId": "81a56a23-d2ac-4652-90f9-6a45fb66e821"
      },
      "execution_count": 41,
      "outputs": [
        {
          "output_type": "display_data",
          "data": {
            "text/plain": [
              "<Figure size 640x480 with 1 Axes>"
            ],
            "image/png": "[encoded data removed]"
          },
          "metadata": {}
        }
      ]
    },
    {
      "cell_type": "markdown",
      "source": [
        "##### 1. Why did you pick the specific chart?"
      ],
      "metadata": {
        "id": "fge-S5ZAYoAp"
      }
    },
    {
      "cell_type": "markdown",
      "source": [
        "Answer Here."
      ],
      "metadata": {
        "id": "5dBItgRVYoAp"
      }
    },
    {
      "cell_type": "markdown",
      "source": [
        "##### 2. What is/are the insight(s) found from the chart?"
      ],
      "metadata": {
        "id": "85gYPyotYoAp"
      }
    },
    {
      "cell_type": "markdown",
      "source": [
        "Answer Here"
      ],
      "metadata": {
        "id": "4jstXR6OYoAp"
      }
    },
    {
      "cell_type": "markdown",
      "source": [
        "##### 3. Will the gained insights help creating a positive business impact?\n",
        "Are there any insights that lead to negative growth? Justify with specific reason."
      ],
      "metadata": {
        "id": "RoGjAbkUYoAp"
      }
    },
    {
      "cell_type": "markdown",
      "source": [
        "Answer Here"
      ],
      "metadata": {
        "id": "zfJ8IqMcYoAp"
      }
    },
    {
      "cell_type": "markdown",
      "source": [
        "#### Chart - 4"
      ],
      "metadata": {
        "id": "4Of9eVA-YrdM"
      }
    },
    {
      "cell_type": "code",
      "source": [
        "# Chart - 4 visualization code\n",
        "# Count the number of titles for each rating\n",
        "ratings = nf_df['rating'].value_counts()\n",
        "\n",
        "# Create a bar chart\n",
        "fig = px.bar(ratings, x=ratings.index, y=ratings.values,\n",
        "             labels={'x': 'Rating', 'y': 'Count'},\n",
        "             title='Rating Distribution')\n",
        "fig.update_layout(xaxis_tickangle=-45)\n",
        "\n",
        "fig.show()\n"
      ],
      "metadata": {
        "id": "irlUoxc8YrdO",
        "colab": {
          "base_uri": "https://localhost:8080/",
          "height": 542
        },
        "outputId": "459b9d33-e72b-4e46-a467-c2a46257803c"
      },
      "execution_count": 57,
      "outputs": [
        {
          "output_type": "display_data",
          "data": {
            "text/html": [
              "<html>\n",
              "<head><meta charset=\"utf-8\" /></head>\n",
              "<body>\n",
              "    <div>            <script src=\"https://cdnjs.cloudflare.com/ajax/libs/mathjax/2.7.5/MathJax.js?config=TeX-AMS-MML_SVG\"></script><script type=\"text/javascript\">if (window.MathJax && window.MathJax.Hub && window.MathJax.Hub.Config) {window.MathJax.Hub.Config({SVG: {font: \"STIX-Web\"}});}</script>                <script type=\"text/javascript\">window.PlotlyConfig = {MathJaxConfig: 'local'};</script>\n",
              "        <script src=\"https://cdn.plot.ly/plotly-2.18.2.min.js\"></script>                <div id=\"b913d1cf-7a2e-4431-8af2-987e65a73397\" class=\"plotly-graph-div\" style=\"height:525px; width:100%;\"></div>            <script type=\"text/javascript\">                                    window.PLOTLYENV=window.PLOTLYENV || {};                                    if (document.getElementById(\"b913d1cf-7a2e-4431-8af2-987e65a73397\")) {                    Plotly.newPlot(                        \"b913d1cf-7a2e-4431-8af2-987e65a73397\",                        [{\"alignmentgroup\":\"True\",\"hovertemplate\":\"index=%{x}<br>Count=%{y}<extra></extra>\",\"legendgroup\":\"\",\"marker\":{\"color\":\"#636efa\",\"pattern\":{\"shape\":\"\"}},\"name\":\"\",\"offsetgroup\":\"\",\"orientation\":\"v\",\"showlegend\":false,\"textposition\":\"auto\",\"x\":[\"TV-MA\",\"TV-14\",\"TV-PG\",\"R\",\"PG-13\",\"TV-Y\",\"TV-Y7\",\"PG\",\"TV-G\",\"NR\",\"G\",\"Not Rated\",\"TV-Y7-FV\",\"UR\",\"NC-17\"],\"xaxis\":\"x\",\"y\":[2863,1931,806,665,386,280,271,247,194,84,39,7,6,5,3],\"yaxis\":\"y\",\"type\":\"bar\"}],                        {\"template\":{\"data\":{\"histogram2dcontour\":[{\"type\":\"histogram2dcontour\",\"colorbar\":{\"outlinewidth\":0,\"ticks\":\"\"},\"colorscale\":[[0.0,\"#0d0887\"],[0.1111111111111111,\"#46039f\"],[0.2222222222222222,\"#7201a8\"],[0.3333333333333333,\"#9c179e\"],[0.4444444444444444,\"#bd3786\"],[0.5555555555555556,\"#d8576b\"],[0.6666666666666666,\"#ed7953\"],[0.7777777777777778,\"#fb9f3a\"],[0.8888888888888888,\"#fdca26\"],[1.0,\"#f0f921\"]]}],\"choropleth\":[{\"type\":\"choropleth\",\"colorbar\":{\"outlinewidth\":0,\"ticks\":\"\"}}],\"histogram2d\":[{\"type\":\"histogram2d\",\"colorbar\":{\"outlinewidth\":0,\"ticks\":\"\"},\"colorscale\":[[0.0,\"#0d0887\"],[0.1111111111111111,\"#46039f\"],[0.2222222222222222,\"#7201a8\"],[0.3333333333333333,\"#9c179e\"],[0.4444444444444444,\"#bd3786\"],[0.5555555555555556,\"#d8576b\"],[0.6666666666666666,\"#ed7953\"],[0.7777777777777778,\"#fb9f3a\"],[0.8888888888888888,\"#fdca26\"],[1.0,\"#f0f921\"]]}],\"heatmap\":[{\"type\":\"heatmap\",\"colorbar\":{\"outlinewidth\":0,\"ticks\":\"\"},\"colorscale\":[[0.0,\"#0d0887\"],[0.1111111111111111,\"#46039f\"],[0.2222222222222222,\"#7201a8\"],[0.3333333333333333,\"#9c179e\"],[0.4444444444444444,\"#bd3786\"],[0.5555555555555556,\"#d8576b\"],[0.6666666666666666,\"#ed7953\"],[0.7777777777777778,\"#fb9f3a\"],[0.8888888888888888,\"#fdca26\"],[1.0,\"#f0f921\"]]}],\"heatmapgl\":[{\"type\":\"heatmapgl\",\"colorbar\":{\"outlinewidth\":0,\"ticks\":\"\"},\"colorscale\":[[0.0,\"#0d0887\"],[0.1111111111111111,\"#46039f\"],[0.2222222222222222,\"#7201a8\"],[0.3333333333333333,\"#9c179e\"],[0.4444444444444444,\"#bd3786\"],[0.5555555555555556,\"#d8576b\"],[0.6666666666666666,\"#ed7953\"],[0.7777777777777778,\"#fb9f3a\"],[0.8888888888888888,\"#fdca26\"],[1.0,\"#f0f921\"]]}],\"contourcarpet\":[{\"type\":\"contourcarpet\",\"colorbar\":{\"outlinewidth\":0,\"ticks\":\"\"}}],\"contour\":[{\"type\":\"contour\",\"colorbar\":{\"outlinewidth\":0,\"ticks\":\"\"},\"colorscale\":[[0.0,\"#0d0887\"],[0.1111111111111111,\"#46039f\"],[0.2222222222222222,\"#7201a8\"],[0.3333333333333333,\"#9c179e\"],[0.4444444444444444,\"#bd3786\"],[0.5555555555555556,\"#d8576b\"],[0.6666666666666666,\"#ed7953\"],[0.7777777777777778,\"#fb9f3a\"],[0.8888888888888888,\"#fdca26\"],[1.0,\"#f0f921\"]]}],\"surface\":[{\"type\":\"surface\",\"colorbar\":{\"outlinewidth\":0,\"ticks\":\"\"},\"colorscale\":[[0.0,\"#0d0887\"],[0.1111111111111111,\"#46039f\"],[0.2222222222222222,\"#7201a8\"],[0.3333333333333333,\"#9c179e\"],[0.4444444444444444,\"#bd3786\"],[0.5555555555555556,\"#d8576b\"],[0.6666666666666666,\"#ed7953\"],[0.7777777777777778,\"#fb9f3a\"],[0.8888888888888888,\"#fdca26\"],[1.0,\"#f0f921\"]]}],\"mesh3d\":[{\"type\":\"mesh3d\",\"colorbar\":{\"outlinewidth\":0,\"ticks\":\"\"}}],\"scatter\":[{\"fillpattern\":{\"fillmode\":\"overlay\",\"size\":10,\"solidity\":0.2},\"type\":\"scatter\"}],\"parcoords\":[{\"type\":\"parcoords\",\"line\":{\"colorbar\":{\"outlinewidth\":0,\"ticks\":\"\"}}}],\"scatterpolargl\":[{\"type\":\"scatterpolargl\",\"marker\":{\"colorbar\":{\"outlinewidth\":0,\"ticks\":\"\"}}}],\"bar\":[{\"error_x\":{\"color\":\"#2a3f5f\"},\"error_y\":{\"color\":\"#2a3f5f\"},\"marker\":{\"line\":{\"color\":\"#E5ECF6\",\"width\":0.5},\"pattern\":{\"fillmode\":\"overlay\",\"size\":10,\"solidity\":0.2}},\"type\":\"bar\"}],\"scattergeo\":[{\"type\":\"scattergeo\",\"marker\":{\"colorbar\":{\"outlinewidth\":0,\"ticks\":\"\"}}}],\"scatterpolar\":[{\"type\":\"scatterpolar\",\"marker\":{\"colorbar\":{\"outlinewidth\":0,\"ticks\":\"\"}}}],\"histogram\":[{\"marker\":{\"pattern\":{\"fillmode\":\"overlay\",\"size\":10,\"solidity\":0.2}},\"type\":\"histogram\"}],\"scattergl\":[{\"type\":\"scattergl\",\"marker\":{\"colorbar\":{\"outlinewidth\":0,\"ticks\":\"\"}}}],\"scatter3d\":[{\"type\":\"scatter3d\",\"line\":{\"colorbar\":{\"outlinewidth\":0,\"ticks\":\"\"}},\"marker\":{\"colorbar\":{\"outlinewidth\":0,\"ticks\":\"\"}}}],\"scattermapbox\":[{\"type\":\"scattermapbox\",\"marker\":{\"colorbar\":{\"outlinewidth\":0,\"ticks\":\"\"}}}],\"scatterternary\":[{\"type\":\"scatterternary\",\"marker\":{\"colorbar\":{\"outlinewidth\":0,\"ticks\":\"\"}}}],\"scattercarpet\":[{\"type\":\"scattercarpet\",\"marker\":{\"colorbar\":{\"outlinewidth\":0,\"ticks\":\"\"}}}],\"carpet\":[{\"aaxis\":{\"endlinecolor\":\"#2a3f5f\",\"gridcolor\":\"white\",\"linecolor\":\"white\",\"minorgridcolor\":\"white\",\"startlinecolor\":\"#2a3f5f\"},\"baxis\":{\"endlinecolor\":\"#2a3f5f\",\"gridcolor\":\"white\",\"linecolor\":\"white\",\"minorgridcolor\":\"white\",\"startlinecolor\":\"#2a3f5f\"},\"type\":\"carpet\"}],\"table\":[{\"cells\":{\"fill\":{\"color\":\"#EBF0F8\"},\"line\":{\"color\":\"white\"}},\"header\":{\"fill\":{\"color\":\"#C8D4E3\"},\"line\":{\"color\":\"white\"}},\"type\":\"table\"}],\"barpolar\":[{\"marker\":{\"line\":{\"color\":\"#E5ECF6\",\"width\":0.5},\"pattern\":{\"fillmode\":\"overlay\",\"size\":10,\"solidity\":0.2}},\"type\":\"barpolar\"}],\"pie\":[{\"automargin\":true,\"type\":\"pie\"}]},\"layout\":{\"autotypenumbers\":\"strict\",\"colorway\":[\"#636efa\",\"#EF553B\",\"#00cc96\",\"#ab63fa\",\"#FFA15A\",\"#19d3f3\",\"#FF6692\",\"#B6E880\",\"#FF97FF\",\"#FECB52\"],\"font\":{\"color\":\"#2a3f5f\"},\"hovermode\":\"closest\",\"hoverlabel\":{\"align\":\"left\"},\"paper_bgcolor\":\"white\",\"plot_bgcolor\":\"#E5ECF6\",\"polar\":{\"bgcolor\":\"#E5ECF6\",\"angularaxis\":{\"gridcolor\":\"white\",\"linecolor\":\"white\",\"ticks\":\"\"},\"radialaxis\":{\"gridcolor\":\"white\",\"linecolor\":\"white\",\"ticks\":\"\"}},\"ternary\":{\"bgcolor\":\"#E5ECF6\",\"aaxis\":{\"gridcolor\":\"white\",\"linecolor\":\"white\",\"ticks\":\"\"},\"baxis\":{\"gridcolor\":\"white\",\"linecolor\":\"white\",\"ticks\":\"\"},\"caxis\":{\"gridcolor\":\"white\",\"linecolor\":\"white\",\"ticks\":\"\"}},\"coloraxis\":{\"colorbar\":{\"outlinewidth\":0,\"ticks\":\"\"}},\"colorscale\":{\"sequential\":[[0.0,\"#0d0887\"],[0.1111111111111111,\"#46039f\"],[0.2222222222222222,\"#7201a8\"],[0.3333333333333333,\"#9c179e\"],[0.4444444444444444,\"#bd3786\"],[0.5555555555555556,\"#d8576b\"],[0.6666666666666666,\"#ed7953\"],[0.7777777777777778,\"#fb9f3a\"],[0.8888888888888888,\"#fdca26\"],[1.0,\"#f0f921\"]],\"sequentialminus\":[[0.0,\"#0d0887\"],[0.1111111111111111,\"#46039f\"],[0.2222222222222222,\"#7201a8\"],[0.3333333333333333,\"#9c179e\"],[0.4444444444444444,\"#bd3786\"],[0.5555555555555556,\"#d8576b\"],[0.6666666666666666,\"#ed7953\"],[0.7777777777777778,\"#fb9f3a\"],[0.8888888888888888,\"#fdca26\"],[1.0,\"#f0f921\"]],\"diverging\":[[0,\"#8e0152\"],[0.1,\"#c51b7d\"],[0.2,\"#de77ae\"],[0.3,\"#f1b6da\"],[0.4,\"#fde0ef\"],[0.5,\"#f7f7f7\"],[0.6,\"#e6f5d0\"],[0.7,\"#b8e186\"],[0.8,\"#7fbc41\"],[0.9,\"#4d9221\"],[1,\"#276419\"]]},\"xaxis\":{\"gridcolor\":\"white\",\"linecolor\":\"white\",\"ticks\":\"\",\"title\":{\"standoff\":15},\"zerolinecolor\":\"white\",\"automargin\":true,\"zerolinewidth\":2},\"yaxis\":{\"gridcolor\":\"white\",\"linecolor\":\"white\",\"ticks\":\"\",\"title\":{\"standoff\":15},\"zerolinecolor\":\"white\",\"automargin\":true,\"zerolinewidth\":2},\"scene\":{\"xaxis\":{\"backgroundcolor\":\"#E5ECF6\",\"gridcolor\":\"white\",\"linecolor\":\"white\",\"showbackground\":true,\"ticks\":\"\",\"zerolinecolor\":\"white\",\"gridwidth\":2},\"yaxis\":{\"backgroundcolor\":\"#E5ECF6\",\"gridcolor\":\"white\",\"linecolor\":\"white\",\"showbackground\":true,\"ticks\":\"\",\"zerolinecolor\":\"white\",\"gridwidth\":2},\"zaxis\":{\"backgroundcolor\":\"#E5ECF6\",\"gridcolor\":\"white\",\"linecolor\":\"white\",\"showbackground\":true,\"ticks\":\"\",\"zerolinecolor\":\"white\",\"gridwidth\":2}},\"shapedefaults\":{\"line\":{\"color\":\"#2a3f5f\"}},\"annotationdefaults\":{\"arrowcolor\":\"#2a3f5f\",\"arrowhead\":0,\"arrowwidth\":1},\"geo\":{\"bgcolor\":\"white\",\"landcolor\":\"#E5ECF6\",\"subunitcolor\":\"white\",\"showland\":true,\"showlakes\":true,\"lakecolor\":\"white\"},\"title\":{\"x\":0.05},\"mapbox\":{\"style\":\"light\"}}},\"xaxis\":{\"anchor\":\"y\",\"domain\":[0.0,1.0],\"title\":{\"text\":\"index\"},\"tickangle\":-45},\"yaxis\":{\"anchor\":\"x\",\"domain\":[0.0,1.0],\"title\":{\"text\":\"Count\"}},\"legend\":{\"tracegroupgap\":0},\"title\":{\"text\":\"Rating Distribution\"},\"barmode\":\"relative\"},                        {\"responsive\": true}                    ).then(function(){\n",
              "                            \n",
              "var gd = document.getElementById('b913d1cf-7a2e-4431-8af2-987e65a73397');\n",
              "var x = new MutationObserver(function (mutations, observer) {{\n",
              "        var display = window.getComputedStyle(gd).display;\n",
              "        if (!display || display === 'none') {{\n",
              "            console.log([gd, 'removed!']);\n",
              "            Plotly.purge(gd);\n",
              "            observer.disconnect();\n",
              "        }}\n",
              "}});\n",
              "\n",
              "// Listen for the removal of the full notebook cells\n",
              "var notebookContainer = gd.closest('#notebook-container');\n",
              "if (notebookContainer) {{\n",
              "    x.observe(notebookContainer, {childList: true});\n",
              "}}\n",
              "\n",
              "// Listen for the clearing of the current output cell\n",
              "var outputEl = gd.closest('.output');\n",
              "if (outputEl) {{\n",
              "    x.observe(outputEl, {childList: true});\n",
              "}}\n",
              "\n",
              "                        })                };                            </script>        </div>\n",
              "</body>\n",
              "</html>"
            ]
          },
          "metadata": {}
        }
      ]
    },
    {
      "cell_type": "markdown",
      "source": [
        "##### 1. Why did you pick the specific chart?"
      ],
      "metadata": {
        "id": "iky9q4vBYrdO"
      }
    },
    {
      "cell_type": "markdown",
      "source": [
        "Answer Here."
      ],
      "metadata": {
        "id": "aJRCwT6DYrdO"
      }
    },
    {
      "cell_type": "markdown",
      "source": [
        "##### 2. What is/are the insight(s) found from the chart?"
      ],
      "metadata": {
        "id": "F6T5p64dYrdO"
      }
    },
    {
      "cell_type": "markdown",
      "source": [
        "Answer Here"
      ],
      "metadata": {
        "id": "Xx8WAJvtYrdO"
      }
    },
    {
      "cell_type": "markdown",
      "source": [
        "##### 3. Will the gained insights help creating a positive business impact?\n",
        "Are there any insights that lead to negative growth? Justify with specific reason."
      ],
      "metadata": {
        "id": "y-Ehk30pYrdP"
      }
    },
    {
      "cell_type": "markdown",
      "source": [
        "Answer Here"
      ],
      "metadata": {
        "id": "jLNxxz7MYrdP"
      }
    },
    {
      "cell_type": "markdown",
      "source": [
        "#### Chart - 5"
      ],
      "metadata": {
        "id": "bamQiAODYuh1"
      }
    },
    {
      "cell_type": "code",
      "source": [
        "# Chart - 5 visualization code\n",
        "# Split the genres and count the occurrences of each genre\n",
        "genres = nf_df['listed_in'].str.split(',').explode().str.strip().value_counts()\n",
        "\n",
        "# Create a pie chart\n",
        "fig = px.pie(genres, values=genres.values, names=genres.index, title='Genre Distribution')\n",
        "fig.update_traces(textposition='inside', textinfo='percent+label')\n",
        "\n",
        "fig.show()\n"
      ],
      "metadata": {
        "id": "TIJwrbroYuh3",
        "colab": {
          "base_uri": "https://localhost:8080/",
          "height": 542
        },
        "outputId": "5b582be6-1923-4399-daa5-8513a562a864"
      },
      "execution_count": 56,
      "outputs": [
        {
          "output_type": "display_data",
          "data": {
            "text/html": [
              "<html>\n",
              "<head><meta charset=\"utf-8\" /></head>\n",
              "<body>\n",
              "    <div>            <script src=\"https://cdnjs.cloudflare.com/ajax/libs/mathjax/2.7.5/MathJax.js?config=TeX-AMS-MML_SVG\"></script><script type=\"text/javascript\">if (window.MathJax && window.MathJax.Hub && window.MathJax.Hub.Config) {window.MathJax.Hub.Config({SVG: {font: \"STIX-Web\"}});}</script>                <script type=\"text/javascript\">window.PlotlyConfig = {MathJaxConfig: 'local'};</script>\n",
              "        <script src=\"https://cdn.plot.ly/plotly-2.18.2.min.js\"></script>                <div id=\"e3ca279f-4402-46c3-bda3-261bd390b62a\" class=\"plotly-graph-div\" style=\"height:525px; width:100%;\"></div>            <script type=\"text/javascript\">                                    window.PLOTLYENV=window.PLOTLYENV || {};                                    if (document.getElementById(\"e3ca279f-4402-46c3-bda3-261bd390b62a\")) {                    Plotly.newPlot(                        \"e3ca279f-4402-46c3-bda3-261bd390b62a\",                        [{\"domain\":{\"x\":[0.0,1.0],\"y\":[0.0,1.0]},\"hovertemplate\":\"index=%{label}<br>value=%{value}<extra></extra>\",\"labels\":[\"International Movies\",\"Dramas\",\"Comedies\",\"International TV Shows\",\"Documentaries\",\"Action & Adventure\",\"TV Dramas\",\"Independent Movies\",\"Children & Family Movies\",\"Romantic Movies\",\"TV Comedies\",\"Thrillers\",\"Crime TV Shows\",\"Kids' TV\",\"Docuseries\",\"Romantic TV Shows\",\"Stand-Up Comedy\",\"Music & Musicals\",\"Horror Movies\",\"British TV Shows\",\"Reality TV\",\"Sci-Fi & Fantasy\",\"Sports Movies\",\"Korean TV Shows\",\"TV Action & Adventure\",\"Anime Series\",\"Spanish-Language TV Shows\",\"Classic Movies\",\"LGBTQ Movies\",\"TV Mysteries\",\"Science & Nature TV\",\"TV Sci-Fi & Fantasy\",\"TV Horror\",\"Teen TV Shows\",\"Cult Movies\",\"Faith & Spirituality\",\"Anime Features\",\"Movies\",\"Stand-Up Comedy & Talk Shows\",\"TV Thrillers\",\"Classic & Cult TV\",\"TV Shows\"],\"legendgroup\":\"\",\"name\":\"\",\"showlegend\":true,\"values\":[2437,2106,1471,1199,786,721,704,673,532,531,525,491,427,414,353,333,329,321,312,232,222,218,196,150,150,148,147,103,90,90,85,76,69,60,59,57,57,56,52,50,27,12],\"type\":\"pie\",\"textinfo\":\"percent+label\",\"textposition\":\"inside\"}],                        {\"template\":{\"data\":{\"histogram2dcontour\":[{\"type\":\"histogram2dcontour\",\"colorbar\":{\"outlinewidth\":0,\"ticks\":\"\"},\"colorscale\":[[0.0,\"#0d0887\"],[0.1111111111111111,\"#46039f\"],[0.2222222222222222,\"#7201a8\"],[0.3333333333333333,\"#9c179e\"],[0.4444444444444444,\"#bd3786\"],[0.5555555555555556,\"#d8576b\"],[0.6666666666666666,\"#ed7953\"],[0.7777777777777778,\"#fb9f3a\"],[0.8888888888888888,\"#fdca26\"],[1.0,\"#f0f921\"]]}],\"choropleth\":[{\"type\":\"choropleth\",\"colorbar\":{\"outlinewidth\":0,\"ticks\":\"\"}}],\"histogram2d\":[{\"type\":\"histogram2d\",\"colorbar\":{\"outlinewidth\":0,\"ticks\":\"\"},\"colorscale\":[[0.0,\"#0d0887\"],[0.1111111111111111,\"#46039f\"],[0.2222222222222222,\"#7201a8\"],[0.3333333333333333,\"#9c179e\"],[0.4444444444444444,\"#bd3786\"],[0.5555555555555556,\"#d8576b\"],[0.6666666666666666,\"#ed7953\"],[0.7777777777777778,\"#fb9f3a\"],[0.8888888888888888,\"#fdca26\"],[1.0,\"#f0f921\"]]}],\"heatmap\":[{\"type\":\"heatmap\",\"colorbar\":{\"outlinewidth\":0,\"ticks\":\"\"},\"colorscale\":[[0.0,\"#0d0887\"],[0.1111111111111111,\"#46039f\"],[0.2222222222222222,\"#7201a8\"],[0.3333333333333333,\"#9c179e\"],[0.4444444444444444,\"#bd3786\"],[0.5555555555555556,\"#d8576b\"],[0.6666666666666666,\"#ed7953\"],[0.7777777777777778,\"#fb9f3a\"],[0.8888888888888888,\"#fdca26\"],[1.0,\"#f0f921\"]]}],\"heatmapgl\":[{\"type\":\"heatmapgl\",\"colorbar\":{\"outlinewidth\":0,\"ticks\":\"\"},\"colorscale\":[[0.0,\"#0d0887\"],[0.1111111111111111,\"#46039f\"],[0.2222222222222222,\"#7201a8\"],[0.3333333333333333,\"#9c179e\"],[0.4444444444444444,\"#bd3786\"],[0.5555555555555556,\"#d8576b\"],[0.6666666666666666,\"#ed7953\"],[0.7777777777777778,\"#fb9f3a\"],[0.8888888888888888,\"#fdca26\"],[1.0,\"#f0f921\"]]}],\"contourcarpet\":[{\"type\":\"contourcarpet\",\"colorbar\":{\"outlinewidth\":0,\"ticks\":\"\"}}],\"contour\":[{\"type\":\"contour\",\"colorbar\":{\"outlinewidth\":0,\"ticks\":\"\"},\"colorscale\":[[0.0,\"#0d0887\"],[0.1111111111111111,\"#46039f\"],[0.2222222222222222,\"#7201a8\"],[0.3333333333333333,\"#9c179e\"],[0.4444444444444444,\"#bd3786\"],[0.5555555555555556,\"#d8576b\"],[0.6666666666666666,\"#ed7953\"],[0.7777777777777778,\"#fb9f3a\"],[0.8888888888888888,\"#fdca26\"],[1.0,\"#f0f921\"]]}],\"surface\":[{\"type\":\"surface\",\"colorbar\":{\"outlinewidth\":0,\"ticks\":\"\"},\"colorscale\":[[0.0,\"#0d0887\"],[0.1111111111111111,\"#46039f\"],[0.2222222222222222,\"#7201a8\"],[0.3333333333333333,\"#9c179e\"],[0.4444444444444444,\"#bd3786\"],[0.5555555555555556,\"#d8576b\"],[0.6666666666666666,\"#ed7953\"],[0.7777777777777778,\"#fb9f3a\"],[0.8888888888888888,\"#fdca26\"],[1.0,\"#f0f921\"]]}],\"mesh3d\":[{\"type\":\"mesh3d\",\"colorbar\":{\"outlinewidth\":0,\"ticks\":\"\"}}],\"scatter\":[{\"fillpattern\":{\"fillmode\":\"overlay\",\"size\":10,\"solidity\":0.2},\"type\":\"scatter\"}],\"parcoords\":[{\"type\":\"parcoords\",\"line\":{\"colorbar\":{\"outlinewidth\":0,\"ticks\":\"\"}}}],\"scatterpolargl\":[{\"type\":\"scatterpolargl\",\"marker\":{\"colorbar\":{\"outlinewidth\":0,\"ticks\":\"\"}}}],\"bar\":[{\"error_x\":{\"color\":\"#2a3f5f\"},\"error_y\":{\"color\":\"#2a3f5f\"},\"marker\":{\"line\":{\"color\":\"#E5ECF6\",\"width\":0.5},\"pattern\":{\"fillmode\":\"overlay\",\"size\":10,\"solidity\":0.2}},\"type\":\"bar\"}],\"scattergeo\":[{\"type\":\"scattergeo\",\"marker\":{\"colorbar\":{\"outlinewidth\":0,\"ticks\":\"\"}}}],\"scatterpolar\":[{\"type\":\"scatterpolar\",\"marker\":{\"colorbar\":{\"outlinewidth\":0,\"ticks\":\"\"}}}],\"histogram\":[{\"marker\":{\"pattern\":{\"fillmode\":\"overlay\",\"size\":10,\"solidity\":0.2}},\"type\":\"histogram\"}],\"scattergl\":[{\"type\":\"scattergl\",\"marker\":{\"colorbar\":{\"outlinewidth\":0,\"ticks\":\"\"}}}],\"scatter3d\":[{\"type\":\"scatter3d\",\"line\":{\"colorbar\":{\"outlinewidth\":0,\"ticks\":\"\"}},\"marker\":{\"colorbar\":{\"outlinewidth\":0,\"ticks\":\"\"}}}],\"scattermapbox\":[{\"type\":\"scattermapbox\",\"marker\":{\"colorbar\":{\"outlinewidth\":0,\"ticks\":\"\"}}}],\"scatterternary\":[{\"type\":\"scatterternary\",\"marker\":{\"colorbar\":{\"outlinewidth\":0,\"ticks\":\"\"}}}],\"scattercarpet\":[{\"type\":\"scattercarpet\",\"marker\":{\"colorbar\":{\"outlinewidth\":0,\"ticks\":\"\"}}}],\"carpet\":[{\"aaxis\":{\"endlinecolor\":\"#2a3f5f\",\"gridcolor\":\"white\",\"linecolor\":\"white\",\"minorgridcolor\":\"white\",\"startlinecolor\":\"#2a3f5f\"},\"baxis\":{\"endlinecolor\":\"#2a3f5f\",\"gridcolor\":\"white\",\"linecolor\":\"white\",\"minorgridcolor\":\"white\",\"startlinecolor\":\"#2a3f5f\"},\"type\":\"carpet\"}],\"table\":[{\"cells\":{\"fill\":{\"color\":\"#EBF0F8\"},\"line\":{\"color\":\"white\"}},\"header\":{\"fill\":{\"color\":\"#C8D4E3\"},\"line\":{\"color\":\"white\"}},\"type\":\"table\"}],\"barpolar\":[{\"marker\":{\"line\":{\"color\":\"#E5ECF6\",\"width\":0.5},\"pattern\":{\"fillmode\":\"overlay\",\"size\":10,\"solidity\":0.2}},\"type\":\"barpolar\"}],\"pie\":[{\"automargin\":true,\"type\":\"pie\"}]},\"layout\":{\"autotypenumbers\":\"strict\",\"colorway\":[\"#636efa\",\"#EF553B\",\"#00cc96\",\"#ab63fa\",\"#FFA15A\",\"#19d3f3\",\"#FF6692\",\"#B6E880\",\"#FF97FF\",\"#FECB52\"],\"font\":{\"color\":\"#2a3f5f\"},\"hovermode\":\"closest\",\"hoverlabel\":{\"align\":\"left\"},\"paper_bgcolor\":\"white\",\"plot_bgcolor\":\"#E5ECF6\",\"polar\":{\"bgcolor\":\"#E5ECF6\",\"angularaxis\":{\"gridcolor\":\"white\",\"linecolor\":\"white\",\"ticks\":\"\"},\"radialaxis\":{\"gridcolor\":\"white\",\"linecolor\":\"white\",\"ticks\":\"\"}},\"ternary\":{\"bgcolor\":\"#E5ECF6\",\"aaxis\":{\"gridcolor\":\"white\",\"linecolor\":\"white\",\"ticks\":\"\"},\"baxis\":{\"gridcolor\":\"white\",\"linecolor\":\"white\",\"ticks\":\"\"},\"caxis\":{\"gridcolor\":\"white\",\"linecolor\":\"white\",\"ticks\":\"\"}},\"coloraxis\":{\"colorbar\":{\"outlinewidth\":0,\"ticks\":\"\"}},\"colorscale\":{\"sequential\":[[0.0,\"#0d0887\"],[0.1111111111111111,\"#46039f\"],[0.2222222222222222,\"#7201a8\"],[0.3333333333333333,\"#9c179e\"],[0.4444444444444444,\"#bd3786\"],[0.5555555555555556,\"#d8576b\"],[0.6666666666666666,\"#ed7953\"],[0.7777777777777778,\"#fb9f3a\"],[0.8888888888888888,\"#fdca26\"],[1.0,\"#f0f921\"]],\"sequentialminus\":[[0.0,\"#0d0887\"],[0.1111111111111111,\"#46039f\"],[0.2222222222222222,\"#7201a8\"],[0.3333333333333333,\"#9c179e\"],[0.4444444444444444,\"#bd3786\"],[0.5555555555555556,\"#d8576b\"],[0.6666666666666666,\"#ed7953\"],[0.7777777777777778,\"#fb9f3a\"],[0.8888888888888888,\"#fdca26\"],[1.0,\"#f0f921\"]],\"diverging\":[[0,\"#8e0152\"],[0.1,\"#c51b7d\"],[0.2,\"#de77ae\"],[0.3,\"#f1b6da\"],[0.4,\"#fde0ef\"],[0.5,\"#f7f7f7\"],[0.6,\"#e6f5d0\"],[0.7,\"#b8e186\"],[0.8,\"#7fbc41\"],[0.9,\"#4d9221\"],[1,\"#276419\"]]},\"xaxis\":{\"gridcolor\":\"white\",\"linecolor\":\"white\",\"ticks\":\"\",\"title\":{\"standoff\":15},\"zerolinecolor\":\"white\",\"automargin\":true,\"zerolinewidth\":2},\"yaxis\":{\"gridcolor\":\"white\",\"linecolor\":\"white\",\"ticks\":\"\",\"title\":{\"standoff\":15},\"zerolinecolor\":\"white\",\"automargin\":true,\"zerolinewidth\":2},\"scene\":{\"xaxis\":{\"backgroundcolor\":\"#E5ECF6\",\"gridcolor\":\"white\",\"linecolor\":\"white\",\"showbackground\":true,\"ticks\":\"\",\"zerolinecolor\":\"white\",\"gridwidth\":2},\"yaxis\":{\"backgroundcolor\":\"#E5ECF6\",\"gridcolor\":\"white\",\"linecolor\":\"white\",\"showbackground\":true,\"ticks\":\"\",\"zerolinecolor\":\"white\",\"gridwidth\":2},\"zaxis\":{\"backgroundcolor\":\"#E5ECF6\",\"gridcolor\":\"white\",\"linecolor\":\"white\",\"showbackground\":true,\"ticks\":\"\",\"zerolinecolor\":\"white\",\"gridwidth\":2}},\"shapedefaults\":{\"line\":{\"color\":\"#2a3f5f\"}},\"annotationdefaults\":{\"arrowcolor\":\"#2a3f5f\",\"arrowhead\":0,\"arrowwidth\":1},\"geo\":{\"bgcolor\":\"white\",\"landcolor\":\"#E5ECF6\",\"subunitcolor\":\"white\",\"showland\":true,\"showlakes\":true,\"lakecolor\":\"white\"},\"title\":{\"x\":0.05},\"mapbox\":{\"style\":\"light\"}}},\"legend\":{\"tracegroupgap\":0},\"title\":{\"text\":\"Genre Distribution\"}},                        {\"responsive\": true}                    ).then(function(){\n",
              "                            \n",
              "var gd = document.getElementById('e3ca279f-4402-46c3-bda3-261bd390b62a');\n",
              "var x = new MutationObserver(function (mutations, observer) {{\n",
              "        var display = window.getComputedStyle(gd).display;\n",
              "        if (!display || display === 'none') {{\n",
              "            console.log([gd, 'removed!']);\n",
              "            Plotly.purge(gd);\n",
              "            observer.disconnect();\n",
              "        }}\n",
              "}});\n",
              "\n",
              "// Listen for the removal of the full notebook cells\n",
              "var notebookContainer = gd.closest('#notebook-container');\n",
              "if (notebookContainer) {{\n",
              "    x.observe(notebookContainer, {childList: true});\n",
              "}}\n",
              "\n",
              "// Listen for the clearing of the current output cell\n",
              "var outputEl = gd.closest('.output');\n",
              "if (outputEl) {{\n",
              "    x.observe(outputEl, {childList: true});\n",
              "}}\n",
              "\n",
              "                        })                };                            </script>        </div>\n",
              "</body>\n",
              "</html>"
            ]
          },
          "metadata": {}
        }
      ]
    },
    {
      "cell_type": "markdown",
      "source": [
        "##### 1. Why did you pick the specific chart?"
      ],
      "metadata": {
        "id": "QHF8YVU7Yuh3"
      }
    },
    {
      "cell_type": "markdown",
      "source": [
        "Answer Here."
      ],
      "metadata": {
        "id": "dcxuIMRPYuh3"
      }
    },
    {
      "cell_type": "markdown",
      "source": [
        "##### 2. What is/are the insight(s) found from the chart?"
      ],
      "metadata": {
        "id": "GwzvFGzlYuh3"
      }
    },
    {
      "cell_type": "markdown",
      "source": [
        "Answer Here"
      ],
      "metadata": {
        "id": "uyqkiB8YYuh3"
      }
    },
    {
      "cell_type": "markdown",
      "source": [
        "##### 3. Will the gained insights help creating a positive business impact?\n",
        "Are there any insights that lead to negative growth? Justify with specific reason."
      ],
      "metadata": {
        "id": "qYpmQ266Yuh3"
      }
    },
    {
      "cell_type": "markdown",
      "source": [
        "Answer Here"
      ],
      "metadata": {
        "id": "_WtzZ_hCYuh4"
      }
    },
    {
      "cell_type": "markdown",
      "source": [
        "#### Chart - 6"
      ],
      "metadata": {
        "id": "OH-pJp9IphqM"
      }
    },
    {
      "cell_type": "code",
      "source": [
        "# Chart - 6 visualization code\n",
        "# Count the number of titles released in each year and sort them\n",
        "release_years = nf_df['release_year'].value_counts().sort_index()\n",
        "\n",
        "# Create a line chart\n",
        "fig = go.Figure(data=go.Scatter(x=release_years.index, y=release_years.values))\n",
        "fig.update_layout(title='Content Release Over Time', xaxis_title='Release Year', yaxis_title='Count')\n",
        "\n",
        "fig.show()\n"
      ],
      "metadata": {
        "id": "kuRf4wtuphqN",
        "colab": {
          "base_uri": "https://localhost:8080/",
          "height": 542
        },
        "outputId": "92215494-7df7-4102-d45e-186fcc03edaa"
      },
      "execution_count": 55,
      "outputs": [
        {
          "output_type": "display_data",
          "data": {
            "text/html": [
              "<html>\n",
              "<head><meta charset=\"utf-8\" /></head>\n",
              "<body>\n",
              "    <div>            <script src=\"https://cdnjs.cloudflare.com/ajax/libs/mathjax/2.7.5/MathJax.js?config=TeX-AMS-MML_SVG\"></script><script type=\"text/javascript\">if (window.MathJax && window.MathJax.Hub && window.MathJax.Hub.Config) {window.MathJax.Hub.Config({SVG: {font: \"STIX-Web\"}});}</script>                <script type=\"text/javascript\">window.PlotlyConfig = {MathJaxConfig: 'local'};</script>\n",
              "        <script src=\"https://cdn.plot.ly/plotly-2.18.2.min.js\"></script>                <div id=\"77dfd200-3037-4a75-9aab-188950e3399c\" class=\"plotly-graph-div\" style=\"height:525px; width:100%;\"></div>            <script type=\"text/javascript\">                                    window.PLOTLYENV=window.PLOTLYENV || {};                                    if (document.getElementById(\"77dfd200-3037-4a75-9aab-188950e3399c\")) {                    Plotly.newPlot(                        \"77dfd200-3037-4a75-9aab-188950e3399c\",                        [{\"x\":[1925,1942,1943,1944,1945,1946,1947,1954,1955,1956,1958,1959,1960,1962,1963,1964,1965,1966,1967,1968,1969,1970,1971,1972,1973,1974,1975,1976,1977,1978,1979,1980,1981,1982,1983,1984,1985,1986,1987,1988,1989,1990,1991,1992,1993,1994,1995,1996,1997,1998,1999,2000,2001,2002,2003,2004,2005,2006,2007,2008,2009,2010,2011,2012,2013,2014,2015,2016,2017,2018,2019,2020,2021],\"y\":[1,2,3,3,3,2,1,2,3,2,3,1,4,3,2,1,2,1,5,5,2,2,5,4,10,7,6,9,7,6,11,9,9,15,9,9,9,10,7,16,13,20,17,18,22,16,19,19,30,31,33,34,36,45,49,59,73,85,85,125,137,173,166,219,267,334,541,882,1012,1121,996,868,31],\"type\":\"scatter\"}],                        {\"template\":{\"data\":{\"histogram2dcontour\":[{\"type\":\"histogram2dcontour\",\"colorbar\":{\"outlinewidth\":0,\"ticks\":\"\"},\"colorscale\":[[0.0,\"#0d0887\"],[0.1111111111111111,\"#46039f\"],[0.2222222222222222,\"#7201a8\"],[0.3333333333333333,\"#9c179e\"],[0.4444444444444444,\"#bd3786\"],[0.5555555555555556,\"#d8576b\"],[0.6666666666666666,\"#ed7953\"],[0.7777777777777778,\"#fb9f3a\"],[0.8888888888888888,\"#fdca26\"],[1.0,\"#f0f921\"]]}],\"choropleth\":[{\"type\":\"choropleth\",\"colorbar\":{\"outlinewidth\":0,\"ticks\":\"\"}}],\"histogram2d\":[{\"type\":\"histogram2d\",\"colorbar\":{\"outlinewidth\":0,\"ticks\":\"\"},\"colorscale\":[[0.0,\"#0d0887\"],[0.1111111111111111,\"#46039f\"],[0.2222222222222222,\"#7201a8\"],[0.3333333333333333,\"#9c179e\"],[0.4444444444444444,\"#bd3786\"],[0.5555555555555556,\"#d8576b\"],[0.6666666666666666,\"#ed7953\"],[0.7777777777777778,\"#fb9f3a\"],[0.8888888888888888,\"#fdca26\"],[1.0,\"#f0f921\"]]}],\"heatmap\":[{\"type\":\"heatmap\",\"colorbar\":{\"outlinewidth\":0,\"ticks\":\"\"},\"colorscale\":[[0.0,\"#0d0887\"],[0.1111111111111111,\"#46039f\"],[0.2222222222222222,\"#7201a8\"],[0.3333333333333333,\"#9c179e\"],[0.4444444444444444,\"#bd3786\"],[0.5555555555555556,\"#d8576b\"],[0.6666666666666666,\"#ed7953\"],[0.7777777777777778,\"#fb9f3a\"],[0.8888888888888888,\"#fdca26\"],[1.0,\"#f0f921\"]]}],\"heatmapgl\":[{\"type\":\"heatmapgl\",\"colorbar\":{\"outlinewidth\":0,\"ticks\":\"\"},\"colorscale\":[[0.0,\"#0d0887\"],[0.1111111111111111,\"#46039f\"],[0.2222222222222222,\"#7201a8\"],[0.3333333333333333,\"#9c179e\"],[0.4444444444444444,\"#bd3786\"],[0.5555555555555556,\"#d8576b\"],[0.6666666666666666,\"#ed7953\"],[0.7777777777777778,\"#fb9f3a\"],[0.8888888888888888,\"#fdca26\"],[1.0,\"#f0f921\"]]}],\"contourcarpet\":[{\"type\":\"contourcarpet\",\"colorbar\":{\"outlinewidth\":0,\"ticks\":\"\"}}],\"contour\":[{\"type\":\"contour\",\"colorbar\":{\"outlinewidth\":0,\"ticks\":\"\"},\"colorscale\":[[0.0,\"#0d0887\"],[0.1111111111111111,\"#46039f\"],[0.2222222222222222,\"#7201a8\"],[0.3333333333333333,\"#9c179e\"],[0.4444444444444444,\"#bd3786\"],[0.5555555555555556,\"#d8576b\"],[0.6666666666666666,\"#ed7953\"],[0.7777777777777778,\"#fb9f3a\"],[0.8888888888888888,\"#fdca26\"],[1.0,\"#f0f921\"]]}],\"surface\":[{\"type\":\"surface\",\"colorbar\":{\"outlinewidth\":0,\"ticks\":\"\"},\"colorscale\":[[0.0,\"#0d0887\"],[0.1111111111111111,\"#46039f\"],[0.2222222222222222,\"#7201a8\"],[0.3333333333333333,\"#9c179e\"],[0.4444444444444444,\"#bd3786\"],[0.5555555555555556,\"#d8576b\"],[0.6666666666666666,\"#ed7953\"],[0.7777777777777778,\"#fb9f3a\"],[0.8888888888888888,\"#fdca26\"],[1.0,\"#f0f921\"]]}],\"mesh3d\":[{\"type\":\"mesh3d\",\"colorbar\":{\"outlinewidth\":0,\"ticks\":\"\"}}],\"scatter\":[{\"fillpattern\":{\"fillmode\":\"overlay\",\"size\":10,\"solidity\":0.2},\"type\":\"scatter\"}],\"parcoords\":[{\"type\":\"parcoords\",\"line\":{\"colorbar\":{\"outlinewidth\":0,\"ticks\":\"\"}}}],\"scatterpolargl\":[{\"type\":\"scatterpolargl\",\"marker\":{\"colorbar\":{\"outlinewidth\":0,\"ticks\":\"\"}}}],\"bar\":[{\"error_x\":{\"color\":\"#2a3f5f\"},\"error_y\":{\"color\":\"#2a3f5f\"},\"marker\":{\"line\":{\"color\":\"#E5ECF6\",\"width\":0.5},\"pattern\":{\"fillmode\":\"overlay\",\"size\":10,\"solidity\":0.2}},\"type\":\"bar\"}],\"scattergeo\":[{\"type\":\"scattergeo\",\"marker\":{\"colorbar\":{\"outlinewidth\":0,\"ticks\":\"\"}}}],\"scatterpolar\":[{\"type\":\"scatterpolar\",\"marker\":{\"colorbar\":{\"outlinewidth\":0,\"ticks\":\"\"}}}],\"histogram\":[{\"marker\":{\"pattern\":{\"fillmode\":\"overlay\",\"size\":10,\"solidity\":0.2}},\"type\":\"histogram\"}],\"scattergl\":[{\"type\":\"scattergl\",\"marker\":{\"colorbar\":{\"outlinewidth\":0,\"ticks\":\"\"}}}],\"scatter3d\":[{\"type\":\"scatter3d\",\"line\":{\"colorbar\":{\"outlinewidth\":0,\"ticks\":\"\"}},\"marker\":{\"colorbar\":{\"outlinewidth\":0,\"ticks\":\"\"}}}],\"scattermapbox\":[{\"type\":\"scattermapbox\",\"marker\":{\"colorbar\":{\"outlinewidth\":0,\"ticks\":\"\"}}}],\"scatterternary\":[{\"type\":\"scatterternary\",\"marker\":{\"colorbar\":{\"outlinewidth\":0,\"ticks\":\"\"}}}],\"scattercarpet\":[{\"type\":\"scattercarpet\",\"marker\":{\"colorbar\":{\"outlinewidth\":0,\"ticks\":\"\"}}}],\"carpet\":[{\"aaxis\":{\"endlinecolor\":\"#2a3f5f\",\"gridcolor\":\"white\",\"linecolor\":\"white\",\"minorgridcolor\":\"white\",\"startlinecolor\":\"#2a3f5f\"},\"baxis\":{\"endlinecolor\":\"#2a3f5f\",\"gridcolor\":\"white\",\"linecolor\":\"white\",\"minorgridcolor\":\"white\",\"startlinecolor\":\"#2a3f5f\"},\"type\":\"carpet\"}],\"table\":[{\"cells\":{\"fill\":{\"color\":\"#EBF0F8\"},\"line\":{\"color\":\"white\"}},\"header\":{\"fill\":{\"color\":\"#C8D4E3\"},\"line\":{\"color\":\"white\"}},\"type\":\"table\"}],\"barpolar\":[{\"marker\":{\"line\":{\"color\":\"#E5ECF6\",\"width\":0.5},\"pattern\":{\"fillmode\":\"overlay\",\"size\":10,\"solidity\":0.2}},\"type\":\"barpolar\"}],\"pie\":[{\"automargin\":true,\"type\":\"pie\"}]},\"layout\":{\"autotypenumbers\":\"strict\",\"colorway\":[\"#636efa\",\"#EF553B\",\"#00cc96\",\"#ab63fa\",\"#FFA15A\",\"#19d3f3\",\"#FF6692\",\"#B6E880\",\"#FF97FF\",\"#FECB52\"],\"font\":{\"color\":\"#2a3f5f\"},\"hovermode\":\"closest\",\"hoverlabel\":{\"align\":\"left\"},\"paper_bgcolor\":\"white\",\"plot_bgcolor\":\"#E5ECF6\",\"polar\":{\"bgcolor\":\"#E5ECF6\",\"angularaxis\":{\"gridcolor\":\"white\",\"linecolor\":\"white\",\"ticks\":\"\"},\"radialaxis\":{\"gridcolor\":\"white\",\"linecolor\":\"white\",\"ticks\":\"\"}},\"ternary\":{\"bgcolor\":\"#E5ECF6\",\"aaxis\":{\"gridcolor\":\"white\",\"linecolor\":\"white\",\"ticks\":\"\"},\"baxis\":{\"gridcolor\":\"white\",\"linecolor\":\"white\",\"ticks\":\"\"},\"caxis\":{\"gridcolor\":\"white\",\"linecolor\":\"white\",\"ticks\":\"\"}},\"coloraxis\":{\"colorbar\":{\"outlinewidth\":0,\"ticks\":\"\"}},\"colorscale\":{\"sequential\":[[0.0,\"#0d0887\"],[0.1111111111111111,\"#46039f\"],[0.2222222222222222,\"#7201a8\"],[0.3333333333333333,\"#9c179e\"],[0.4444444444444444,\"#bd3786\"],[0.5555555555555556,\"#d8576b\"],[0.6666666666666666,\"#ed7953\"],[0.7777777777777778,\"#fb9f3a\"],[0.8888888888888888,\"#fdca26\"],[1.0,\"#f0f921\"]],\"sequentialminus\":[[0.0,\"#0d0887\"],[0.1111111111111111,\"#46039f\"],[0.2222222222222222,\"#7201a8\"],[0.3333333333333333,\"#9c179e\"],[0.4444444444444444,\"#bd3786\"],[0.5555555555555556,\"#d8576b\"],[0.6666666666666666,\"#ed7953\"],[0.7777777777777778,\"#fb9f3a\"],[0.8888888888888888,\"#fdca26\"],[1.0,\"#f0f921\"]],\"diverging\":[[0,\"#8e0152\"],[0.1,\"#c51b7d\"],[0.2,\"#de77ae\"],[0.3,\"#f1b6da\"],[0.4,\"#fde0ef\"],[0.5,\"#f7f7f7\"],[0.6,\"#e6f5d0\"],[0.7,\"#b8e186\"],[0.8,\"#7fbc41\"],[0.9,\"#4d9221\"],[1,\"#276419\"]]},\"xaxis\":{\"gridcolor\":\"white\",\"linecolor\":\"white\",\"ticks\":\"\",\"title\":{\"standoff\":15},\"zerolinecolor\":\"white\",\"automargin\":true,\"zerolinewidth\":2},\"yaxis\":{\"gridcolor\":\"white\",\"linecolor\":\"white\",\"ticks\":\"\",\"title\":{\"standoff\":15},\"zerolinecolor\":\"white\",\"automargin\":true,\"zerolinewidth\":2},\"scene\":{\"xaxis\":{\"backgroundcolor\":\"#E5ECF6\",\"gridcolor\":\"white\",\"linecolor\":\"white\",\"showbackground\":true,\"ticks\":\"\",\"zerolinecolor\":\"white\",\"gridwidth\":2},\"yaxis\":{\"backgroundcolor\":\"#E5ECF6\",\"gridcolor\":\"white\",\"linecolor\":\"white\",\"showbackground\":true,\"ticks\":\"\",\"zerolinecolor\":\"white\",\"gridwidth\":2},\"zaxis\":{\"backgroundcolor\":\"#E5ECF6\",\"gridcolor\":\"white\",\"linecolor\":\"white\",\"showbackground\":true,\"ticks\":\"\",\"zerolinecolor\":\"white\",\"gridwidth\":2}},\"shapedefaults\":{\"line\":{\"color\":\"#2a3f5f\"}},\"annotationdefaults\":{\"arrowcolor\":\"#2a3f5f\",\"arrowhead\":0,\"arrowwidth\":1},\"geo\":{\"bgcolor\":\"white\",\"landcolor\":\"#E5ECF6\",\"subunitcolor\":\"white\",\"showland\":true,\"showlakes\":true,\"lakecolor\":\"white\"},\"title\":{\"x\":0.05},\"mapbox\":{\"style\":\"light\"}}},\"title\":{\"text\":\"Content Release Over Time\"},\"xaxis\":{\"title\":{\"text\":\"Release Year\"}},\"yaxis\":{\"title\":{\"text\":\"Count\"}}},                        {\"responsive\": true}                    ).then(function(){\n",
              "                            \n",
              "var gd = document.getElementById('77dfd200-3037-4a75-9aab-188950e3399c');\n",
              "var x = new MutationObserver(function (mutations, observer) {{\n",
              "        var display = window.getComputedStyle(gd).display;\n",
              "        if (!display || display === 'none') {{\n",
              "            console.log([gd, 'removed!']);\n",
              "            Plotly.purge(gd);\n",
              "            observer.disconnect();\n",
              "        }}\n",
              "}});\n",
              "\n",
              "// Listen for the removal of the full notebook cells\n",
              "var notebookContainer = gd.closest('#notebook-container');\n",
              "if (notebookContainer) {{\n",
              "    x.observe(notebookContainer, {childList: true});\n",
              "}}\n",
              "\n",
              "// Listen for the clearing of the current output cell\n",
              "var outputEl = gd.closest('.output');\n",
              "if (outputEl) {{\n",
              "    x.observe(outputEl, {childList: true});\n",
              "}}\n",
              "\n",
              "                        })                };                            </script>        </div>\n",
              "</body>\n",
              "</html>"
            ]
          },
          "metadata": {}
        }
      ]
    },
    {
      "cell_type": "markdown",
      "source": [
        "##### 1. Why did you pick the specific chart?"
      ],
      "metadata": {
        "id": "bbFf2-_FphqN"
      }
    },
    {
      "cell_type": "markdown",
      "source": [
        "Answer Here."
      ],
      "metadata": {
        "id": "loh7H2nzphqN"
      }
    },
    {
      "cell_type": "markdown",
      "source": [
        "##### 2. What is/are the insight(s) found from the chart?"
      ],
      "metadata": {
        "id": "_ouA3fa0phqN"
      }
    },
    {
      "cell_type": "markdown",
      "source": [
        "Answer Here"
      ],
      "metadata": {
        "id": "VECbqPI7phqN"
      }
    },
    {
      "cell_type": "markdown",
      "source": [
        "##### 3. Will the gained insights help creating a positive business impact?\n",
        "Are there any insights that lead to negative growth? Justify with specific reason."
      ],
      "metadata": {
        "id": "Seke61FWphqN"
      }
    },
    {
      "cell_type": "markdown",
      "source": [
        "Answer Here"
      ],
      "metadata": {
        "id": "DW4_bGpfphqN"
      }
    },
    {
      "cell_type": "markdown",
      "source": [
        "#### Chart - 7"
      ],
      "metadata": {
        "id": "PIIx-8_IphqN"
      }
    },
    {
      "cell_type": "code",
      "source": [
        "# Chart - 7 visualization code\n",
        "# Split the cast members and count the appearances of each actor/actress\n",
        "actors = nf_df['cast'].str.split(',').explode().str.strip()\n",
        "top_actors = actors.value_counts().head(10)\n",
        "\n",
        "# Create a bar chart\n",
        "fig = px.bar(top_actors, x=top_actors.index, y=top_actors.values,\n",
        "             labels={'x': 'Actor/Actress', 'y': 'Count'},\n",
        "             title='Top 10 Actors/Actresses with Most Appearances')\n",
        "fig.update_layout(xaxis_tickangle=-45)\n",
        "\n",
        "fig.show()\n"
      ],
      "metadata": {
        "id": "lqAIGUfyphqO",
        "colab": {
          "base_uri": "https://localhost:8080/",
          "height": 542
        },
        "outputId": "056d7423-b94a-4247-dc1d-98b7b27f7fec"
      },
      "execution_count": 54,
      "outputs": [
        {
          "output_type": "display_data",
          "data": {
            "text/html": [
              "<html>\n",
              "<head><meta charset=\"utf-8\" /></head>\n",
              "<body>\n",
              "    <div>            <script src=\"https://cdnjs.cloudflare.com/ajax/libs/mathjax/2.7.5/MathJax.js?config=TeX-AMS-MML_SVG\"></script><script type=\"text/javascript\">if (window.MathJax && window.MathJax.Hub && window.MathJax.Hub.Config) {window.MathJax.Hub.Config({SVG: {font: \"STIX-Web\"}});}</script>                <script type=\"text/javascript\">window.PlotlyConfig = {MathJaxConfig: 'local'};</script>\n",
              "        <script src=\"https://cdn.plot.ly/plotly-2.18.2.min.js\"></script>                <div id=\"eca2570c-acd9-4255-bb47-f24c0f98b8aa\" class=\"plotly-graph-div\" style=\"height:525px; width:100%;\"></div>            <script type=\"text/javascript\">                                    window.PLOTLYENV=window.PLOTLYENV || {};                                    if (document.getElementById(\"eca2570c-acd9-4255-bb47-f24c0f98b8aa\")) {                    Plotly.newPlot(                        \"eca2570c-acd9-4255-bb47-f24c0f98b8aa\",                        [{\"alignmentgroup\":\"True\",\"hovertemplate\":\"index=%{x}<br>Count=%{y}<extra></extra>\",\"legendgroup\":\"\",\"marker\":{\"color\":\"#636efa\",\"pattern\":{\"shape\":\"\"}},\"name\":\"\",\"offsetgroup\":\"\",\"orientation\":\"v\",\"showlegend\":false,\"textposition\":\"auto\",\"x\":[\"Unknown\",\"Anupam Kher\",\"Shah Rukh Khan\",\"Om Puri\",\"Naseeruddin Shah\",\"Takahiro Sakurai\",\"Akshay Kumar\",\"Yuki Kaji\",\"Amitabh Bachchan\",\"Paresh Rawal\"],\"xaxis\":\"x\",\"y\":[718,42,35,30,30,29,29,27,27,27],\"yaxis\":\"y\",\"type\":\"bar\"}],                        {\"template\":{\"data\":{\"histogram2dcontour\":[{\"type\":\"histogram2dcontour\",\"colorbar\":{\"outlinewidth\":0,\"ticks\":\"\"},\"colorscale\":[[0.0,\"#0d0887\"],[0.1111111111111111,\"#46039f\"],[0.2222222222222222,\"#7201a8\"],[0.3333333333333333,\"#9c179e\"],[0.4444444444444444,\"#bd3786\"],[0.5555555555555556,\"#d8576b\"],[0.6666666666666666,\"#ed7953\"],[0.7777777777777778,\"#fb9f3a\"],[0.8888888888888888,\"#fdca26\"],[1.0,\"#f0f921\"]]}],\"choropleth\":[{\"type\":\"choropleth\",\"colorbar\":{\"outlinewidth\":0,\"ticks\":\"\"}}],\"histogram2d\":[{\"type\":\"histogram2d\",\"colorbar\":{\"outlinewidth\":0,\"ticks\":\"\"},\"colorscale\":[[0.0,\"#0d0887\"],[0.1111111111111111,\"#46039f\"],[0.2222222222222222,\"#7201a8\"],[0.3333333333333333,\"#9c179e\"],[0.4444444444444444,\"#bd3786\"],[0.5555555555555556,\"#d8576b\"],[0.6666666666666666,\"#ed7953\"],[0.7777777777777778,\"#fb9f3a\"],[0.8888888888888888,\"#fdca26\"],[1.0,\"#f0f921\"]]}],\"heatmap\":[{\"type\":\"heatmap\",\"colorbar\":{\"outlinewidth\":0,\"ticks\":\"\"},\"colorscale\":[[0.0,\"#0d0887\"],[0.1111111111111111,\"#46039f\"],[0.2222222222222222,\"#7201a8\"],[0.3333333333333333,\"#9c179e\"],[0.4444444444444444,\"#bd3786\"],[0.5555555555555556,\"#d8576b\"],[0.6666666666666666,\"#ed7953\"],[0.7777777777777778,\"#fb9f3a\"],[0.8888888888888888,\"#fdca26\"],[1.0,\"#f0f921\"]]}],\"heatmapgl\":[{\"type\":\"heatmapgl\",\"colorbar\":{\"outlinewidth\":0,\"ticks\":\"\"},\"colorscale\":[[0.0,\"#0d0887\"],[0.1111111111111111,\"#46039f\"],[0.2222222222222222,\"#7201a8\"],[0.3333333333333333,\"#9c179e\"],[0.4444444444444444,\"#bd3786\"],[0.5555555555555556,\"#d8576b\"],[0.6666666666666666,\"#ed7953\"],[0.7777777777777778,\"#fb9f3a\"],[0.8888888888888888,\"#fdca26\"],[1.0,\"#f0f921\"]]}],\"contourcarpet\":[{\"type\":\"contourcarpet\",\"colorbar\":{\"outlinewidth\":0,\"ticks\":\"\"}}],\"contour\":[{\"type\":\"contour\",\"colorbar\":{\"outlinewidth\":0,\"ticks\":\"\"},\"colorscale\":[[0.0,\"#0d0887\"],[0.1111111111111111,\"#46039f\"],[0.2222222222222222,\"#7201a8\"],[0.3333333333333333,\"#9c179e\"],[0.4444444444444444,\"#bd3786\"],[0.5555555555555556,\"#d8576b\"],[0.6666666666666666,\"#ed7953\"],[0.7777777777777778,\"#fb9f3a\"],[0.8888888888888888,\"#fdca26\"],[1.0,\"#f0f921\"]]}],\"surface\":[{\"type\":\"surface\",\"colorbar\":{\"outlinewidth\":0,\"ticks\":\"\"},\"colorscale\":[[0.0,\"#0d0887\"],[0.1111111111111111,\"#46039f\"],[0.2222222222222222,\"#7201a8\"],[0.3333333333333333,\"#9c179e\"],[0.4444444444444444,\"#bd3786\"],[0.5555555555555556,\"#d8576b\"],[0.6666666666666666,\"#ed7953\"],[0.7777777777777778,\"#fb9f3a\"],[0.8888888888888888,\"#fdca26\"],[1.0,\"#f0f921\"]]}],\"mesh3d\":[{\"type\":\"mesh3d\",\"colorbar\":{\"outlinewidth\":0,\"ticks\":\"\"}}],\"scatter\":[{\"fillpattern\":{\"fillmode\":\"overlay\",\"size\":10,\"solidity\":0.2},\"type\":\"scatter\"}],\"parcoords\":[{\"type\":\"parcoords\",\"line\":{\"colorbar\":{\"outlinewidth\":0,\"ticks\":\"\"}}}],\"scatterpolargl\":[{\"type\":\"scatterpolargl\",\"marker\":{\"colorbar\":{\"outlinewidth\":0,\"ticks\":\"\"}}}],\"bar\":[{\"error_x\":{\"color\":\"#2a3f5f\"},\"error_y\":{\"color\":\"#2a3f5f\"},\"marker\":{\"line\":{\"color\":\"#E5ECF6\",\"width\":0.5},\"pattern\":{\"fillmode\":\"overlay\",\"size\":10,\"solidity\":0.2}},\"type\":\"bar\"}],\"scattergeo\":[{\"type\":\"scattergeo\",\"marker\":{\"colorbar\":{\"outlinewidth\":0,\"ticks\":\"\"}}}],\"scatterpolar\":[{\"type\":\"scatterpolar\",\"marker\":{\"colorbar\":{\"outlinewidth\":0,\"ticks\":\"\"}}}],\"histogram\":[{\"marker\":{\"pattern\":{\"fillmode\":\"overlay\",\"size\":10,\"solidity\":0.2}},\"type\":\"histogram\"}],\"scattergl\":[{\"type\":\"scattergl\",\"marker\":{\"colorbar\":{\"outlinewidth\":0,\"ticks\":\"\"}}}],\"scatter3d\":[{\"type\":\"scatter3d\",\"line\":{\"colorbar\":{\"outlinewidth\":0,\"ticks\":\"\"}},\"marker\":{\"colorbar\":{\"outlinewidth\":0,\"ticks\":\"\"}}}],\"scattermapbox\":[{\"type\":\"scattermapbox\",\"marker\":{\"colorbar\":{\"outlinewidth\":0,\"ticks\":\"\"}}}],\"scatterternary\":[{\"type\":\"scatterternary\",\"marker\":{\"colorbar\":{\"outlinewidth\":0,\"ticks\":\"\"}}}],\"scattercarpet\":[{\"type\":\"scattercarpet\",\"marker\":{\"colorbar\":{\"outlinewidth\":0,\"ticks\":\"\"}}}],\"carpet\":[{\"aaxis\":{\"endlinecolor\":\"#2a3f5f\",\"gridcolor\":\"white\",\"linecolor\":\"white\",\"minorgridcolor\":\"white\",\"startlinecolor\":\"#2a3f5f\"},\"baxis\":{\"endlinecolor\":\"#2a3f5f\",\"gridcolor\":\"white\",\"linecolor\":\"white\",\"minorgridcolor\":\"white\",\"startlinecolor\":\"#2a3f5f\"},\"type\":\"carpet\"}],\"table\":[{\"cells\":{\"fill\":{\"color\":\"#EBF0F8\"},\"line\":{\"color\":\"white\"}},\"header\":{\"fill\":{\"color\":\"#C8D4E3\"},\"line\":{\"color\":\"white\"}},\"type\":\"table\"}],\"barpolar\":[{\"marker\":{\"line\":{\"color\":\"#E5ECF6\",\"width\":0.5},\"pattern\":{\"fillmode\":\"overlay\",\"size\":10,\"solidity\":0.2}},\"type\":\"barpolar\"}],\"pie\":[{\"automargin\":true,\"type\":\"pie\"}]},\"layout\":{\"autotypenumbers\":\"strict\",\"colorway\":[\"#636efa\",\"#EF553B\",\"#00cc96\",\"#ab63fa\",\"#FFA15A\",\"#19d3f3\",\"#FF6692\",\"#B6E880\",\"#FF97FF\",\"#FECB52\"],\"font\":{\"color\":\"#2a3f5f\"},\"hovermode\":\"closest\",\"hoverlabel\":{\"align\":\"left\"},\"paper_bgcolor\":\"white\",\"plot_bgcolor\":\"#E5ECF6\",\"polar\":{\"bgcolor\":\"#E5ECF6\",\"angularaxis\":{\"gridcolor\":\"white\",\"linecolor\":\"white\",\"ticks\":\"\"},\"radialaxis\":{\"gridcolor\":\"white\",\"linecolor\":\"white\",\"ticks\":\"\"}},\"ternary\":{\"bgcolor\":\"#E5ECF6\",\"aaxis\":{\"gridcolor\":\"white\",\"linecolor\":\"white\",\"ticks\":\"\"},\"baxis\":{\"gridcolor\":\"white\",\"linecolor\":\"white\",\"ticks\":\"\"},\"caxis\":{\"gridcolor\":\"white\",\"linecolor\":\"white\",\"ticks\":\"\"}},\"coloraxis\":{\"colorbar\":{\"outlinewidth\":0,\"ticks\":\"\"}},\"colorscale\":{\"sequential\":[[0.0,\"#0d0887\"],[0.1111111111111111,\"#46039f\"],[0.2222222222222222,\"#7201a8\"],[0.3333333333333333,\"#9c179e\"],[0.4444444444444444,\"#bd3786\"],[0.5555555555555556,\"#d8576b\"],[0.6666666666666666,\"#ed7953\"],[0.7777777777777778,\"#fb9f3a\"],[0.8888888888888888,\"#fdca26\"],[1.0,\"#f0f921\"]],\"sequentialminus\":[[0.0,\"#0d0887\"],[0.1111111111111111,\"#46039f\"],[0.2222222222222222,\"#7201a8\"],[0.3333333333333333,\"#9c179e\"],[0.4444444444444444,\"#bd3786\"],[0.5555555555555556,\"#d8576b\"],[0.6666666666666666,\"#ed7953\"],[0.7777777777777778,\"#fb9f3a\"],[0.8888888888888888,\"#fdca26\"],[1.0,\"#f0f921\"]],\"diverging\":[[0,\"#8e0152\"],[0.1,\"#c51b7d\"],[0.2,\"#de77ae\"],[0.3,\"#f1b6da\"],[0.4,\"#fde0ef\"],[0.5,\"#f7f7f7\"],[0.6,\"#e6f5d0\"],[0.7,\"#b8e186\"],[0.8,\"#7fbc41\"],[0.9,\"#4d9221\"],[1,\"#276419\"]]},\"xaxis\":{\"gridcolor\":\"white\",\"linecolor\":\"white\",\"ticks\":\"\",\"title\":{\"standoff\":15},\"zerolinecolor\":\"white\",\"automargin\":true,\"zerolinewidth\":2},\"yaxis\":{\"gridcolor\":\"white\",\"linecolor\":\"white\",\"ticks\":\"\",\"title\":{\"standoff\":15},\"zerolinecolor\":\"white\",\"automargin\":true,\"zerolinewidth\":2},\"scene\":{\"xaxis\":{\"backgroundcolor\":\"#E5ECF6\",\"gridcolor\":\"white\",\"linecolor\":\"white\",\"showbackground\":true,\"ticks\":\"\",\"zerolinecolor\":\"white\",\"gridwidth\":2},\"yaxis\":{\"backgroundcolor\":\"#E5ECF6\",\"gridcolor\":\"white\",\"linecolor\":\"white\",\"showbackground\":true,\"ticks\":\"\",\"zerolinecolor\":\"white\",\"gridwidth\":2},\"zaxis\":{\"backgroundcolor\":\"#E5ECF6\",\"gridcolor\":\"white\",\"linecolor\":\"white\",\"showbackground\":true,\"ticks\":\"\",\"zerolinecolor\":\"white\",\"gridwidth\":2}},\"shapedefaults\":{\"line\":{\"color\":\"#2a3f5f\"}},\"annotationdefaults\":{\"arrowcolor\":\"#2a3f5f\",\"arrowhead\":0,\"arrowwidth\":1},\"geo\":{\"bgcolor\":\"white\",\"landcolor\":\"#E5ECF6\",\"subunitcolor\":\"white\",\"showland\":true,\"showlakes\":true,\"lakecolor\":\"white\"},\"title\":{\"x\":0.05},\"mapbox\":{\"style\":\"light\"}}},\"xaxis\":{\"anchor\":\"y\",\"domain\":[0.0,1.0],\"title\":{\"text\":\"index\"},\"tickangle\":-45},\"yaxis\":{\"anchor\":\"x\",\"domain\":[0.0,1.0],\"title\":{\"text\":\"Count\"}},\"legend\":{\"tracegroupgap\":0},\"title\":{\"text\":\"Top 10 Actors/Actresses with Most Appearances\"},\"barmode\":\"relative\"},                        {\"responsive\": true}                    ).then(function(){\n",
              "                            \n",
              "var gd = document.getElementById('eca2570c-acd9-4255-bb47-f24c0f98b8aa');\n",
              "var x = new MutationObserver(function (mutations, observer) {{\n",
              "        var display = window.getComputedStyle(gd).display;\n",
              "        if (!display || display === 'none') {{\n",
              "            console.log([gd, 'removed!']);\n",
              "            Plotly.purge(gd);\n",
              "            observer.disconnect();\n",
              "        }}\n",
              "}});\n",
              "\n",
              "// Listen for the removal of the full notebook cells\n",
              "var notebookContainer = gd.closest('#notebook-container');\n",
              "if (notebookContainer) {{\n",
              "    x.observe(notebookContainer, {childList: true});\n",
              "}}\n",
              "\n",
              "// Listen for the clearing of the current output cell\n",
              "var outputEl = gd.closest('.output');\n",
              "if (outputEl) {{\n",
              "    x.observe(outputEl, {childList: true});\n",
              "}}\n",
              "\n",
              "                        })                };                            </script>        </div>\n",
              "</body>\n",
              "</html>"
            ]
          },
          "metadata": {}
        }
      ]
    },
    {
      "cell_type": "markdown",
      "source": [
        "##### 1. Why did you pick the specific chart?"
      ],
      "metadata": {
        "id": "t27r6nlMphqO"
      }
    },
    {
      "cell_type": "markdown",
      "source": [
        "Answer Here."
      ],
      "metadata": {
        "id": "iv6ro40sphqO"
      }
    },
    {
      "cell_type": "markdown",
      "source": [
        "##### 2. What is/are the insight(s) found from the chart?"
      ],
      "metadata": {
        "id": "r2jJGEOYphqO"
      }
    },
    {
      "cell_type": "markdown",
      "source": [
        "Answer Here"
      ],
      "metadata": {
        "id": "Po6ZPi4hphqO"
      }
    },
    {
      "cell_type": "markdown",
      "source": [
        "##### 3. Will the gained insights help creating a positive business impact?\n",
        "Are there any insights that lead to negative growth? Justify with specific reason."
      ],
      "metadata": {
        "id": "b0JNsNcRphqO"
      }
    },
    {
      "cell_type": "markdown",
      "source": [
        "Answer Here"
      ],
      "metadata": {
        "id": "xvSq8iUTphqO"
      }
    },
    {
      "cell_type": "markdown",
      "source": [
        "#### Chart - 8"
      ],
      "metadata": {
        "id": "BZR9WyysphqO"
      }
    },
    {
      "cell_type": "code",
      "source": [
        "# Chart - 8 visualization code\n",
        "# Count the number of TV shows for each country and select the top 10\n",
        "tv_shows_by_country = nf_df[nf_df['type'] == 'TV Show']['country'].value_counts().head(10)\n",
        "\n",
        "# Create a bar chart\n",
        "fig = px.bar(tv_shows_by_country, x=tv_shows_by_country.index, y=tv_shows_by_country.values,\n",
        "             labels={'x': 'Country', 'y': 'Count'},\n",
        "             title='Top 10 Countries with Most TV Shows')\n",
        "\n",
        "fig.show()\n",
        "\n"
      ],
      "metadata": {
        "id": "TdPTWpAVphqO",
        "colab": {
          "base_uri": "https://localhost:8080/",
          "height": 542
        },
        "outputId": "e31fc99d-e4bc-4aaa-8563-9791d866e37b"
      },
      "execution_count": 53,
      "outputs": [
        {
          "output_type": "display_data",
          "data": {
            "text/html": [
              "<html>\n",
              "<head><meta charset=\"utf-8\" /></head>\n",
              "<body>\n",
              "    <div>            <script src=\"https://cdnjs.cloudflare.com/ajax/libs/mathjax/2.7.5/MathJax.js?config=TeX-AMS-MML_SVG\"></script><script type=\"text/javascript\">if (window.MathJax && window.MathJax.Hub && window.MathJax.Hub.Config) {window.MathJax.Hub.Config({SVG: {font: \"STIX-Web\"}});}</script>                <script type=\"text/javascript\">window.PlotlyConfig = {MathJaxConfig: 'local'};</script>\n",
              "        <script src=\"https://cdn.plot.ly/plotly-2.18.2.min.js\"></script>                <div id=\"8e03d799-4347-48d3-9520-44f08681609d\" class=\"plotly-graph-div\" style=\"height:525px; width:100%;\"></div>            <script type=\"text/javascript\">                                    window.PLOTLYENV=window.PLOTLYENV || {};                                    if (document.getElementById(\"8e03d799-4347-48d3-9520-44f08681609d\")) {                    Plotly.newPlot(                        \"8e03d799-4347-48d3-9520-44f08681609d\",                        [{\"alignmentgroup\":\"True\",\"hovertemplate\":\"index=%{x}<br>Count=%{y}<extra></extra>\",\"legendgroup\":\"\",\"marker\":{\"color\":\"#636efa\",\"pattern\":{\"shape\":\"\"}},\"name\":\"\",\"offsetgroup\":\"\",\"orientation\":\"v\",\"showlegend\":false,\"textposition\":\"auto\",\"x\":[\"United States\",\"Unknown\",\"United Kingdom\",\"Japan\",\"South Korea\",\"India\",\"Taiwan\",\"Canada\",\"Australia\",\"France\"],\"xaxis\":\"x\",\"y\":[705,277,204,157,147,71,68,59,46,46],\"yaxis\":\"y\",\"type\":\"bar\"}],                        {\"template\":{\"data\":{\"histogram2dcontour\":[{\"type\":\"histogram2dcontour\",\"colorbar\":{\"outlinewidth\":0,\"ticks\":\"\"},\"colorscale\":[[0.0,\"#0d0887\"],[0.1111111111111111,\"#46039f\"],[0.2222222222222222,\"#7201a8\"],[0.3333333333333333,\"#9c179e\"],[0.4444444444444444,\"#bd3786\"],[0.5555555555555556,\"#d8576b\"],[0.6666666666666666,\"#ed7953\"],[0.7777777777777778,\"#fb9f3a\"],[0.8888888888888888,\"#fdca26\"],[1.0,\"#f0f921\"]]}],\"choropleth\":[{\"type\":\"choropleth\",\"colorbar\":{\"outlinewidth\":0,\"ticks\":\"\"}}],\"histogram2d\":[{\"type\":\"histogram2d\",\"colorbar\":{\"outlinewidth\":0,\"ticks\":\"\"},\"colorscale\":[[0.0,\"#0d0887\"],[0.1111111111111111,\"#46039f\"],[0.2222222222222222,\"#7201a8\"],[0.3333333333333333,\"#9c179e\"],[0.4444444444444444,\"#bd3786\"],[0.5555555555555556,\"#d8576b\"],[0.6666666666666666,\"#ed7953\"],[0.7777777777777778,\"#fb9f3a\"],[0.8888888888888888,\"#fdca26\"],[1.0,\"#f0f921\"]]}],\"heatmap\":[{\"type\":\"heatmap\",\"colorbar\":{\"outlinewidth\":0,\"ticks\":\"\"},\"colorscale\":[[0.0,\"#0d0887\"],[0.1111111111111111,\"#46039f\"],[0.2222222222222222,\"#7201a8\"],[0.3333333333333333,\"#9c179e\"],[0.4444444444444444,\"#bd3786\"],[0.5555555555555556,\"#d8576b\"],[0.6666666666666666,\"#ed7953\"],[0.7777777777777778,\"#fb9f3a\"],[0.8888888888888888,\"#fdca26\"],[1.0,\"#f0f921\"]]}],\"heatmapgl\":[{\"type\":\"heatmapgl\",\"colorbar\":{\"outlinewidth\":0,\"ticks\":\"\"},\"colorscale\":[[0.0,\"#0d0887\"],[0.1111111111111111,\"#46039f\"],[0.2222222222222222,\"#7201a8\"],[0.3333333333333333,\"#9c179e\"],[0.4444444444444444,\"#bd3786\"],[0.5555555555555556,\"#d8576b\"],[0.6666666666666666,\"#ed7953\"],[0.7777777777777778,\"#fb9f3a\"],[0.8888888888888888,\"#fdca26\"],[1.0,\"#f0f921\"]]}],\"contourcarpet\":[{\"type\":\"contourcarpet\",\"colorbar\":{\"outlinewidth\":0,\"ticks\":\"\"}}],\"contour\":[{\"type\":\"contour\",\"colorbar\":{\"outlinewidth\":0,\"ticks\":\"\"},\"colorscale\":[[0.0,\"#0d0887\"],[0.1111111111111111,\"#46039f\"],[0.2222222222222222,\"#7201a8\"],[0.3333333333333333,\"#9c179e\"],[0.4444444444444444,\"#bd3786\"],[0.5555555555555556,\"#d8576b\"],[0.6666666666666666,\"#ed7953\"],[0.7777777777777778,\"#fb9f3a\"],[0.8888888888888888,\"#fdca26\"],[1.0,\"#f0f921\"]]}],\"surface\":[{\"type\":\"surface\",\"colorbar\":{\"outlinewidth\":0,\"ticks\":\"\"},\"colorscale\":[[0.0,\"#0d0887\"],[0.1111111111111111,\"#46039f\"],[0.2222222222222222,\"#7201a8\"],[0.3333333333333333,\"#9c179e\"],[0.4444444444444444,\"#bd3786\"],[0.5555555555555556,\"#d8576b\"],[0.6666666666666666,\"#ed7953\"],[0.7777777777777778,\"#fb9f3a\"],[0.8888888888888888,\"#fdca26\"],[1.0,\"#f0f921\"]]}],\"mesh3d\":[{\"type\":\"mesh3d\",\"colorbar\":{\"outlinewidth\":0,\"ticks\":\"\"}}],\"scatter\":[{\"fillpattern\":{\"fillmode\":\"overlay\",\"size\":10,\"solidity\":0.2},\"type\":\"scatter\"}],\"parcoords\":[{\"type\":\"parcoords\",\"line\":{\"colorbar\":{\"outlinewidth\":0,\"ticks\":\"\"}}}],\"scatterpolargl\":[{\"type\":\"scatterpolargl\",\"marker\":{\"colorbar\":{\"outlinewidth\":0,\"ticks\":\"\"}}}],\"bar\":[{\"error_x\":{\"color\":\"#2a3f5f\"},\"error_y\":{\"color\":\"#2a3f5f\"},\"marker\":{\"line\":{\"color\":\"#E5ECF6\",\"width\":0.5},\"pattern\":{\"fillmode\":\"overlay\",\"size\":10,\"solidity\":0.2}},\"type\":\"bar\"}],\"scattergeo\":[{\"type\":\"scattergeo\",\"marker\":{\"colorbar\":{\"outlinewidth\":0,\"ticks\":\"\"}}}],\"scatterpolar\":[{\"type\":\"scatterpolar\",\"marker\":{\"colorbar\":{\"outlinewidth\":0,\"ticks\":\"\"}}}],\"histogram\":[{\"marker\":{\"pattern\":{\"fillmode\":\"overlay\",\"size\":10,\"solidity\":0.2}},\"type\":\"histogram\"}],\"scattergl\":[{\"type\":\"scattergl\",\"marker\":{\"colorbar\":{\"outlinewidth\":0,\"ticks\":\"\"}}}],\"scatter3d\":[{\"type\":\"scatter3d\",\"line\":{\"colorbar\":{\"outlinewidth\":0,\"ticks\":\"\"}},\"marker\":{\"colorbar\":{\"outlinewidth\":0,\"ticks\":\"\"}}}],\"scattermapbox\":[{\"type\":\"scattermapbox\",\"marker\":{\"colorbar\":{\"outlinewidth\":0,\"ticks\":\"\"}}}],\"scatterternary\":[{\"type\":\"scatterternary\",\"marker\":{\"colorbar\":{\"outlinewidth\":0,\"ticks\":\"\"}}}],\"scattercarpet\":[{\"type\":\"scattercarpet\",\"marker\":{\"colorbar\":{\"outlinewidth\":0,\"ticks\":\"\"}}}],\"carpet\":[{\"aaxis\":{\"endlinecolor\":\"#2a3f5f\",\"gridcolor\":\"white\",\"linecolor\":\"white\",\"minorgridcolor\":\"white\",\"startlinecolor\":\"#2a3f5f\"},\"baxis\":{\"endlinecolor\":\"#2a3f5f\",\"gridcolor\":\"white\",\"linecolor\":\"white\",\"minorgridcolor\":\"white\",\"startlinecolor\":\"#2a3f5f\"},\"type\":\"carpet\"}],\"table\":[{\"cells\":{\"fill\":{\"color\":\"#EBF0F8\"},\"line\":{\"color\":\"white\"}},\"header\":{\"fill\":{\"color\":\"#C8D4E3\"},\"line\":{\"color\":\"white\"}},\"type\":\"table\"}],\"barpolar\":[{\"marker\":{\"line\":{\"color\":\"#E5ECF6\",\"width\":0.5},\"pattern\":{\"fillmode\":\"overlay\",\"size\":10,\"solidity\":0.2}},\"type\":\"barpolar\"}],\"pie\":[{\"automargin\":true,\"type\":\"pie\"}]},\"layout\":{\"autotypenumbers\":\"strict\",\"colorway\":[\"#636efa\",\"#EF553B\",\"#00cc96\",\"#ab63fa\",\"#FFA15A\",\"#19d3f3\",\"#FF6692\",\"#B6E880\",\"#FF97FF\",\"#FECB52\"],\"font\":{\"color\":\"#2a3f5f\"},\"hovermode\":\"closest\",\"hoverlabel\":{\"align\":\"left\"},\"paper_bgcolor\":\"white\",\"plot_bgcolor\":\"#E5ECF6\",\"polar\":{\"bgcolor\":\"#E5ECF6\",\"angularaxis\":{\"gridcolor\":\"white\",\"linecolor\":\"white\",\"ticks\":\"\"},\"radialaxis\":{\"gridcolor\":\"white\",\"linecolor\":\"white\",\"ticks\":\"\"}},\"ternary\":{\"bgcolor\":\"#E5ECF6\",\"aaxis\":{\"gridcolor\":\"white\",\"linecolor\":\"white\",\"ticks\":\"\"},\"baxis\":{\"gridcolor\":\"white\",\"linecolor\":\"white\",\"ticks\":\"\"},\"caxis\":{\"gridcolor\":\"white\",\"linecolor\":\"white\",\"ticks\":\"\"}},\"coloraxis\":{\"colorbar\":{\"outlinewidth\":0,\"ticks\":\"\"}},\"colorscale\":{\"sequential\":[[0.0,\"#0d0887\"],[0.1111111111111111,\"#46039f\"],[0.2222222222222222,\"#7201a8\"],[0.3333333333333333,\"#9c179e\"],[0.4444444444444444,\"#bd3786\"],[0.5555555555555556,\"#d8576b\"],[0.6666666666666666,\"#ed7953\"],[0.7777777777777778,\"#fb9f3a\"],[0.8888888888888888,\"#fdca26\"],[1.0,\"#f0f921\"]],\"sequentialminus\":[[0.0,\"#0d0887\"],[0.1111111111111111,\"#46039f\"],[0.2222222222222222,\"#7201a8\"],[0.3333333333333333,\"#9c179e\"],[0.4444444444444444,\"#bd3786\"],[0.5555555555555556,\"#d8576b\"],[0.6666666666666666,\"#ed7953\"],[0.7777777777777778,\"#fb9f3a\"],[0.8888888888888888,\"#fdca26\"],[1.0,\"#f0f921\"]],\"diverging\":[[0,\"#8e0152\"],[0.1,\"#c51b7d\"],[0.2,\"#de77ae\"],[0.3,\"#f1b6da\"],[0.4,\"#fde0ef\"],[0.5,\"#f7f7f7\"],[0.6,\"#e6f5d0\"],[0.7,\"#b8e186\"],[0.8,\"#7fbc41\"],[0.9,\"#4d9221\"],[1,\"#276419\"]]},\"xaxis\":{\"gridcolor\":\"white\",\"linecolor\":\"white\",\"ticks\":\"\",\"title\":{\"standoff\":15},\"zerolinecolor\":\"white\",\"automargin\":true,\"zerolinewidth\":2},\"yaxis\":{\"gridcolor\":\"white\",\"linecolor\":\"white\",\"ticks\":\"\",\"title\":{\"standoff\":15},\"zerolinecolor\":\"white\",\"automargin\":true,\"zerolinewidth\":2},\"scene\":{\"xaxis\":{\"backgroundcolor\":\"#E5ECF6\",\"gridcolor\":\"white\",\"linecolor\":\"white\",\"showbackground\":true,\"ticks\":\"\",\"zerolinecolor\":\"white\",\"gridwidth\":2},\"yaxis\":{\"backgroundcolor\":\"#E5ECF6\",\"gridcolor\":\"white\",\"linecolor\":\"white\",\"showbackground\":true,\"ticks\":\"\",\"zerolinecolor\":\"white\",\"gridwidth\":2},\"zaxis\":{\"backgroundcolor\":\"#E5ECF6\",\"gridcolor\":\"white\",\"linecolor\":\"white\",\"showbackground\":true,\"ticks\":\"\",\"zerolinecolor\":\"white\",\"gridwidth\":2}},\"shapedefaults\":{\"line\":{\"color\":\"#2a3f5f\"}},\"annotationdefaults\":{\"arrowcolor\":\"#2a3f5f\",\"arrowhead\":0,\"arrowwidth\":1},\"geo\":{\"bgcolor\":\"white\",\"landcolor\":\"#E5ECF6\",\"subunitcolor\":\"white\",\"showland\":true,\"showlakes\":true,\"lakecolor\":\"white\"},\"title\":{\"x\":0.05},\"mapbox\":{\"style\":\"light\"}}},\"xaxis\":{\"anchor\":\"y\",\"domain\":[0.0,1.0],\"title\":{\"text\":\"index\"}},\"yaxis\":{\"anchor\":\"x\",\"domain\":[0.0,1.0],\"title\":{\"text\":\"Count\"}},\"legend\":{\"tracegroupgap\":0},\"title\":{\"text\":\"Top 10 Countries with Most TV Shows\"},\"barmode\":\"relative\"},                        {\"responsive\": true}                    ).then(function(){\n",
              "                            \n",
              "var gd = document.getElementById('8e03d799-4347-48d3-9520-44f08681609d');\n",
              "var x = new MutationObserver(function (mutations, observer) {{\n",
              "        var display = window.getComputedStyle(gd).display;\n",
              "        if (!display || display === 'none') {{\n",
              "            console.log([gd, 'removed!']);\n",
              "            Plotly.purge(gd);\n",
              "            observer.disconnect();\n",
              "        }}\n",
              "}});\n",
              "\n",
              "// Listen for the removal of the full notebook cells\n",
              "var notebookContainer = gd.closest('#notebook-container');\n",
              "if (notebookContainer) {{\n",
              "    x.observe(notebookContainer, {childList: true});\n",
              "}}\n",
              "\n",
              "// Listen for the clearing of the current output cell\n",
              "var outputEl = gd.closest('.output');\n",
              "if (outputEl) {{\n",
              "    x.observe(outputEl, {childList: true});\n",
              "}}\n",
              "\n",
              "                        })                };                            </script>        </div>\n",
              "</body>\n",
              "</html>"
            ]
          },
          "metadata": {}
        }
      ]
    },
    {
      "cell_type": "markdown",
      "source": [
        "##### 1. Why did you pick the specific chart?"
      ],
      "metadata": {
        "id": "jj7wYXLtphqO"
      }
    },
    {
      "cell_type": "markdown",
      "source": [
        "Answer Here."
      ],
      "metadata": {
        "id": "Ob8u6rCTphqO"
      }
    },
    {
      "cell_type": "markdown",
      "source": [
        "##### 2. What is/are the insight(s) found from the chart?"
      ],
      "metadata": {
        "id": "eZrbJ2SmphqO"
      }
    },
    {
      "cell_type": "markdown",
      "source": [
        "Answer Here"
      ],
      "metadata": {
        "id": "mZtgC_hjphqO"
      }
    },
    {
      "cell_type": "markdown",
      "source": [
        "##### 3. Will the gained insights help creating a positive business impact?\n",
        "Are there any insights that lead to negative growth? Justify with specific reason."
      ],
      "metadata": {
        "id": "rFu4xreNphqO"
      }
    },
    {
      "cell_type": "markdown",
      "source": [
        "Answer Here"
      ],
      "metadata": {
        "id": "ey_0qi68phqO"
      }
    },
    {
      "cell_type": "markdown",
      "source": [
        "#### Chart - 9"
      ],
      "metadata": {
        "id": "YJ55k-q6phqO"
      }
    },
    {
      "cell_type": "code",
      "source": [
        "# Chart - 9 visualization code\n",
        "# Filter the dataset to include only movies\n",
        "movies_df = nf_df[nf_df['type'] == 'Movie']\n",
        "\n",
        "# Convert the duration column to numeric values\n",
        "movies_df['duration'] = movies_df['duration'].str.extract('(\\d+)').astype(int)\n",
        "\n",
        "# Create a histogram of movie durations\n",
        "fig = px.histogram(movies_df, x='duration', nbins=30, labels={'duration': 'Duration (minutes)', 'count': 'Count'})\n",
        "fig.update_layout(title='Distribution of Movie Durations')\n",
        "fig.show()"
      ],
      "metadata": {
        "id": "B2aS4O1ophqO",
        "colab": {
          "base_uri": "https://localhost:8080/",
          "height": 542
        },
        "outputId": "d309cfc8-930b-408b-d82f-4f81c879989d"
      },
      "execution_count": 52,
      "outputs": [
        {
          "output_type": "display_data",
          "data": {
            "text/html": [
              "<html>\n",
              "<head><meta charset=\"utf-8\" /></head>\n",
              "<body>\n",
              "    <div>            <script src=\"https://cdnjs.cloudflare.com/ajax/libs/mathjax/2.7.5/MathJax.js?config=TeX-AMS-MML_SVG\"></script><script type=\"text/javascript\">if (window.MathJax && window.MathJax.Hub && window.MathJax.Hub.Config) {window.MathJax.Hub.Config({SVG: {font: \"STIX-Web\"}});}</script>                <script type=\"text/javascript\">window.PlotlyConfig = {MathJaxConfig: 'local'};</script>\n",
              "        <script src=\"https://cdn.plot.ly/plotly-2.18.2.min.js\"></script>                <div id=\"e84eee54-b73b-42cb-9d60-c0ec11edb9ac\" class=\"plotly-graph-div\" style=\"height:525px; width:100%;\"></div>            <script type=\"text/javascript\">                                    window.PLOTLYENV=window.PLOTLYENV || {};                                    if (document.getElementById(\"e84eee54-b73b-42cb-9d60-c0ec11edb9ac\")) {                    Plotly.newPlot(                        \"e84eee54-b73b-42cb-9d60-c0ec11edb9ac\",                        [{\"alignmentgroup\":\"True\",\"bingroup\":\"x\",\"hovertemplate\":\"Duration (minutes)=%{x}<br>count=%{y}<extra></extra>\",\"legendgroup\":\"\",\"marker\":{\"color\":\"#636efa\",\"pattern\":{\"shape\":\"\"}},\"name\":\"\",\"nbinsx\":30,\"offsetgroup\":\"\",\"orientation\":\"v\",\"showlegend\":false,\"x\":[93,78,80,123,95,119,118,143,103,89,91,149,144,124,87,110,128,117,100,84,99,95,90,102,104,99,105,56,125,119,81,97,106,99,107,93,89,105,87,97,109,93,109,44,75,101,89,90,90,93,101,37,113,89,84,102,102,114,130,90,94,97,143,91,107,95,119,93,101,93,140,135,82,70,104,117,121,92,124,164,53,93,91,83,93,114,116,93,81,84,105,86,120,106,92,96,97,99,100,126,96,75,94,129,80,103,96,77,137,148,123,121,95,28,99,104,122,104,94,176,107,90,94,101,87,92,85,93,22,95,86,137,101,68,121,111,110,29,142,168,102,92,86,22,22,21,59,93,86,80,109,92,92,89,96,95,87,93,113,20,117,97,98,108,125,91,76,90,82,111,92,110,94,100,91,94,44,108,130,83,123,106,87,130,100,96,89,95,26,156,98,30,108,92,28,99,85,122,84,57,107,102,103,91,104,91,110,111,77,99,122,150,117,126,148,122,95,133,164,115,154,133,110,127,146,136,100,90,88,131,44,101,123,90,89,87,24,88,133,110,112,129,87,87,120,59,74,96,91,59,105,63,111,96,99,92,86,90,63,106,38,93,87,25,105,94,107,89,92,22,174,60,97,122,91,84,97,127,153,158,151,150,105,109,81,162,104,54,94,83,85,106,60,102,88,51,100,131,109,69,106,115,60,64,110,54,147,112,87,63,88,42,90,89,79,101,102,122,85,83,92,40,84,104,91,109,100,90,90,94,99,90,95,92,103,103,103,45,45,90,106,75,98,112,92,103,104,92,172,125,96,44,81,112,122,101,53,53,110,10,99,95,119,163,55,84,96,102,90,106,72,127,116,128,61,57,80,80,75,75,79,93,129,108,87,71,97,91,83,85,116,130,111,113,97,102,106,160,137,171,171,104,95,90,128,103,121,30,48,139,105,104,162,157,15,106,130,88,146,64,104,127,92,100,72,118,110,65,64,59,122,90,60,134,89,161,86,87,130,107,80,79,62,93,81,87,54,98,113,91,89,63,110,98,125,106,93,139,90,123,168,83,101,94,100,117,133,81,91,104,106,112,122,102,88,99,186,49,94,90,95,97,110,97,73,88,150,97,91,92,111,101,112,73,89,129,58,80,65,99,126,135,127,165,166,166,138,159,160,159,136,112,101,143,127,98,61,95,86,84,111,92,102,97,90,119,147,99,130,87,83,83,105,91,117,117,78,75,78,149,103,108,84,94,95,141,122,134,107,126,122,95,88,101,74,64,74,74,83,72,79,72,80,75,75,72,109,132,110,99,144,91,105,166,103,128,118,87,77,98,94,125,29,102,121,116,110,88,52,89,52,137,51,110,92,119,81,73,75,99,89,121,100,92,100,98,97,97,86,105,100,96,115,99,76,113,88,106,127,90,74,91,85,90,102,90,87,100,25,94,105,99,116,82,120,77,92,107,62,57,70,98,77,44,97,100,104,56,108,83,91,149,112,102,98,107,59,120,151,116,112,117,130,74,150,63,138,148,114,123,97,105,107,106,87,93,88,126,107,103,90,68,100,95,108,86,81,65,67,78,69,28,34,61,56,81,97,132,110,66,127,131,107,124,38,115,88,97,116,132,117,137,100,79,162,144,79,312,135,83,114,88,116,91,83,80,90,106,129,94,94,120,83,91,130,91,102,85,88,110,113,123,180,98,81,90,90,94,112,129,85,108,60,60,97,47,99,83,168,116,99,106,130,161,111,26,92,102,99,89,108,123,86,89,88,126,117,111,79,96,70,87,89,86,74,139,112,84,100,80,86,105,90,63,96,89,90,102,51,92,94,96,108,105,81,105,116,77,61,110,110,94,51,118,100,95,133,97,110,90,120,155,91,90,90,129,103,103,14,95,103,73,94,95,94,97,98,98,119,76,104,148,78,102,94,98,108,128,110,122,177,104,135,127,114,98,87,151,78,73,125,126,101,11,11,22,93,95,105,104,104,117,101,120,114,93,104,99,9,103,126,81,46,104,92,142,131,113,83,67,63,82,119,98,98,85,84,82,111,145,125,108,81,108,141,117,74,96,82,75,77,60,107,156,110,116,148,126,135,110,129,132,118,166,112,164,102,121,87,95,86,106,121,115,98,106,94,85,121,121,113,89,129,99,105,116,115,71,75,135,88,87,63,62,62,112,113,82,25,98,87,63,112,127,111,63,92,105,146,96,90,114,101,80,84,66,55,98,65,92,99,59,119,87,106,87,112,88,105,101,86,86,91,99,104,86,104,47,56,61,34,158,118,127,130,115,86,87,109,151,106,130,69,77,110,102,88,106,91,98,103,89,108,104,124,95,112,96,172,124,90,95,85,51,137,57,98,91,88,69,120,98,98,73,66,62,56,118,110,114,112,105,92,117,137,84,52,96,112,90,106,106,116,97,100,127,96,88,45,8,101,12,69,88,91,103,88,75,90,90,97,67,112,102,114,107,110,14,78,80,108,67,40,81,120,101,114,95,90,45,99,93,82,96,96,59,58,102,107,156,82,118,133,153,135,117,103,93,82,115,151,103,117,64,100,81,70,52,161,97,55,78,103,108,75,113,98,100,91,93,81,90,113,97,104,116,121,112,66,85,84,77,97,73,107,91,76,81,110,90,94,78,97,86,86,94,83,43,100,92,149,93,91,88,100,94,111,71,53,101,146,93,107,156,82,137,79,92,128,101,102,102,96,62,56,99,83,140,62,70,66,74,50,69,94,88,76,107,90,79,136,99,97,88,137,87,108,94,123,128,157,114,127,127,102,124,132,113,93,113,96,90,133,90,69,23,23,165,185,174,176,166,145,109,118,154,115,90,108,134,107,111,87,112,107,95,165,91,106,121,200,93,118,120,90,99,90,107,89,169,148,83,96,99,95,88,94,115,113,93,93,92,98,65,127,105,97,114,134,142,105,105,110,94,104,126,94,69,82,86,86,103,94,103,97,84,98,97,68,27,46,46,46,42,92,109,46,89,92,162,119,99,97,100,102,94,92,97,93,162,85,110,170,165,141,88,52,90,81,91,107,106,92,140,127,82,98,69,90,92,103,80,65,133,153,100,109,102,124,105,120,134,151,141,120,106,109,105,89,123,119,85,82,52,106,48,73,122,74,95,73,79,94,143,81,196,84,28,27,98,119,90,109,93,92,49,90,102,82,128,90,74,94,87,108,151,40,109,91,163,66,93,124,85,59,103,105,102,107,52,81,99,69,88,120,95,100,91,110,124,96,69,91,96,103,102,96,98,133,124,127,102,134,108,133,103,58,79,101,78,96,103,81,95,117,110,25,108,99,106,103,92,90,60,89,54,106,61,150,80,124,98,82,99,92,29,109,91,33,102,114,146,94,75,158,61,90,72,95,100,97,118,92,70,110,58,91,60,86,91,63,133,103,117,181,118,101,204,29,92,94,118,98,90,93,125,106,114,40,83,117,99,60,60,91,96,102,90,123,103,137,90,112,49,61,78,124,60,104,83,163,119,74,102,83,88,86,66,90,134,92,145,105,95,93,93,84,112,93,81,98,123,132,74,87,105,109,96,61,88,125,118,113,100,79,86,61,54,66,87,70,32,85,91,105,93,65,115,91,58,51,139,112,135,99,103,116,72,86,104,97,92,161,104,93,35,93,99,106,47,52,97,85,135,75,110,88,91,134,82,87,106,109,97,88,98,110,88,123,104,128,91,132,88,58,57,126,101,108,111,135,96,98,98,98,102,86,148,167,96,109,70,78,79,78,62,96,95,126,97,107,118,130,154,90,107,95,96,52,87,103,109,98,101,103,110,104,85,101,129,163,100,78,58,47,110,145,58,56,22,95,161,141,115,101,96,68,58,90,126,106,92,103,82,71,121,77,91,77,86,103,42,60,111,103,129,113,106,105,101,91,88,137,22,130,89,110,112,135,148,100,101,96,115,96,90,103,75,99,99,93,90,90,101,145,95,92,102,90,144,137,98,109,150,117,93,96,133,71,80,57,98,110,131,95,102,66,65,114,96,97,106,82,78,67,84,95,120,149,126,90,143,113,106,155,57,121,91,100,101,137,138,125,95,154,106,116,116,97,93,129,111,117,65,158,110,108,79,95,81,99,86,73,70,68,86,138,110,78,127,129,91,179,113,79,105,93,98,94,79,96,67,99,62,55,101,88,95,87,83,90,100,73,135,151,109,109,89,99,86,86,85,129,98,93,111,58,95,89,97,89,90,104,119,92,107,124,87,91,94,118,86,102,122,126,117,65,118,126,87,156,97,96,89,97,40,143,81,88,87,96,104,129,124,118,111,125,120,91,137,104,80,127,141,117,140,95,93,97,118,100,118,150,44,54,170,118,126,128,104,105,86,94,106,92,108,89,95,103,92,102,126,87,138,73,84,111,100,119,94,86,142,95,95,80,79,81,120,61,85,104,96,91,134,93,120,83,82,88,102,101,96,97,105,101,86,88,84,89,113,110,105,116,94,110,104,116,47,102,51,143,103,104,127,83,193,176,95,149,131,79,101,97,89,91,140,85,85,150,82,117,84,106,107,90,98,82,87,54,102,114,99,139,94,88,89,93,82,117,91,91,97,89,106,116,128,81,88,80,100,96,80,67,119,75,112,135,110,94,91,121,108,104,124,13,87,128,78,72,72,78,75,140,108,97,103,95,86,104,101,94,98,114,99,94,103,89,99,116,102,129,87,148,103,89,119,106,90,118,95,101,123,127,116,119,99,90,90,153,122,109,125,106,141,106,103,122,87,116,45,102,107,148,116,88,99,100,99,72,134,87,91,88,96,107,108,105,105,127,137,77,108,71,93,96,99,102,129,130,115,113,88,98,140,92,127,127,101,101,112,91,84,105,88,141,68,162,163,147,142,143,93,86,68,65,58,154,44,92,90,124,91,76,155,101,132,92,22,132,94,132,94,77,107,103,142,128,105,97,90,84,69,58,97,80,71,71,85,75,59,119,78,69,67,103,109,62,61,81,69,134,80,53,84,86,44,131,94,72,74,71,77,70,77,87,67,71,62,102,62,58,83,135,124,69,79,181,60,55,63,128,98,69,78,214,90,67,64,64,79,90,133,125,92,90,80,70,65,60,62,17,98,96,97,101,135,75,79,99,101,90,84,70,137,133,145,91,52,123,113,107,128,101,104,94,96,107,92,95,106,90,106,138,110,100,139,130,132,133,126,91,173,105,148,192,151,209,171,120,122,85,120,113,187,154,99,80,105,41,107,128,104,93,110,160,138,112,101,110,107,65,135,118,137,117,65,118,86,140,66,64,71,89,60,61,85,45,132,53,116,133,116,82,62,68,62,60,89,75,67,96,70,63,62,42,90,170,151,121,132,124,120,157,124,110,90,97,108,95,90,102,111,137,100,53,100,87,106,112,107,87,86,100,80,97,103,109,81,182,88,98,110,114,87,132,101,145,93,116,85,84,92,98,88,99,63,121,104,104,105,135,56,107,95,96,115,117,58,62,65,61,65,65,58,60,81,126,124,85,114,93,136,185,126,99,79,26,23,107,106,133,147,95,100,149,165,124,52,150,165,84,104,114,109,88,50,87,92,143,116,112,40,94,101,104,110,111,83,101,224,118,111,185,153,145,82,140,87,68,86,86,76,115,93,98,83,81,116,105,99,121,54,78,100,89,37,33,35,32,147,132,110,132,97,108,101,68,100,22,48,25,22,22,22,44,22,111,109,78,103,158,66,24,144,93,58,116,113,90,68,104,86,118,99,89,126,83,109,80,40,109,84,104,105,99,104,105,116,94,85,59,150,109,94,111,95,59,103,116,58,89,92,95,23,25,85,20,102,90,68,67,66,70,66,68,69,91,102,149,87,98,94,90,233,108,85,105,95,103,89,118,114,153,106,96,68,40,96,117,88,116,155,28,71,88,64,92,93,95,86,92,74,84,66,140,110,106,98,101,96,103,105,93,111,94,109,87,163,103,120,93,133,77,97,101,111,115,91,103,95,92,84,82,124,77,91,79,112,113,50,81,81,87,71,98,66,102,156,113,144,131,150,125,100,110,100,121,129,51,117,94,32,107,76,118,108,101,93,99,84,102,134,91,78,128,141,128,95,73,110,143,189,75,119,56,134,92,109,171,129,137,192,33,21,106,132,133,131,51,89,70,71,91,131,101,105,88,155,103,97,92,98,109,110,136,133,152,173,89,129,162,112,85,114,75,89,177,93,112,99,107,71,95,70,73,29,90,64,50,38,69,29,67,94,135,137,90,104,55,62,83,77,74,75,72,103,120,131,100,95,112,138,143,108,91,80,94,132,57,136,63,84,111,99,93,114,122,120,100,67,132,83,54,105,98,112,94,90,75,48,150,126,110,84,118,97,86,98,88,101,82,81,112,88,99,79,88,88,103,115,115,106,162,103,93,116,100,95,102,105,148,105,86,54,61,19,63,59,60,113,92,87,112,26,97,76,71,86,56,60,63,124,94,100,115,102,128,99,88,106,83,78,128,136,132,129,98,62,106,129,120,81,82,85,90,136,89,130,85,90,94,86,102,94,100,119,107,93,109,93,57,64,54,109,96,92,168,93,100,141,139,92,119,84,57,96,122,83,117,93,73,72,72,46,74,46,46,74,71,72,76,23,60,46,91,81,101,119,92,55,137,56,58,80,94,94,97,111,96,135,91,84,121,61,83,103,127,132,117,109,74,94,105,131,105,97,102,93,97,96,97,91,86,88,107,90,153,96,104,96,136,131,135,150,98,158,163,98,77,107,116,135,104,139,85,110,172,128,134,98,79,97,102,106,86,127,94,185,136,105,80,84,97,92,116,95,99,77,121,91,100,91,102,119,115,100,68,44,72,73,73,44,44,115,61,86,104,82,92,90,99,109,93,100,107,95,111,86,111,108,101,99,100,99,104,138,88,122,141,147,92,73,85,97,91,171,130,80,101,91,99,93,96,102,95,85,97,95,83,115,72,69,76,60,51,61,114,92,82,42,131,165,91,101,53,121,59,110,66,137,103,132,108,108,89,107,91,117,84,96,117,106,124,104,87,113,93,59,118,97,64,94,115,99,107,102,125,208,161,116,106,237,131,102,103,104,109,92,103,96,117,61,89,92,90,91,50,84,87,94,133,97,53,113,53,54,53,54,113,53,53,53,54,54,52,54,54,53,53,53,113,53,86,102,114,99,55,91,117,124,102,122,84,84,120,127,122,125,72,47,23,23,121,107,140,91,89,154,103,103,106,129,102,109,157,146,146,110,121,96,102,96,82,119,169,101,97,116,100,89,92,107,95,101,78,79,86,70,66,73,83,72,111,133,142,166,160,135,135,128,120,92,87,70,31,92,89,102,93,95,86,90,97,90,88,76,86,84,99,96,111,124,93,139,91,86,61,95,107,87,104,122,97,101,96,103,88,93,90,90,92,63,103,103,94,35,85,122,102,110,116,100,105,100,118,105,117,126,129,89,82,44,71,74,130,89,106,107,134,82,82,98,96,108,106,91,163,119,125,137,112,171,69,87,137,89,94,111,74,86,93,93,106,187,109,116,77,84,63,124,72,33,115,84,140,68,90,94,117,105,66,66,91,104,110,114,73,85,112,90,48,109,98,134,95,125,89,89,92,108,102,76,104,72,109,26,105,50,92,95,93,170,170,82,108,129,85,126,159,150,118,125,112,138,96,81,108,128,81,81,90,92,112,130,65,124,127,102,81,146,133,91,81,108,120,162,106,149,92,65,28,19,25,22,40,22,24,87,97,98,98,119,88,122,88,96,114,77,98,102,138,90,128,104,86,124,24,46,24,55,24,23,24,24,106,117,52,164,127,86,84,95,131,152,93,29,97,100,124,163,84,103,92,113,88,83,100,143,102,82,165,119,154,158,92,93,87,91,120,89,24,92,149,136,120,153,96,120,161,137,57,106,98,138,128,125,93,120,124,132,98,162,150,85,155,139,99,113,71,90,83,103,143,64,63,129,93,113,117,93,124,134,119,92,97,88,177,131,119,104,116,113,69,83,32,142,178,133,90,154,100,122,115,159,110,153,126,76,88,86,104,59,230,99,144,98,46,46,127,123,111,101,73,90,81,114,112,80,100,24,100,62,116,96,49,65,84,71,74,59,59,57,88,95,112,112,152,97,97,90,94,105,28,102,124,97,118,95,92,102,100,87,120,84,66,92,31,59,59,105,79,79,99,81,91,101,99,103,88,87,132,83,101,95,107,107,105,118,87,94,73,136,96,97,44,45,92,103,110,139,46,120,119,119,100,92,104,66,53,93,116,103,104,98,80,90,79,142,135,124,110,105,141,122,75,63,93,63,118,89,26,42,62,90,66,119,137,121,137,100,143,79,103,92,89,97,134,116,110,88,115,107,63,69,93,73,72,108,141,57,82,95,117,107,131,172,118,118,128,114,91,83,105,94,137,61,86,86,118,139,173,90,152,134,194,76,99,64,50,49,71,29,110,116,119,107,83,109,65,32,122,113,88,131,228,159,111,86,91,44,72,107,87,117,50,71,102,98,140,145,126,162,131,131,133,127,141,78,150,92,153,83,146,52,95,93,53,73,126,95,119,99,173,93,93,121,88,88,195,120,112,94,77,102,112,121,117,105,96,90,93,110,86,95,49,65,76,63,101,111,98,150,108,54,54,54,55,54,55,55,114,55,55,55,92,87,96,126,117,87,102,106,109,110,69,119,115,108,106,96,85,61,70,103,123,111,116,107,94,123,128,100,102,146,145,103,109,111,100,125,111,146,116,115,126,168,109,107,148,92,91,86,28,135,83,87,71,105,113,105,111,119,112,106,128,163,121,87,103,97,168,131,116,45,75,71,106,122,97,101,89,121,98,130,127,115,96,86,95,93,89,119,105,106,141,88,3,94,77,133,122,52,105,72,101,136,158,143,142,127,92,97,87,83,88,95,105,16,76,96,78,107,80,100,93,49,94,99,101,89,135,107,115,84,95,110,92,95,66,123,83,86,89,134,126,108,137,87,142,80,62,160,5,155,91,94,135,135,104,97,92,87,128,101,77,93,109,110,97,73,131,116,88,106,94,85,130,107,98,94,137,101,108,96,75,83,111,75,139,117,79,46,95,92,29,45,47,129,94,153,112,88,100,83,88,93,140,103,88,86,88,152,33,128,106,69,101,128,94,52,23,140,98,89,108,86,91,122,74,106,100,61,91,113,100,132,96,96,96,91,113,76,127,96,104,95,85,106,117,108,123,105,85,78,97,99,95,42,95,135,130,115,107,44,114,107,93,94,94,113,74,85,63,104,176,28,24,59,24,25,25,24,25,24,127,113,91,108,154,82,140,137,98,86,121,119,85,103,86,92,126,123,185,123,75,112,116,93,83,94,97,108,101,99,104,120,177,162,95,84,97,80,109,88,107,140,120,110,103,112,111,133,102,124,114,148,110,91,81,116,89,72,112,101,98,81,114,125,61,48,128,81,91,121,103,155,119,137,89,87,88,94,125,86,67,78,108,102,127,93,109,115,98,84,133,121,156,135,135,148,131,91,108,130,100,93,108,117,117,95,104,78,87,88,93,107,99,94,90,140,105,91,98,113,89,114,97,97,108,80,79,64,101,115,90,117,101,95,86,94,76,85,102,100,119,87,101,133,112,102,83,89,80,18,112,100,110,96,92,63,72,93,91,73,98,118,121,95,95,116,98,101,86,99,91,130,90,101,106,59,118,120,115,98,111,116,97,95,86,114,122,28,103,122,95,93,107,82,118,119,88,102,119,97,96,103,81,118,96,106,93,109,112,112,96,89,60,113,126,109,93,101,111,107,100,104,115,92,103,90,17,105,102,103,118,105,103,95,101,123,112,114,101,53,81,100,99,102,66,112,83,101,149,99,105,120,93,121,75,92,95,100,93,124,106,154,107,96,97,83,67,151,78,85,139,69,84,88,110,86,108,104,102,113,109,106,117,121,99,139,110,104,95,122,105,96,130,97,87,106,112,148,85,107,76,103,112,95,88,116,121,82,107,87,46,103,97,91,91,111,101,104,92,113,93,151,89,124,115,84,106,97,92,86,46,124,83,100,107,115,104,101,158,95,97,97,89,161,205,123,190,108,136,161,114,128,133,119,101,86,124,105,91,94,168,136,94,85,108,101,116,71,147,88,99,96,132,85,95,97,92,135,36,79,120,53,94,111,123,103,111,123,114,100,84,75,118,96,102,108,99,103,93,101,112,99,129,106,100,209,24,105,93,112,52,106,123,90,140,95,100,121,97,141,118,105,133,76,93,98,86,130,113,98,84,91,104,133,105,149,93,88,131,44,119,99,96,70,107,83,110,116,88,95,96,101,83,121,87,156,87,118,30,95,107,96,110,118,89,85,107,86,83,108,138,119,93,30,91,87,121,95,103,201,179,113,110,94,127,87,87,98,98,82,85,90,46,46,46,103,137,68,107,100,195,98,138,40,137,97,136,138,129,90,116,130,60,88,40,94,113,98,119,91,95,54,86,132,44,104,91,70,102,93,92,114,104,115,85,85,138,40,59,82,107,104,90,121,90,85,99,104,126,97,91,106,95,111,106,108,84,122,111,94,123,86,95,108,94,94,87,124,141,91,93,143,148,91,103,141,110,155,93,78,118,88,89,140,94,124,110,89,100,94,96,116,92,91,111,98,102,97,125,125,132,133,76,117,90,66,105,119,136,52,81,77,108,130,120,102,116,67,90,100,123,90,120,92,93,116,107,95,87,111,14,101,91,105,103,103,90,81,120,107,90,47,111,94,92,92,99,253,124,111,32,98,86,105,100,104,123,100,105,85,108,97,97,91,96,93,122,90,163,110,143,104,103,105,94,121,93,120,95,41,97,84,46,94,94,105,81,103,122,98,90,111,97,91,89,115,98,92,106,139,81,83,123,96,118,110,94,58,96,107,97,103,24,91,136,130,91,104,94,108,91,58,99,106,126,96,93,106,103,130,91,115,91,92,103,72,138,98,125,93,111,112,90,101,101,98,111,117,41,92,117,92,88,126,157,116,47,100,114,128,101,108,53,99,89,90,111,83,85,135,94,104,132,89,97,67,86,158,72,110,98,99,82,180,107,77,123,23,23,23,122,131,77,125,125,139,88,107,96,87,104,133,93,42,56,66,92,58,130,91,108,151,30,30,146,127,98,125,96,135,88,99,78,97,100,102,81,84,88,95,108,108,96,61,63,46,78,86,176,145,89,98,60,57,60,70,74,71,74,63,119,99,117,106,94,108,87,133,106,104,94,114,107,94,59,130,89,81,102,74,47,95,46,88,118,94,114,83,119,79,114,94,111,85,88,82,82,96,100,104,101,99,98,102,100,67,64,96,134,173,113,115,126,96,93,91,27,110,90,128,128,98,108,24,24,24,24,24,46,24,124,88,125,89,162,128,72,90,123,76,96,107,102,53,110,102,86,89,117,80,95,78,90,121,99,137,146,125,115,143,109,137,96,114,94,90,104,190,100,109,116,92,95,104,98,135,113,40,94,87,102,84,108,85,94,61,85,121,94,83,114,92,105,113,97,97,83,95,93,86,110,99,106,112,116,121,62,119,95,130,119,132,86,145,90,144,106,117,130,78,113,82,81,105,126,127,109,156,106,93,110,91,113,97,115,101,91,66,76,68,50,127,100,29,125,116,166,106,106,113,93,96,99,66,119,115,130,120,93,94,111,94,132,109,81,94,100,96,90,66,95,103,61,109,147,123,98,73,92,128,93,78,68,98,74,119,109,86,123,96,83,101,95,91,90,93,38,106,94,89,91,94,72,94,95,149,124,99,73,108,131,80,84,135,106,81,93,96,105,102,92,98,17,124,102,103,99,130,52,91,87,96,92,140,96,93,32,118,110,95,203,82,107,96,75,109,103,97,89,86,97,69,98,98,93,89,120,88,90,91,59,48,78,94,90,102,50,84,126,82,98,86,106,105,93,105,72,100,89,100,104,85,86,99,100,108,106,108,93,102,74,80,92,93,109,132,69,101,97,91,94,147,129,49,93,133,140,45,68,191,135,105,92,91,81,124,101,106,137,15,171,148,132,147,151,97,117,95,90,104,111,112,107,78,96,88,78,54,63,93,87,85,157,116,113,89,107,117,112,94,81,120,115,103,72,88,98,115,130,160,61,101,109,92,131,120,159,89,126,154,96,12,105,89,158,104,88,94,88,99,111,44,90],\"xaxis\":\"x\",\"yaxis\":\"y\",\"type\":\"histogram\"}],                        {\"template\":{\"data\":{\"histogram2dcontour\":[{\"type\":\"histogram2dcontour\",\"colorbar\":{\"outlinewidth\":0,\"ticks\":\"\"},\"colorscale\":[[0.0,\"#0d0887\"],[0.1111111111111111,\"#46039f\"],[0.2222222222222222,\"#7201a8\"],[0.3333333333333333,\"#9c179e\"],[0.4444444444444444,\"#bd3786\"],[0.5555555555555556,\"#d8576b\"],[0.6666666666666666,\"#ed7953\"],[0.7777777777777778,\"#fb9f3a\"],[0.8888888888888888,\"#fdca26\"],[1.0,\"#f0f921\"]]}],\"choropleth\":[{\"type\":\"choropleth\",\"colorbar\":{\"outlinewidth\":0,\"ticks\":\"\"}}],\"histogram2d\":[{\"type\":\"histogram2d\",\"colorbar\":{\"outlinewidth\":0,\"ticks\":\"\"},\"colorscale\":[[0.0,\"#0d0887\"],[0.1111111111111111,\"#46039f\"],[0.2222222222222222,\"#7201a8\"],[0.3333333333333333,\"#9c179e\"],[0.4444444444444444,\"#bd3786\"],[0.5555555555555556,\"#d8576b\"],[0.6666666666666666,\"#ed7953\"],[0.7777777777777778,\"#fb9f3a\"],[0.8888888888888888,\"#fdca26\"],[1.0,\"#f0f921\"]]}],\"heatmap\":[{\"type\":\"heatmap\",\"colorbar\":{\"outlinewidth\":0,\"ticks\":\"\"},\"colorscale\":[[0.0,\"#0d0887\"],[0.1111111111111111,\"#46039f\"],[0.2222222222222222,\"#7201a8\"],[0.3333333333333333,\"#9c179e\"],[0.4444444444444444,\"#bd3786\"],[0.5555555555555556,\"#d8576b\"],[0.6666666666666666,\"#ed7953\"],[0.7777777777777778,\"#fb9f3a\"],[0.8888888888888888,\"#fdca26\"],[1.0,\"#f0f921\"]]}],\"heatmapgl\":[{\"type\":\"heatmapgl\",\"colorbar\":{\"outlinewidth\":0,\"ticks\":\"\"},\"colorscale\":[[0.0,\"#0d0887\"],[0.1111111111111111,\"#46039f\"],[0.2222222222222222,\"#7201a8\"],[0.3333333333333333,\"#9c179e\"],[0.4444444444444444,\"#bd3786\"],[0.5555555555555556,\"#d8576b\"],[0.6666666666666666,\"#ed7953\"],[0.7777777777777778,\"#fb9f3a\"],[0.8888888888888888,\"#fdca26\"],[1.0,\"#f0f921\"]]}],\"contourcarpet\":[{\"type\":\"contourcarpet\",\"colorbar\":{\"outlinewidth\":0,\"ticks\":\"\"}}],\"contour\":[{\"type\":\"contour\",\"colorbar\":{\"outlinewidth\":0,\"ticks\":\"\"},\"colorscale\":[[0.0,\"#0d0887\"],[0.1111111111111111,\"#46039f\"],[0.2222222222222222,\"#7201a8\"],[0.3333333333333333,\"#9c179e\"],[0.4444444444444444,\"#bd3786\"],[0.5555555555555556,\"#d8576b\"],[0.6666666666666666,\"#ed7953\"],[0.7777777777777778,\"#fb9f3a\"],[0.8888888888888888,\"#fdca26\"],[1.0,\"#f0f921\"]]}],\"surface\":[{\"type\":\"surface\",\"colorbar\":{\"outlinewidth\":0,\"ticks\":\"\"},\"colorscale\":[[0.0,\"#0d0887\"],[0.1111111111111111,\"#46039f\"],[0.2222222222222222,\"#7201a8\"],[0.3333333333333333,\"#9c179e\"],[0.4444444444444444,\"#bd3786\"],[0.5555555555555556,\"#d8576b\"],[0.6666666666666666,\"#ed7953\"],[0.7777777777777778,\"#fb9f3a\"],[0.8888888888888888,\"#fdca26\"],[1.0,\"#f0f921\"]]}],\"mesh3d\":[{\"type\":\"mesh3d\",\"colorbar\":{\"outlinewidth\":0,\"ticks\":\"\"}}],\"scatter\":[{\"fillpattern\":{\"fillmode\":\"overlay\",\"size\":10,\"solidity\":0.2},\"type\":\"scatter\"}],\"parcoords\":[{\"type\":\"parcoords\",\"line\":{\"colorbar\":{\"outlinewidth\":0,\"ticks\":\"\"}}}],\"scatterpolargl\":[{\"type\":\"scatterpolargl\",\"marker\":{\"colorbar\":{\"outlinewidth\":0,\"ticks\":\"\"}}}],\"bar\":[{\"error_x\":{\"color\":\"#2a3f5f\"},\"error_y\":{\"color\":\"#2a3f5f\"},\"marker\":{\"line\":{\"color\":\"#E5ECF6\",\"width\":0.5},\"pattern\":{\"fillmode\":\"overlay\",\"size\":10,\"solidity\":0.2}},\"type\":\"bar\"}],\"scattergeo\":[{\"type\":\"scattergeo\",\"marker\":{\"colorbar\":{\"outlinewidth\":0,\"ticks\":\"\"}}}],\"scatterpolar\":[{\"type\":\"scatterpolar\",\"marker\":{\"colorbar\":{\"outlinewidth\":0,\"ticks\":\"\"}}}],\"histogram\":[{\"marker\":{\"pattern\":{\"fillmode\":\"overlay\",\"size\":10,\"solidity\":0.2}},\"type\":\"histogram\"}],\"scattergl\":[{\"type\":\"scattergl\",\"marker\":{\"colorbar\":{\"outlinewidth\":0,\"ticks\":\"\"}}}],\"scatter3d\":[{\"type\":\"scatter3d\",\"line\":{\"colorbar\":{\"outlinewidth\":0,\"ticks\":\"\"}},\"marker\":{\"colorbar\":{\"outlinewidth\":0,\"ticks\":\"\"}}}],\"scattermapbox\":[{\"type\":\"scattermapbox\",\"marker\":{\"colorbar\":{\"outlinewidth\":0,\"ticks\":\"\"}}}],\"scatterternary\":[{\"type\":\"scatterternary\",\"marker\":{\"colorbar\":{\"outlinewidth\":0,\"ticks\":\"\"}}}],\"scattercarpet\":[{\"type\":\"scattercarpet\",\"marker\":{\"colorbar\":{\"outlinewidth\":0,\"ticks\":\"\"}}}],\"carpet\":[{\"aaxis\":{\"endlinecolor\":\"#2a3f5f\",\"gridcolor\":\"white\",\"linecolor\":\"white\",\"minorgridcolor\":\"white\",\"startlinecolor\":\"#2a3f5f\"},\"baxis\":{\"endlinecolor\":\"#2a3f5f\",\"gridcolor\":\"white\",\"linecolor\":\"white\",\"minorgridcolor\":\"white\",\"startlinecolor\":\"#2a3f5f\"},\"type\":\"carpet\"}],\"table\":[{\"cells\":{\"fill\":{\"color\":\"#EBF0F8\"},\"line\":{\"color\":\"white\"}},\"header\":{\"fill\":{\"color\":\"#C8D4E3\"},\"line\":{\"color\":\"white\"}},\"type\":\"table\"}],\"barpolar\":[{\"marker\":{\"line\":{\"color\":\"#E5ECF6\",\"width\":0.5},\"pattern\":{\"fillmode\":\"overlay\",\"size\":10,\"solidity\":0.2}},\"type\":\"barpolar\"}],\"pie\":[{\"automargin\":true,\"type\":\"pie\"}]},\"layout\":{\"autotypenumbers\":\"strict\",\"colorway\":[\"#636efa\",\"#EF553B\",\"#00cc96\",\"#ab63fa\",\"#FFA15A\",\"#19d3f3\",\"#FF6692\",\"#B6E880\",\"#FF97FF\",\"#FECB52\"],\"font\":{\"color\":\"#2a3f5f\"},\"hovermode\":\"closest\",\"hoverlabel\":{\"align\":\"left\"},\"paper_bgcolor\":\"white\",\"plot_bgcolor\":\"#E5ECF6\",\"polar\":{\"bgcolor\":\"#E5ECF6\",\"angularaxis\":{\"gridcolor\":\"white\",\"linecolor\":\"white\",\"ticks\":\"\"},\"radialaxis\":{\"gridcolor\":\"white\",\"linecolor\":\"white\",\"ticks\":\"\"}},\"ternary\":{\"bgcolor\":\"#E5ECF6\",\"aaxis\":{\"gridcolor\":\"white\",\"linecolor\":\"white\",\"ticks\":\"\"},\"baxis\":{\"gridcolor\":\"white\",\"linecolor\":\"white\",\"ticks\":\"\"},\"caxis\":{\"gridcolor\":\"white\",\"linecolor\":\"white\",\"ticks\":\"\"}},\"coloraxis\":{\"colorbar\":{\"outlinewidth\":0,\"ticks\":\"\"}},\"colorscale\":{\"sequential\":[[0.0,\"#0d0887\"],[0.1111111111111111,\"#46039f\"],[0.2222222222222222,\"#7201a8\"],[0.3333333333333333,\"#9c179e\"],[0.4444444444444444,\"#bd3786\"],[0.5555555555555556,\"#d8576b\"],[0.6666666666666666,\"#ed7953\"],[0.7777777777777778,\"#fb9f3a\"],[0.8888888888888888,\"#fdca26\"],[1.0,\"#f0f921\"]],\"sequentialminus\":[[0.0,\"#0d0887\"],[0.1111111111111111,\"#46039f\"],[0.2222222222222222,\"#7201a8\"],[0.3333333333333333,\"#9c179e\"],[0.4444444444444444,\"#bd3786\"],[0.5555555555555556,\"#d8576b\"],[0.6666666666666666,\"#ed7953\"],[0.7777777777777778,\"#fb9f3a\"],[0.8888888888888888,\"#fdca26\"],[1.0,\"#f0f921\"]],\"diverging\":[[0,\"#8e0152\"],[0.1,\"#c51b7d\"],[0.2,\"#de77ae\"],[0.3,\"#f1b6da\"],[0.4,\"#fde0ef\"],[0.5,\"#f7f7f7\"],[0.6,\"#e6f5d0\"],[0.7,\"#b8e186\"],[0.8,\"#7fbc41\"],[0.9,\"#4d9221\"],[1,\"#276419\"]]},\"xaxis\":{\"gridcolor\":\"white\",\"linecolor\":\"white\",\"ticks\":\"\",\"title\":{\"standoff\":15},\"zerolinecolor\":\"white\",\"automargin\":true,\"zerolinewidth\":2},\"yaxis\":{\"gridcolor\":\"white\",\"linecolor\":\"white\",\"ticks\":\"\",\"title\":{\"standoff\":15},\"zerolinecolor\":\"white\",\"automargin\":true,\"zerolinewidth\":2},\"scene\":{\"xaxis\":{\"backgroundcolor\":\"#E5ECF6\",\"gridcolor\":\"white\",\"linecolor\":\"white\",\"showbackground\":true,\"ticks\":\"\",\"zerolinecolor\":\"white\",\"gridwidth\":2},\"yaxis\":{\"backgroundcolor\":\"#E5ECF6\",\"gridcolor\":\"white\",\"linecolor\":\"white\",\"showbackground\":true,\"ticks\":\"\",\"zerolinecolor\":\"white\",\"gridwidth\":2},\"zaxis\":{\"backgroundcolor\":\"#E5ECF6\",\"gridcolor\":\"white\",\"linecolor\":\"white\",\"showbackground\":true,\"ticks\":\"\",\"zerolinecolor\":\"white\",\"gridwidth\":2}},\"shapedefaults\":{\"line\":{\"color\":\"#2a3f5f\"}},\"annotationdefaults\":{\"arrowcolor\":\"#2a3f5f\",\"arrowhead\":0,\"arrowwidth\":1},\"geo\":{\"bgcolor\":\"white\",\"landcolor\":\"#E5ECF6\",\"subunitcolor\":\"white\",\"showland\":true,\"showlakes\":true,\"lakecolor\":\"white\"},\"title\":{\"x\":0.05},\"mapbox\":{\"style\":\"light\"}}},\"xaxis\":{\"anchor\":\"y\",\"domain\":[0.0,1.0],\"title\":{\"text\":\"Duration (minutes)\"}},\"yaxis\":{\"anchor\":\"x\",\"domain\":[0.0,1.0],\"title\":{\"text\":\"count\"}},\"legend\":{\"tracegroupgap\":0},\"margin\":{\"t\":60},\"barmode\":\"relative\",\"title\":{\"text\":\"Distribution of Movie Durations\"}},                        {\"responsive\": true}                    ).then(function(){\n",
              "                            \n",
              "var gd = document.getElementById('e84eee54-b73b-42cb-9d60-c0ec11edb9ac');\n",
              "var x = new MutationObserver(function (mutations, observer) {{\n",
              "        var display = window.getComputedStyle(gd).display;\n",
              "        if (!display || display === 'none') {{\n",
              "            console.log([gd, 'removed!']);\n",
              "            Plotly.purge(gd);\n",
              "            observer.disconnect();\n",
              "        }}\n",
              "}});\n",
              "\n",
              "// Listen for the removal of the full notebook cells\n",
              "var notebookContainer = gd.closest('#notebook-container');\n",
              "if (notebookContainer) {{\n",
              "    x.observe(notebookContainer, {childList: true});\n",
              "}}\n",
              "\n",
              "// Listen for the clearing of the current output cell\n",
              "var outputEl = gd.closest('.output');\n",
              "if (outputEl) {{\n",
              "    x.observe(outputEl, {childList: true});\n",
              "}}\n",
              "\n",
              "                        })                };                            </script>        </div>\n",
              "</body>\n",
              "</html>"
            ]
          },
          "metadata": {}
        }
      ]
    },
    {
      "cell_type": "markdown",
      "source": [
        "##### 1. Why did you pick the specific chart?"
      ],
      "metadata": {
        "id": "gCFgpxoyphqP"
      }
    },
    {
      "cell_type": "markdown",
      "source": [
        "Answer Here."
      ],
      "metadata": {
        "id": "TVxDimi2phqP"
      }
    },
    {
      "cell_type": "markdown",
      "source": [
        "##### 2. What is/are the insight(s) found from the chart?"
      ],
      "metadata": {
        "id": "OVtJsKN_phqQ"
      }
    },
    {
      "cell_type": "markdown",
      "source": [
        "Answer Here"
      ],
      "metadata": {
        "id": "ngGi97qjphqQ"
      }
    },
    {
      "cell_type": "markdown",
      "source": [
        "##### 3. Will the gained insights help creating a positive business impact?\n",
        "Are there any insights that lead to negative growth? Justify with specific reason."
      ],
      "metadata": {
        "id": "lssrdh5qphqQ"
      }
    },
    {
      "cell_type": "markdown",
      "source": [
        "Answer Here"
      ],
      "metadata": {
        "id": "tBpY5ekJphqQ"
      }
    },
    {
      "cell_type": "markdown",
      "source": [
        "#### Chart - 10"
      ],
      "metadata": {
        "id": "U2RJ9gkRphqQ"
      }
    },
    {
      "cell_type": "code",
      "source": [
        "# Chart - 10 visualization code\n",
        "import seaborn as sns\n",
        "\n",
        "# Group the data by content rating and content type, and calculate the count\n",
        "content_type_rating = nf_df.groupby(['rating', 'type']).size().unstack()\n",
        "\n",
        "# Create a stacked bar chart\n",
        "content_type_rating.plot(kind='bar', stacked=True)\n",
        "plt.xlabel('Rating')\n",
        "plt.ylabel('Count')\n",
        "plt.title('Content Type Distribution by Rating')\n",
        "plt.xticks(rotation=45)\n",
        "plt.legend(title='Content Type')\n",
        "plt.show()\n"
      ],
      "metadata": {
        "id": "GM7a4YP4phqQ",
        "colab": {
          "base_uri": "https://localhost:8080/",
          "height": 517
        },
        "outputId": "40dd41b5-c70c-4b8e-c9eb-39fde4c11998"
      },
      "execution_count": 51,
      "outputs": [
        {
          "output_type": "display_data",
          "data": {
            "text/plain": [
              "<Figure size 640x480 with 1 Axes>"
            ],
            "image/png": "[encoded data removed]"
          },
          "metadata": {}
        }
      ]
    },
    {
      "cell_type": "markdown",
      "source": [
        "##### 1. Why did you pick the specific chart?"
      ],
      "metadata": {
        "id": "1M8mcRywphqQ"
      }
    },
    {
      "cell_type": "markdown",
      "source": [
        "Answer Here."
      ],
      "metadata": {
        "id": "8agQvks0phqQ"
      }
    },
    {
      "cell_type": "markdown",
      "source": [
        "##### 2. What is/are the insight(s) found from the chart?"
      ],
      "metadata": {
        "id": "tgIPom80phqQ"
      }
    },
    {
      "cell_type": "markdown",
      "source": [
        "Answer Here"
      ],
      "metadata": {
        "id": "Qp13pnNzphqQ"
      }
    },
    {
      "cell_type": "markdown",
      "source": [
        "##### 3. Will the gained insights help creating a positive business impact?\n",
        "Are there any insights that lead to negative growth? Justify with specific reason."
      ],
      "metadata": {
        "id": "JMzcOPDDphqR"
      }
    },
    {
      "cell_type": "markdown",
      "source": [
        "Answer Here"
      ],
      "metadata": {
        "id": "R4Ka1PC2phqR"
      }
    },
    {
      "cell_type": "markdown",
      "source": [
        "#### Chart - 11"
      ],
      "metadata": {
        "id": "x-EpHcCOp1ci"
      }
    },
    {
      "cell_type": "code",
      "source": [
        "# Chart - 11 visualization code\n",
        "\n",
        "\n",
        "\n",
        "# Group by country and count the number of titles\n",
        "country_counts = nf_df['country'].value_counts().reset_index()\n",
        "country_counts.columns = ['country', 'count']\n",
        "\n",
        "# Create a choropleth map with reversed blue color scale\n",
        "fig = px.choropleth(country_counts,\n",
        "                    locations='country',\n",
        "                    locationmode='country names',\n",
        "                    color='count',\n",
        "                    title='Content Distribution by Country',\n",
        "                    labels={'count': 'Number of Titles'},\n",
        "                    color_continuous_scale='Blues_r')  # Reverse the color scale\n",
        "\n",
        "# Show the map\n",
        "fig.show()\n",
        "\n"
      ],
      "metadata": {
        "id": "mAQTIvtqp1cj",
        "colab": {
          "base_uri": "https://localhost:8080/",
          "height": 542
        },
        "outputId": "50023bf4-e125-4184-9134-977cdd730ce9"
      },
      "execution_count": 34,
      "outputs": [
        {
          "output_type": "display_data",
          "data": {
            "text/html": [
              "<html>\n",
              "<head><meta charset=\"utf-8\" /></head>\n",
              "<body>\n",
              "    <div>            <script src=\"https://cdnjs.cloudflare.com/ajax/libs/mathjax/2.7.5/MathJax.js?config=TeX-AMS-MML_SVG\"></script><script type=\"text/javascript\">if (window.MathJax && window.MathJax.Hub && window.MathJax.Hub.Config) {window.MathJax.Hub.Config({SVG: {font: \"STIX-Web\"}});}</script>                <script type=\"text/javascript\">window.PlotlyConfig = {MathJaxConfig: 'local'};</script>\n",
              "        <script src=\"https://cdn.plot.ly/plotly-2.18.2.min.js\"></script>                <div id=\"db3a8a57-650f-4c95-af07-a79c75b9d189\" class=\"plotly-graph-div\" style=\"height:525px; width:100%;\"></div>            <script type=\"text/javascript\">                                    window.PLOTLYENV=window.PLOTLYENV || {};                                    if (document.getElementById(\"db3a8a57-650f-4c95-af07-a79c75b9d189\")) {                    Plotly.newPlot(                        \"db3a8a57-650f-4c95-af07-a79c75b9d189\",                        [{\"coloraxis\":\"coloraxis\",\"geo\":\"geo\",\"hovertemplate\":\"country=%{location}<br>Number of Titles=%{z}<extra></extra>\",\"locationmode\":\"country names\",\"locations\":[\"United States\",\"India\",\"Unknown\",\"United Kingdom\",\"Japan\",\"South Korea\",\"Canada\",\"Spain\",\"France\",\"Egypt\",\"Mexico\",\"Turkey\",\"Australia\",\"Taiwan\",\"Brazil\",\"Philippines\",\"Nigeria\",\"Indonesia\",\"United Kingdom, United States\",\"Germany\",\"United States, Canada\",\"Thailand\",\"China\",\"Hong Kong\",\"Argentina\",\"Canada, United States\",\"Italy\",\"United States, United Kingdom\",\"Colombia\",\"France, Belgium\",\"South Africa\",\"Singapore\",\"Malaysia\",\"Poland\",\"Pakistan\",\"Netherlands\",\"Hong Kong, China\",\"Russia\",\"Chile\",\"United States, France\",\"Lebanon\",\"China, Hong Kong\",\"Mexico, United States\",\"Denmark\",\"United States, Japan\",\"Israel\",\"United Arab Emirates\",\"United States, Germany\",\"United States, Mexico\",\"Ireland\",\"New Zealand\",\"United States, Australia\",\"Norway\",\"Sweden\",\"Germany, United States\",\"Australia, United States\",\"India, United States\",\"Japan, United States\",\"Belgium\",\"United States, India\",\"Argentina, Spain\",\"Saudi Arabia\",\"United States, China\",\"France, United States\",\"Kuwait\",\"United States, France, Japan\",\"United Kingdom, Canada, United States\",\"United Kingdom, France\",\"Romania\",\"South Korea, United States\",\"Vietnam\",\"United States, Czech Republic\",\"United States, Italy\",\"Italy, France\",\"Spain, France\",\"India, France\",\"Iceland\",\"United Kingdom, Japan, United States\",\"South Africa, United States\",\"Hungary\",\"Peru\",\"United Kingdom, France, United States\",\"Poland, United States\",\"United Kingdom, Canada\",\"Hong Kong, United States\",\"Mexico, Spain\",\"United Kingdom, Germany\",\"United Kingdom, United States, Spain, Germany, Greece, Canada\",\"United States, Spain\",\"United States, United Kingdom, Australia\",\"Austria\",\"France, United Kingdom, United States\",\"France, Canada\",\"Ghana\",\"United States, United Kingdom, France\",\"Israel, United States\",\"United States, New Zealand\",\"Canada, United States, United Kingdom\",\"United States, Russia\",\"Bulgaria, United States\",\"Italy, United States\",\"United States, Sweden\",\"United States, United Arab Emirates\",\"United States, Bulgaria\",\"Sweden, United States\",\"United States, Ireland\",\"Spain, Germany\",\"Denmark, United States\",\"United States, South Africa\",\"Belgium, France\",\"United States, Hong Kong\",\"Uruguay\",\"France, Egypt\",\"New Zealand, United States\",\"United Kingdom, Nigeria\",\"United Kingdom, United States, Australia\",\"Canada, United Kingdom\",\"Germany, United Kingdom\",\"Ireland, United Kingdom\",\"Indonesia, Singapore\",\"United Kingdom, India\",\"China, Canada, United States\",\"Egypt, France\",\"United States, South Korea, China\",\"Canada, India\",\"Colombia, Mexico, United States\",\"United States, Argentina\",\"United States, Japan, Canada\",\"Bangladesh\",\"Spain, United Kingdom\",\"United States, United Kingdom, Germany\",\"Canada, United States, France\",\"United States, Canada, United Kingdom\",\"United States, Greece\",\"Pakistan, United States\",\"Ukraine\",\"India, Soviet Union\",\"Hong Kong, China, United States\",\"Canada, United Kingdom, United States\",\"Netherlands, Belgium\",\"Thailand, United States\",\"Brazil, France\",\"Spain, Argentina\",\"United Kingdom, India, United States\",\"United Kingdom, Italy\",\"Australia, United Arab Emirates\",\"Spain, Mexico\",\"Czech Republic, United States\",\"Canada, Australia\",\"Switzerland\",\"China, United States\",\"United Kingdom, Ireland\",\"India, Germany\",\"Australia, Canada\",\"France, South Korea, Japan\",\"Lebanon, Canada, France\",\"Kenya\",\"United States, Chile\",\"Ireland, United Kingdom, United States\",\"Spain, Italy\",\"United States, Germany, Canada\",\"United Arab Emirates, United States\",\"Serbia, United States\",\"Turkey, United States\",\"Singapore, United States\",\"South Africa, Angola\",\"United States, United Kingdom, Spain, South Korea\",\"Canada, Mexico, Germany, South Africa\",\"Hong Kong, Taiwan\",\"United Kingdom, United States, Canada\",\"India, Australia\",\"Sweden, United Kingdom, Finland\",\"United States, United Kingdom, Canada, Japan\",\"Australia, India\",\"Austria, Czech Republic\",\"France, Norway, Lebanon, Belgium\",\"Singapore, Malaysia\",\"Australia, France, Ireland\",\"Israel, Germany, France\",\"Germany, France, United States, Canada, United Kingdom\",\"Senegal\",\"Guatemala\",\"United States, Germany, Australia\",\"Ireland, Canada, United Kingdom, United States\",\"Peru, Germany, Norway\",\"Austria, Iraq, United States\",\"India, Canada\",\"United States, Uruguay\",\"South Korea, China, United States\",\"United Kingdom, Germany, United Arab Emirates, New Zealand\",\"United Kingdom, Ireland, United States\",\"United States, United Kingdom, Canada, China\",\"United States, Denmark\",\"Australia, United Kingdom\",\"France, United States, Canada\",\"Australia, United Kingdom, United States, New Zealand, Italy, France\",\"Jamaica, United States\",\"United States, Hungary\",\"United Kingdom,\",\"Australia, United Kingdom, Canada\",\"Czech Republic, United Kingdom, France\",\"Saudi Arabia, Netherlands, Germany, Jordan, United Arab Emirates, United States\",\"South Korea, Czech Republic\",\"United Kingdom, France, Germany, United States\",\"United Kingdom, New Zealand\",\"China, Hong Kong, United States\",\"Thailand, Canada, United States\",\"Switzerland, United States\",\"India, Malaysia\",\"France, Brazil, Spain, Belgium\",\"United States, Colombia\",\"Canada, France, United States\",\"Italy, France, Switzerland\",\"United States, Brazil, India, Uganda, China\",\"United States, Germany, United Kingdom, Australia\",\"South Africa, United States, Germany\",\"United Kingdom, Finland, Germany\",\"Italy, South Africa, West Germany, Australia, United States\",\"Singapore, Japan, France\",\"United Kingdom, France, United States, Belgium\",\"Norway, Denmark\",\"Saudi Arabia, United Arab Emirates\",\"Croatia, Slovenia, Serbia, Montenegro\",\"Venezuela, Colombia\",\"United Kingdom, Thailand\",\"France, Belgium, Italy\",\"Canada, United States, Germany\",\"Spain, Colombia\",\"China, Morocco, Hong Kong\",\"United Kingdom, Ukraine, United States\",\"Australia, Iraq\",\"Denmark, France, United States, Sweden\",\"Egypt, Austria, United States\",\"India, Germany, Austria\",\"Brazil, India, China, United States\",\"Russia, Spain\",\"Denmark, Brazil, France, Portugal, Sweden\",\"India, Nepal\",\"Germany, Czech Republic\",\"Japan, Canada\",\"United States, France, South Korea, Indonesia\",\"United Kingdom, Singapore\",\"United States, Ireland, United Kingdom, India\",\"United Arab Emirates, Jordan\",\"Norway, Sweden\",\"France, Switzerland, Spain, United States, United Arab Emirates\",\"Denmark, Germany, Belgium, United Kingdom, France, Sweden\",\"Denmark, Germany, Belgium, United Kingdom, France\",\"United States, India, South Korea, China\",\"Netherlands, United States\",\"United Kingdom, United States, Japan\",\"France, Luxembourg, Canada\",\"France, Netherlands, South Africa, Finland\",\"South Korea, Canada, United States, China\",\"Portugal, France, Poland, United States\",\"Denmark, United Kingdom, Sweden\",\"Peru, United States, United Kingdom\",\"United States, Mexico, Spain, Malta\",\"Germany, United States, United Kingdom, Canada\",\"United States, Morocco\",\"Canada, Japan, United States\",\"Uruguay, Argentina, Germany, Spain\",\"India, Switzerland\",\"United States, Netherlands, Japan, France\",\"France, Luxembourg, United States\",\"United Kingdom, Spain\",\"United States, New Zealand, Japan\",\"France, Japan, United States\",\"Switzerland, Vatican City, Italy, Germany, France\",\"Colombia, United States\",\"Canada, United States, Ireland\",\"Canada, India, Thailand, United States, United Arab Emirates\",\"United States, Norway, Canada\",\"United Kingdom, Kenya\",\"Spain, United Kingdom, United States\",\"Romania, Bulgaria, Hungary\",\"United States, East Germany, West Germany\",\"France, United Kingdom\",\"Pakistan, United Arab Emirates\",\"Canada, Hungary, United States\",\"Germany, China, United Kingdom\",\"France, Germany, Czech Republic, Belgium\",\"Colombia, Mexico\",\"United Kingdom, France, Canada, Belgium, United States\",\"Cyprus\",\"Belarus\",\"United Kingdom, Egypt, United States\",\"Spain, Italy, Argentina\",\"Germany, Italy\",\"Chile, Spain, Argentina, Germany\",\"United States, Germany, Mexico\",\"Italy, Belgium\",\"United States, Australia, South Africa, United Kingdom\",\"United Kingdom, Germany, United States\",\"Argentina, Uruguay, Spain, France\",\"Germany, United States, Italy\",\"Denmark, Indonesia, Finland, Norway, United Kingdom, Israel, France, United States, Germany, Netherlands\",\"Ireland, United Kingdom, Greece, France, Netherlands\",\"France, Lebanon\",\"Netherlands, Germany, Denmark, United Kingdom\",\"United States, Venezuela\",\"France, Canada, Italy, United States, China\",\"Norway, Germany\",\"United Kingdom, Italy, Israel, Peru, United States\",\"Paraguay, Argentina\",\"Chile, Peru\",\"Germany, United States, France\",\"Belgium, Ireland, Netherlands, Germany, Afghanistan\",\"Lebanon, France\",\"United Kingdom, Canada, Japan\",\"United Kingdom, Hungary, Australia\",\"United States, Israel, United Kingdom, Canada\",\"India, Germany, France\",\"Canada, Germany, South Africa\",\"Spain, Thailand, United States\",\"United Kingdom, Canada, France, United States\",\"Mexico, Netherlands\",\"Belgium, United Kingdom, United States\",\"Australia, New Zealand\",\"United States, United Kingdom, India\",\"United Kingdom, France, United States, Belgium, Luxembourg, China, Germany\",\"United States, France, Canada, Belgium\",\"United Kingdom, Spain, United States, Germany\",\"United States, Belgium, Canada\",\"India, United Kingdom, Canada, United States\",\"United States, France, Italy, United Kingdom\",\"Spain, France, Canada, United States\",\"Canada, Germany\",\"Ireland, South Africa\",\"Germany, Canada, United States\",\"Georgia\",\"Denmark, United Kingdom, South Africa, Sweden, Belgium\",\"Serbia, South Korea, Slovenia\",\"United Kingdom, Spain, Belgium\",\"Spain, Switzerland\",\"Ireland, Canada, United States, United Kingdom\",\"United States, Canada, Japan, Panama\",\"New Zealand, United Kingdom, Australia\",\"Spain, United States\",\"Ireland, France, Iceland, United States, Mexico, Belgium, United Kingdom, Hong Kong\",\"Somalia, Kenya, Sudan, South Africa, United States\",\"Croatia\",\"United States, Poland\",\"France, Iran, United States\",\"United Arab Emirates, Romania\",\"Canada, South Korea, United States\",\"United Kingdom, Australia, Canada, United States\",\"Indonesia, United States\",\"United States, India, United Arab Emirates\",\"Canada, Belgium\",\"Spain, Canada, United States\",\"France, Belgium, United States\",\"Ireland, Canada, Luxembourg, United States, United Kingdom, Philippines, India\",\"United States, Brazil, South Korea, Mexico, Japan, Germany\",\"France, Lebanon, United Kingdom\",\"United Kingdom, Jordan, Qatar, Iran\",\"United Kingdom, Malawi\",\"United States, Canada, China\",\"United States, Hungary, Ireland, Canada\",\"Canada, Norway\",\"United States, United Kingdom, France, Germany, Japan\",\"Chile, France\",\"Switzerland, United Kingdom, United States\",\"Belgium, Netherlands\",\"France, Canada, United States\",\"Spain, France, Uruguay\",\"Ghana, United States\",\"Finland, United States\",\"United Kingdom, Germany, France, United States\",\"Romania, United Kingdom\",\"United States, New Zealand, United Kingdom\",\"United States, Germany, United Kingdom, Italy\",\"United States, Germany, United Kingdom\",\"Argentina, France, United States, Germany, Qatar\",\"United States, Kazakhstan\",\"Lebanon, Qatar\",\"United Kingdom, India, Sweden\",\"United Kingdom, Belgium\",\"Lebanon, United States, United Arab Emirates\",\"India, Pakistan\",\"United States, Czech Republic, United Kingdom\",\"Israel, Germany\",\"United States, China, Canada\",\"United Kingdom, France, Belgium, Canada, United States\",\"Canada, Japan, Netherlands\",\"United States, United Kingdom, Morocco\",\"United Kingdom, United States, Morocco\",\"United States, Sweden, Norway\",\"Taiwan, Malaysia\",\"United Kingdom, China, United States, India\",\"United States, Greece, United Kingdom\",\"Spain, France, Canada\",\"United Kingdom, Lithuania\",\"United Kingdom, United States, Czech Republic\",\"United Kingdom, Germany, United States, France\",\"Czech Republic, Slovakia\",\"Argentina, Chile\",\"United Kingdom, China, United States\",\"Canada, United States, India, United Kingdom\",\"Greece, United States\",\"United Kingdom, Brazil, Germany\",\"Austria, United States\",\"United Kingdom, United States, Germany, Denmark, Belgium, Japan\",\"United States, Malta, France, United Kingdom\",\"France, Germany\",\"Israel, Germany, Poland, Luxembourg, Belgium, France, United States\",\"Thailand, China, United States\",\"France, Belgium, Luxembourg, Romania, Canada, United States\",\"Brazil, United Kingdom\",\"United Kingdom, Namibia, South Africa, Zimbabwe, United States\",\"Mexico, France\",\"United Kingdom, South Africa, Australia, United States\",\"Spain, Germany, Denmark, United States\",\"China, United States, Australia\",\"United States, Nigeria\",\"China, Germany, India, United States\",\"Germany, France, Luxembourg, United Kingdom, United States\",\"Italy, United States, Argentina\",\"Mexico, Argentina\",\"France, Germany, Switzerland\",\"Germany, United States, Hong Kong, Singapore\",\"Australia, New Zealand, United States\",\"Turkey, France, Germany, Poland\",\"United States,\",\"Brazil, France, Germany\",\"Taiwan, China, France, United States\",\"United States, Canada, France\",\"United States, India, Bangladesh\",\"Canada, United States, Cayman Islands\",\"Germany, Sri Lanka\",\"United States, Australia, China\",\"Czech Republic, France\",\"United Kingdom, Czech Republic, United States, Germany, Bahamas\",\"France, New Zealand\",\"United Kingdom, Pakistan\",\"France, Malta, United States\",\"Philippines, Canada, United Kingdom, United States\",\"South Korea, Japan\",\"Netherlands, Denmark, France, Germany\",\"United Kingdom, China\",\"United States, Israel, Italy, South Africa\",\"United States, Canada, Ireland\",\"India, United Kingdom\",\"United Kingdom, Russia\",\"Denmark, Spain\",\"Finland, France\",\"United Kingdom, Canada, Italy\",\"Zimbabwe\",\"Puerto Rico, United States, Colombia\",\"France, Algeria\",\"Argentina, Uruguay, Serbia\",\"Venezuela\",\"United States, Canada, Belgium, United Kingdom\",\"Philippines, Singapore\",\"Pakistan, Norway, United States\",\"China, United States, United Kingdom\",\"Chile, Argentina\",\"Germany, Belgium\",\"France, China, Japan, United States\",\"Russia, Poland, Serbia\",\"United Kingdom, Czech Republic, Germany, United States\",\"United States, Australia, Mexico\",\"Denmark, France, Belgium, Italy, Netherlands, United States, United Kingdom\",\"United States, Italy, United Kingdom, Liechtenstein\",\"France, Qatar\",\"United Kingdom, France, Germany, Spain\",\"South Africa, United States, New Zealand, Canada\",\"Finland, Sweden, Norway, Latvia, Germany\",\"United Kingdom, South Africa\",\"Denmark, Zimbabwe\",\"Spain, Belgium, Switzerland, United States, China, United Kingdom\",\"United States, Thailand\",\"Finland, Germany\",\"Philippines, United States\",\"Bulgaria\",\"United Kingdom, Poland, United States\",\"Germany, Australia\",\"United Kingdom, Australia\",\"Canada, Brazil\",\"Taiwan, Hong Kong, United States, China\",\"Norway, Germany, Sweden\",\"United Arab Emirates, United Kingdom, India\",\"United States, Iceland\",\"Uruguay, Argentina, Spain\",\"Ireland, Canada\",\"Iceland, Sweden, Belgium\",\"Canada, Nigeria\",\"Canada, Luxembourg\",\"United Kingdom, France, Germany\",\"Soviet Union, India\",\"Egypt, Algeria\",\"Uruguay, Argentina\",\"Mauritius, South Africa\",\"Germany, France, Russia\",\"Hong Kong, Iceland, United States\",\"Australia, France\",\"United Kingdom, United States, France, Germany\",\"Singapore, France\",\"Argentina, Brazil, France, Poland, Germany, Denmark\",\"Denmark, Sweden, Israel, United States\",\"United Kingdom, France, Belgium, United States, China\",\"Iran, France\",\"United Kingdom, Hong Kong\",\"United Kingdom, Spain, United States\",\"France, Netherlands, Singapore\",\"Netherlands, Denmark, South Africa\",\"New Zealand, United Kingdom\",\"Denmark, France, Poland\",\"United States, France, Serbia\",\"South Africa, China, United States\",\"Hong Kong, China, Singapore\",\"Portugal, Spain\",\"South Africa, Nigeria\",\"Norway, Iceland, United States\",\"Finland\",\"China, Spain, South Korea, United States\",\"Spain, Belgium\",\"United Kingdom, Canada, United States, Germany\",\"France, Belgium, Spain\",\"Argentina, United States\",\"Germany, Jordan, Netherlands\",\"United Kingdom, Russia, United States\",\"Russia, United States\",\"Saudi Arabia, Syria, Egypt, Lebanon, Kuwait\",\"Ireland, Luxembourg, Belgium\",\"Philippines, Qatar\",\"Turkey, India\",\"India, Iran\",\"United States, Canada, Indonesia, United Kingdom, China, Singapore\",\"South Korea, China\",\"Uruguay, Spain, Mexico\",\"Mexico, Finland\",\"Namibia\",\"Norway, Denmark, Netherlands, Sweden\",\"Australia, Armenia, Japan, Jordan, Mexico, Mongolia, New Zealand, Philippines, South Africa, Sweden, United States, Uruguay\",\"Japan, Canada, United States\",\"Australia, United Kingdom, United Arab Emirates, Canada\",\"France, United States, Mexico\",\"Sweden, Netherlands\",\"Bulgaria, United States, Spain, Canada\",\"Romania, France, Switzerland, Germany\",\"Canada, France\",\"France, Senegal, Belgium\",\"Indonesia, South Korea, Singapore\",\"India, United Kingdom, China, Canada, Japan, South Korea, United States\",\"France, Canada, Belgium\",\"Brazil, Netherlands, United States, Colombia, Austria, Germany\",\"United States, Mexico, Colombia\",\"Colombia, Peru, United Kingdom\",\"Brazil, United States\",\"United Kingdom, Belgium, Sweden\",\"China, United Kingdom\",\"Canada, South Africa\",\"United States, Australia, Samoa, United Kingdom\",\"South Korea, France\",\"United States, Greece, Brazil\",\"United States, Philippines\",\"Norway, United States\",\"Malaysia, Singapore, Hong Kong\",\"Denmark, China\",\"Denmark, Singapore, Canada, United States\",\"Netherlands, Belgium, Germany, Jordan\",\"United States, Taiwan\",\"United Kingdom, South Korea\",\"Nigeria, United Kingdom\",\"Mexico, United States, Spain, Colombia\",\"Finland, Germany, Belgium\",\"China, India, Nepal\",\"Norway, Denmark, Sweden\",\"United Kingdom, Norway, Denmark, Germany, Sweden\",\"United States, Chile, Israel\",\"France, Belgium, China, United States\",\"Netherlands, Belgium, United Kingdom, United States\",\"Indonesia, Netherlands\",\"United States, France, Canada, Lebanon, Qatar\",\"United Kingdom, Germany, Canada, United States\",\"Germany, United States, Canada\",\"Jordan\",\"Ireland, United States, France\",\"Spain, Portugal\",\"Cambodia\",\"Argentina, Chile, Peru\",\"Uruguay, Germany\",\"Turkey, Azerbaijan\",\"United States, China, Hong Kong\",\"Chile, Argentina, France, Spain, United States\",\"United States, Colombia, Mexico\",\"United States, Botswana\",\"Italy, India\",\"Turkey, South Korea\",\"Switzerland, France\",\"Georgia, Germany, France\",\"France, Morocco\",\"Chile, United States, France\",\"Israel, Sweden, Germany, Netherlands\",\"United Kingdom, West Germany\",\"India, Mexico\",\"United Kingdom, Poland\",\"United States, Bermuda, Ecuador\",\"Norway, United Kingdom, France, Ireland\",\"United States, Spain, Italy\",\"United States, China, Colombia\",\"United States, Cambodia\",\"Netherlands, Germany, Italy, Canada\",\"France, Japan\",\"United Kingdom, France, Belgium, United States\",\"Canada, Spain\",\"Germany, United States, Sweden\",\"Poland, West Germany\",\"Italy, United Kingdom, France\",\"China, Taiwan\",\"France, United Kingdom, India\",\"Argentina, United States, Mexico\",\"Canada, Germany, France, United States\",\"Taiwan, China\",\"Canada, United States, United Kingdom, France, Luxembourg\",\"Canada, France, Italy, Morocco, United States\",\"United States, France, Mexico\",\"United States, United Kingdom, Denmark, Sweden\",\"United States, France, United Kingdom, Japan\",\"Italy, Germany\",\"United Kingdom, Canada, United States, Cayman Islands\",\"United Kingdom, Denmark, Canada, Croatia\",\"Italy, Canada, France\",\"United States, South Korea\",\"Kenya, United States\",\"India, Turkey\",\"Italy, Turkey\",\"France, Belgium, Luxembourg, Cambodia,\",\"United Arab Emirates, Jordan, Lebanon\",\"Austria, Germany\",\"United States, Nicaragua\",\"United States, Brazil\",\"South Africa, Germany, Netherlands, France\",\"Spain, Cuba\",\"Italy, Switzerland, Albania, Poland\",\"United Kingdom, Israel, Russia\",\"Argentina, Italy\",\"United Arab Emirates, United States, United Kingdom\",\"China, Japan\",\"Cambodia, United States\",\"United States, France, Canada\",\"Spain, France, United States\",\"Spain, France, Italy\",\"Spain, Mexico, France\",\"United States, Indonesia\",\"France, Canada, China, Cambodia\",\"Canada, Spain, France\",\"United States, United Kingdom, Italy\",\"United States, France, Canada, Spain\",\"Uruguay, Guatemala\",\"Germany, Australia, France, China\",\"Argentina, France\",\"United Kingdom, Germany, Canada\",\"Germany, United Kingdom, United States\",\"United States, Senegal\",\"United Kingdom, United States, Dominican Republic\",\"Canada, Ireland, United States\",\"United Kingdom, France, Belgium\",\"China, South Korea, United States\",\"Switzerland, France, Belgium, United States\",\"India, Japan\",\"United States, Spain, Germany\",\"Indonesia, United Kingdom\",\"United Kingdom, United States, France\",\"Canada, United Kingdom, Netherlands\",\"Slovenia, Croatia, Germany, Czech Republic, Qatar\",\"Poland,\",\"Ireland, United Kingdom, Italy, United States\",\"Chile, Italy\",\"West Germany\",\"Romania, United States\",\"United States, South Korea, Japan\",\"Lebanon, United Arab Emirates, France, Switzerland, Germany\",\"France, Australia, Germany\",\"Ireland, United States\",\"United States, Canada, Germany\",\"Russia, United States, China\",\"Italy, Switzerland, France, Germany\",\"United States, United Kingdom, Canada\",\"United States, United Kingdom, Japan\",\"Sweden, Czech Republic, United Kingdom, Denmark, Netherlands\"],\"name\":\"\",\"z\":[2555,923,507,397,226,183,177,134,115,101,100,100,83,78,72,71,70,70,64,61,60,57,57,52,50,42,40,37,31,27,25,23,22,20,18,16,16,16,14,14,14,14,14,13,13,12,12,12,11,11,11,11,11,10,10,10,9,9,8,8,8,7,7,6,6,6,6,6,6,5,5,5,5,5,5,5,4,4,4,4,4,4,4,4,4,4,4,4,4,4,4,3,3,3,3,3,3,3,3,3,3,3,3,3,3,3,3,3,3,3,3,3,3,2,2,2,2,2,2,2,2,2,2,2,2,2,2,2,2,2,2,2,2,2,2,2,2,2,2,2,2,2,2,2,2,2,2,2,2,2,2,2,2,2,2,2,2,2,2,2,2,2,2,2,2,1,1,1,1,1,1,1,1,1,1,1,1,1,1,1,1,1,1,1,1,1,1,1,1,1,1,1,1,1,1,1,1,1,1,1,1,1,1,1,1,1,1,1,1,1,1,1,1,1,1,1,1,1,1,1,1,1,1,1,1,1,1,1,1,1,1,1,1,1,1,1,1,1,1,1,1,1,1,1,1,1,1,1,1,1,1,1,1,1,1,1,1,1,1,1,1,1,1,1,1,1,1,1,1,1,1,1,1,1,1,1,1,1,1,1,1,1,1,1,1,1,1,1,1,1,1,1,1,1,1,1,1,1,1,1,1,1,1,1,1,1,1,1,1,1,1,1,1,1,1,1,1,1,1,1,1,1,1,1,1,1,1,1,1,1,1,1,1,1,1,1,1,1,1,1,1,1,1,1,1,1,1,1,1,1,1,1,1,1,1,1,1,1,1,1,1,1,1,1,1,1,1,1,1,1,1,1,1,1,1,1,1,1,1,1,1,1,1,1,1,1,1,1,1,1,1,1,1,1,1,1,1,1,1,1,1,1,1,1,1,1,1,1,1,1,1,1,1,1,1,1,1,1,1,1,1,1,1,1,1,1,1,1,1,1,1,1,1,1,1,1,1,1,1,1,1,1,1,1,1,1,1,1,1,1,1,1,1,1,1,1,1,1,1,1,1,1,1,1,1,1,1,1,1,1,1,1,1,1,1,1,1,1,1,1,1,1,1,1,1,1,1,1,1,1,1,1,1,1,1,1,1,1,1,1,1,1,1,1,1,1,1,1,1,1,1,1,1,1,1,1,1,1,1,1,1,1,1,1,1,1,1,1,1,1,1,1,1,1,1,1,1,1,1,1,1,1,1,1,1,1,1,1,1,1,1,1,1,1,1,1,1,1,1,1,1,1,1,1,1,1,1,1,1,1,1,1,1,1,1,1,1,1,1,1,1,1,1,1,1,1,1,1,1,1,1,1,1,1,1,1,1,1,1,1,1,1,1,1,1,1,1,1,1,1,1,1,1,1,1,1,1,1,1,1,1,1,1,1,1,1,1,1,1,1,1,1,1,1,1,1,1,1,1,1,1,1,1,1,1,1,1,1,1,1,1,1,1,1,1,1,1,1,1,1,1,1,1,1,1,1,1,1,1,1,1,1,1,1,1,1,1,1,1,1,1,1],\"type\":\"choropleth\"}],                        {\"template\":{\"data\":{\"histogram2dcontour\":[{\"type\":\"histogram2dcontour\",\"colorbar\":{\"outlinewidth\":0,\"ticks\":\"\"},\"colorscale\":[[0.0,\"#0d0887\"],[0.1111111111111111,\"#46039f\"],[0.2222222222222222,\"#7201a8\"],[0.3333333333333333,\"#9c179e\"],[0.4444444444444444,\"#bd3786\"],[0.5555555555555556,\"#d8576b\"],[0.6666666666666666,\"#ed7953\"],[0.7777777777777778,\"#fb9f3a\"],[0.8888888888888888,\"#fdca26\"],[1.0,\"#f0f921\"]]}],\"choropleth\":[{\"type\":\"choropleth\",\"colorbar\":{\"outlinewidth\":0,\"ticks\":\"\"}}],\"histogram2d\":[{\"type\":\"histogram2d\",\"colorbar\":{\"outlinewidth\":0,\"ticks\":\"\"},\"colorscale\":[[0.0,\"#0d0887\"],[0.1111111111111111,\"#46039f\"],[0.2222222222222222,\"#7201a8\"],[0.3333333333333333,\"#9c179e\"],[0.4444444444444444,\"#bd3786\"],[0.5555555555555556,\"#d8576b\"],[0.6666666666666666,\"#ed7953\"],[0.7777777777777778,\"#fb9f3a\"],[0.8888888888888888,\"#fdca26\"],[1.0,\"#f0f921\"]]}],\"heatmap\":[{\"type\":\"heatmap\",\"colorbar\":{\"outlinewidth\":0,\"ticks\":\"\"},\"colorscale\":[[0.0,\"#0d0887\"],[0.1111111111111111,\"#46039f\"],[0.2222222222222222,\"#7201a8\"],[0.3333333333333333,\"#9c179e\"],[0.4444444444444444,\"#bd3786\"],[0.5555555555555556,\"#d8576b\"],[0.6666666666666666,\"#ed7953\"],[0.7777777777777778,\"#fb9f3a\"],[0.8888888888888888,\"#fdca26\"],[1.0,\"#f0f921\"]]}],\"heatmapgl\":[{\"type\":\"heatmapgl\",\"colorbar\":{\"outlinewidth\":0,\"ticks\":\"\"},\"colorscale\":[[0.0,\"#0d0887\"],[0.1111111111111111,\"#46039f\"],[0.2222222222222222,\"#7201a8\"],[0.3333333333333333,\"#9c179e\"],[0.4444444444444444,\"#bd3786\"],[0.5555555555555556,\"#d8576b\"],[0.6666666666666666,\"#ed7953\"],[0.7777777777777778,\"#fb9f3a\"],[0.8888888888888888,\"#fdca26\"],[1.0,\"#f0f921\"]]}],\"contourcarpet\":[{\"type\":\"contourcarpet\",\"colorbar\":{\"outlinewidth\":0,\"ticks\":\"\"}}],\"contour\":[{\"type\":\"contour\",\"colorbar\":{\"outlinewidth\":0,\"ticks\":\"\"},\"colorscale\":[[0.0,\"#0d0887\"],[0.1111111111111111,\"#46039f\"],[0.2222222222222222,\"#7201a8\"],[0.3333333333333333,\"#9c179e\"],[0.4444444444444444,\"#bd3786\"],[0.5555555555555556,\"#d8576b\"],[0.6666666666666666,\"#ed7953\"],[0.7777777777777778,\"#fb9f3a\"],[0.8888888888888888,\"#fdca26\"],[1.0,\"#f0f921\"]]}],\"surface\":[{\"type\":\"surface\",\"colorbar\":{\"outlinewidth\":0,\"ticks\":\"\"},\"colorscale\":[[0.0,\"#0d0887\"],[0.1111111111111111,\"#46039f\"],[0.2222222222222222,\"#7201a8\"],[0.3333333333333333,\"#9c179e\"],[0.4444444444444444,\"#bd3786\"],[0.5555555555555556,\"#d8576b\"],[0.6666666666666666,\"#ed7953\"],[0.7777777777777778,\"#fb9f3a\"],[0.8888888888888888,\"#fdca26\"],[1.0,\"#f0f921\"]]}],\"mesh3d\":[{\"type\":\"mesh3d\",\"colorbar\":{\"outlinewidth\":0,\"ticks\":\"\"}}],\"scatter\":[{\"fillpattern\":{\"fillmode\":\"overlay\",\"size\":10,\"solidity\":0.2},\"type\":\"scatter\"}],\"parcoords\":[{\"type\":\"parcoords\",\"line\":{\"colorbar\":{\"outlinewidth\":0,\"ticks\":\"\"}}}],\"scatterpolargl\":[{\"type\":\"scatterpolargl\",\"marker\":{\"colorbar\":{\"outlinewidth\":0,\"ticks\":\"\"}}}],\"bar\":[{\"error_x\":{\"color\":\"#2a3f5f\"},\"error_y\":{\"color\":\"#2a3f5f\"},\"marker\":{\"line\":{\"color\":\"#E5ECF6\",\"width\":0.5},\"pattern\":{\"fillmode\":\"overlay\",\"size\":10,\"solidity\":0.2}},\"type\":\"bar\"}],\"scattergeo\":[{\"type\":\"scattergeo\",\"marker\":{\"colorbar\":{\"outlinewidth\":0,\"ticks\":\"\"}}}],\"scatterpolar\":[{\"type\":\"scatterpolar\",\"marker\":{\"colorbar\":{\"outlinewidth\":0,\"ticks\":\"\"}}}],\"histogram\":[{\"marker\":{\"pattern\":{\"fillmode\":\"overlay\",\"size\":10,\"solidity\":0.2}},\"type\":\"histogram\"}],\"scattergl\":[{\"type\":\"scattergl\",\"marker\":{\"colorbar\":{\"outlinewidth\":0,\"ticks\":\"\"}}}],\"scatter3d\":[{\"type\":\"scatter3d\",\"line\":{\"colorbar\":{\"outlinewidth\":0,\"ticks\":\"\"}},\"marker\":{\"colorbar\":{\"outlinewidth\":0,\"ticks\":\"\"}}}],\"scattermapbox\":[{\"type\":\"scattermapbox\",\"marker\":{\"colorbar\":{\"outlinewidth\":0,\"ticks\":\"\"}}}],\"scatterternary\":[{\"type\":\"scatterternary\",\"marker\":{\"colorbar\":{\"outlinewidth\":0,\"ticks\":\"\"}}}],\"scattercarpet\":[{\"type\":\"scattercarpet\",\"marker\":{\"colorbar\":{\"outlinewidth\":0,\"ticks\":\"\"}}}],\"carpet\":[{\"aaxis\":{\"endlinecolor\":\"#2a3f5f\",\"gridcolor\":\"white\",\"linecolor\":\"white\",\"minorgridcolor\":\"white\",\"startlinecolor\":\"#2a3f5f\"},\"baxis\":{\"endlinecolor\":\"#2a3f5f\",\"gridcolor\":\"white\",\"linecolor\":\"white\",\"minorgridcolor\":\"white\",\"startlinecolor\":\"#2a3f5f\"},\"type\":\"carpet\"}],\"table\":[{\"cells\":{\"fill\":{\"color\":\"#EBF0F8\"},\"line\":{\"color\":\"white\"}},\"header\":{\"fill\":{\"color\":\"#C8D4E3\"},\"line\":{\"color\":\"white\"}},\"type\":\"table\"}],\"barpolar\":[{\"marker\":{\"line\":{\"color\":\"#E5ECF6\",\"width\":0.5},\"pattern\":{\"fillmode\":\"overlay\",\"size\":10,\"solidity\":0.2}},\"type\":\"barpolar\"}],\"pie\":[{\"automargin\":true,\"type\":\"pie\"}]},\"layout\":{\"autotypenumbers\":\"strict\",\"colorway\":[\"#636efa\",\"#EF553B\",\"#00cc96\",\"#ab63fa\",\"#FFA15A\",\"#19d3f3\",\"#FF6692\",\"#B6E880\",\"#FF97FF\",\"#FECB52\"],\"font\":{\"color\":\"#2a3f5f\"},\"hovermode\":\"closest\",\"hoverlabel\":{\"align\":\"left\"},\"paper_bgcolor\":\"white\",\"plot_bgcolor\":\"#E5ECF6\",\"polar\":{\"bgcolor\":\"#E5ECF6\",\"angularaxis\":{\"gridcolor\":\"white\",\"linecolor\":\"white\",\"ticks\":\"\"},\"radialaxis\":{\"gridcolor\":\"white\",\"linecolor\":\"white\",\"ticks\":\"\"}},\"ternary\":{\"bgcolor\":\"#E5ECF6\",\"aaxis\":{\"gridcolor\":\"white\",\"linecolor\":\"white\",\"ticks\":\"\"},\"baxis\":{\"gridcolor\":\"white\",\"linecolor\":\"white\",\"ticks\":\"\"},\"caxis\":{\"gridcolor\":\"white\",\"linecolor\":\"white\",\"ticks\":\"\"}},\"coloraxis\":{\"colorbar\":{\"outlinewidth\":0,\"ticks\":\"\"}},\"colorscale\":{\"sequential\":[[0.0,\"#0d0887\"],[0.1111111111111111,\"#46039f\"],[0.2222222222222222,\"#7201a8\"],[0.3333333333333333,\"#9c179e\"],[0.4444444444444444,\"#bd3786\"],[0.5555555555555556,\"#d8576b\"],[0.6666666666666666,\"#ed7953\"],[0.7777777777777778,\"#fb9f3a\"],[0.8888888888888888,\"#fdca26\"],[1.0,\"#f0f921\"]],\"sequentialminus\":[[0.0,\"#0d0887\"],[0.1111111111111111,\"#46039f\"],[0.2222222222222222,\"#7201a8\"],[0.3333333333333333,\"#9c179e\"],[0.4444444444444444,\"#bd3786\"],[0.5555555555555556,\"#d8576b\"],[0.6666666666666666,\"#ed7953\"],[0.7777777777777778,\"#fb9f3a\"],[0.8888888888888888,\"#fdca26\"],[1.0,\"#f0f921\"]],\"diverging\":[[0,\"#8e0152\"],[0.1,\"#c51b7d\"],[0.2,\"#de77ae\"],[0.3,\"#f1b6da\"],[0.4,\"#fde0ef\"],[0.5,\"#f7f7f7\"],[0.6,\"#e6f5d0\"],[0.7,\"#b8e186\"],[0.8,\"#7fbc41\"],[0.9,\"#4d9221\"],[1,\"#276419\"]]},\"xaxis\":{\"gridcolor\":\"white\",\"linecolor\":\"white\",\"ticks\":\"\",\"title\":{\"standoff\":15},\"zerolinecolor\":\"white\",\"automargin\":true,\"zerolinewidth\":2},\"yaxis\":{\"gridcolor\":\"white\",\"linecolor\":\"white\",\"ticks\":\"\",\"title\":{\"standoff\":15},\"zerolinecolor\":\"white\",\"automargin\":true,\"zerolinewidth\":2},\"scene\":{\"xaxis\":{\"backgroundcolor\":\"#E5ECF6\",\"gridcolor\":\"white\",\"linecolor\":\"white\",\"showbackground\":true,\"ticks\":\"\",\"zerolinecolor\":\"white\",\"gridwidth\":2},\"yaxis\":{\"backgroundcolor\":\"#E5ECF6\",\"gridcolor\":\"white\",\"linecolor\":\"white\",\"showbackground\":true,\"ticks\":\"\",\"zerolinecolor\":\"white\",\"gridwidth\":2},\"zaxis\":{\"backgroundcolor\":\"#E5ECF6\",\"gridcolor\":\"white\",\"linecolor\":\"white\",\"showbackground\":true,\"ticks\":\"\",\"zerolinecolor\":\"white\",\"gridwidth\":2}},\"shapedefaults\":{\"line\":{\"color\":\"#2a3f5f\"}},\"annotationdefaults\":{\"arrowcolor\":\"#2a3f5f\",\"arrowhead\":0,\"arrowwidth\":1},\"geo\":{\"bgcolor\":\"white\",\"landcolor\":\"#E5ECF6\",\"subunitcolor\":\"white\",\"showland\":true,\"showlakes\":true,\"lakecolor\":\"white\"},\"title\":{\"x\":0.05},\"mapbox\":{\"style\":\"light\"}}},\"geo\":{\"domain\":{\"x\":[0.0,1.0],\"y\":[0.0,1.0]},\"center\":{}},\"coloraxis\":{\"colorbar\":{\"title\":{\"text\":\"Number of Titles\"}},\"colorscale\":[[0.0,\"rgb(8,48,107)\"],[0.125,\"rgb(8,81,156)\"],[0.25,\"rgb(33,113,181)\"],[0.375,\"rgb(66,146,198)\"],[0.5,\"rgb(107,174,214)\"],[0.625,\"rgb(158,202,225)\"],[0.75,\"rgb(198,219,239)\"],[0.875,\"rgb(222,235,247)\"],[1.0,\"rgb(247,251,255)\"]]},\"legend\":{\"tracegroupgap\":0},\"title\":{\"text\":\"Content Distribution by Country\"}},                        {\"responsive\": true}                    ).then(function(){\n",
              "                            \n",
              "var gd = document.getElementById('db3a8a57-650f-4c95-af07-a79c75b9d189');\n",
              "var x = new MutationObserver(function (mutations, observer) {{\n",
              "        var display = window.getComputedStyle(gd).display;\n",
              "        if (!display || display === 'none') {{\n",
              "            console.log([gd, 'removed!']);\n",
              "            Plotly.purge(gd);\n",
              "            observer.disconnect();\n",
              "        }}\n",
              "}});\n",
              "\n",
              "// Listen for the removal of the full notebook cells\n",
              "var notebookContainer = gd.closest('#notebook-container');\n",
              "if (notebookContainer) {{\n",
              "    x.observe(notebookContainer, {childList: true});\n",
              "}}\n",
              "\n",
              "// Listen for the clearing of the current output cell\n",
              "var outputEl = gd.closest('.output');\n",
              "if (outputEl) {{\n",
              "    x.observe(outputEl, {childList: true});\n",
              "}}\n",
              "\n",
              "                        })                };                            </script>        </div>\n",
              "</body>\n",
              "</html>"
            ]
          },
          "metadata": {}
        }
      ]
    },
    {
      "cell_type": "markdown",
      "source": [
        "##### 1. Why did you pick the specific chart?"
      ],
      "metadata": {
        "id": "X_VqEhTip1ck"
      }
    },
    {
      "cell_type": "markdown",
      "source": [
        "Answer Here."
      ],
      "metadata": {
        "id": "-vsMzt_np1ck"
      }
    },
    {
      "cell_type": "markdown",
      "source": [
        "##### 2. What is/are the insight(s) found from the chart?"
      ],
      "metadata": {
        "id": "8zGJKyg5p1ck"
      }
    },
    {
      "cell_type": "markdown",
      "source": [
        "Answer Here"
      ],
      "metadata": {
        "id": "ZYdMsrqVp1ck"
      }
    },
    {
      "cell_type": "markdown",
      "source": [
        "##### 3. Will the gained insights help creating a positive business impact?\n",
        "Are there any insights that lead to negative growth? Justify with specific reason."
      ],
      "metadata": {
        "id": "PVzmfK_Ep1ck"
      }
    },
    {
      "cell_type": "markdown",
      "source": [
        "Answer Here"
      ],
      "metadata": {
        "id": "druuKYZpp1ck"
      }
    },
    {
      "cell_type": "markdown",
      "source": [
        "#### Chart - 12"
      ],
      "metadata": {
        "id": "n3dbpmDWp1ck"
      }
    },
    {
      "cell_type": "code",
      "source": [
        "# Chart - 12 visualization code\n",
        "# Concatenate all the descriptions into a single string\n",
        "descriptions = ' '.join(nf_df['description'])\n",
        "\n",
        "# Create a word cloud\n",
        "wordcloud = WordCloud(width=800, height=400).generate(descriptions)\n",
        "\n",
        "# Display the word cloud\n",
        "plt.figure(figsize=(10, 5))\n",
        "plt.imshow(wordcloud, interpolation='bilinear')\n",
        "plt.axis('off')\n",
        "plt.title('Popular Words in Descriptions')\n",
        "plt.show()"
      ],
      "metadata": {
        "id": "bwevp1tKp1ck",
        "colab": {
          "base_uri": "https://localhost:8080/",
          "height": 444
        },
        "outputId": "22dfe98b-addc-4b4d-c16b-e8bb4ce76826"
      },
      "execution_count": 49,
      "outputs": [
        {
          "output_type": "display_data",
          "data": {
            "text/plain": [
              "<Figure size 1000x500 with 1 Axes>"
            ],
            "image/png": "[encoded data removed]"
          },
          "metadata": {}
        }
      ]
    },
    {
      "cell_type": "markdown",
      "source": [
        "##### 1. Why did you pick the specific chart?"
      ],
      "metadata": {
        "id": "ylSl6qgtp1ck"
      }
    },
    {
      "cell_type": "markdown",
      "source": [
        "Answer Here."
      ],
      "metadata": {
        "id": "m2xqNkiQp1ck"
      }
    },
    {
      "cell_type": "markdown",
      "source": [
        "##### 2. What is/are the insight(s) found from the chart?"
      ],
      "metadata": {
        "id": "ZWILFDl5p1ck"
      }
    },
    {
      "cell_type": "markdown",
      "source": [
        "Answer Here"
      ],
      "metadata": {
        "id": "x-lUsV2mp1ck"
      }
    },
    {
      "cell_type": "markdown",
      "source": [
        "##### 3. Will the gained insights help creating a positive business impact?\n",
        "Are there any insights that lead to negative growth? Justify with specific reason."
      ],
      "metadata": {
        "id": "M7G43BXep1ck"
      }
    },
    {
      "cell_type": "markdown",
      "source": [
        "Answer Here"
      ],
      "metadata": {
        "id": "5wwDJXsLp1cl"
      }
    },
    {
      "cell_type": "markdown",
      "source": [
        "#### Chart - 13"
      ],
      "metadata": {
        "id": "Ag9LCva-p1cl"
      }
    },
    {
      "cell_type": "code",
      "source": [
        "# Chart - 13 visualization code\n",
        "# Calculate the proportion of each rating category\n",
        "rating_proportions = nf_df['rating'].value_counts(normalize=True)\n",
        "\n",
        "# Create a pie chart\n",
        "plt.pie(rating_proportions.values, labels=rating_proportions.index, autopct='%1.1f%%')\n",
        "plt.title('Rating Proportions')\n",
        "plt.axis('equal')\n",
        "plt.show()\n"
      ],
      "metadata": {
        "id": "EUfxeq9-p1cl",
        "colab": {
          "base_uri": "https://localhost:8080/",
          "height": 435
        },
        "outputId": "1bc81627-33fa-465a-fb29-ac37db2cfc20"
      },
      "execution_count": 50,
      "outputs": [
        {
          "output_type": "display_data",
          "data": {
            "text/plain": [
              "<Figure size 640x480 with 1 Axes>"
            ],
            "image/png": "[encoded data removed]"
          },
          "metadata": {}
        }
      ]
    },
    {
      "cell_type": "markdown",
      "source": [
        "##### 1. Why did you pick the specific chart?"
      ],
      "metadata": {
        "id": "E6MkPsBcp1cl"
      }
    },
    {
      "cell_type": "markdown",
      "source": [
        "Answer Here."
      ],
      "metadata": {
        "id": "V22bRsFWp1cl"
      }
    },
    {
      "cell_type": "markdown",
      "source": [
        "##### 2. What is/are the insight(s) found from the chart?"
      ],
      "metadata": {
        "id": "2cELzS2fp1cl"
      }
    },
    {
      "cell_type": "markdown",
      "source": [
        "Answer Here"
      ],
      "metadata": {
        "id": "ozQPc2_Ip1cl"
      }
    },
    {
      "cell_type": "markdown",
      "source": [
        "##### 3. Will the gained insights help creating a positive business impact?\n",
        "Are there any insights that lead to negative growth? Justify with specific reason."
      ],
      "metadata": {
        "id": "3MPXvC8up1cl"
      }
    },
    {
      "cell_type": "markdown",
      "source": [
        "Answer Here"
      ],
      "metadata": {
        "id": "GL8l1tdLp1cl"
      }
    },
    {
      "cell_type": "markdown",
      "source": [
        "#### Chart - 14 - Correlation Heatmap"
      ],
      "metadata": {
        "id": "NC_X3p0fY2L0"
      }
    },
    {
      "cell_type": "code",
      "source": [
        "# Correlation Heatmap visualization code\n"
      ],
      "metadata": {
        "id": "xyC9zolEZNRQ"
      },
      "execution_count": null,
      "outputs": []
    },
    {
      "cell_type": "markdown",
      "source": [
        "##### 1. Why did you pick the specific chart?"
      ],
      "metadata": {
        "id": "UV0SzAkaZNRQ"
      }
    },
    {
      "cell_type": "markdown",
      "source": [
        "Answer Here."
      ],
      "metadata": {
        "id": "DVPuT8LYZNRQ"
      }
    },
    {
      "cell_type": "markdown",
      "source": [
        "##### 2. What is/are the insight(s) found from the chart?"
      ],
      "metadata": {
        "id": "YPEH6qLeZNRQ"
      }
    },
    {
      "cell_type": "markdown",
      "source": [
        "Answer Here"
      ],
      "metadata": {
        "id": "bfSqtnDqZNRR"
      }
    },
    {
      "cell_type": "markdown",
      "source": [
        "#### Chart - 15 - Pair Plot"
      ],
      "metadata": {
        "id": "q29F0dvdveiT"
      }
    },
    {
      "cell_type": "code",
      "source": [
        "# Pair Plot visualization code"
      ],
      "metadata": {
        "id": "o58-TEIhveiU"
      },
      "execution_count": null,
      "outputs": []
    },
    {
      "cell_type": "markdown",
      "source": [
        "##### 1. Why did you pick the specific chart?"
      ],
      "metadata": {
        "id": "EXh0U9oCveiU"
      }
    },
    {
      "cell_type": "markdown",
      "source": [
        "Answer Here."
      ],
      "metadata": {
        "id": "eMmPjTByveiU"
      }
    },
    {
      "cell_type": "markdown",
      "source": [
        "##### 2. What is/are the insight(s) found from the chart?"
      ],
      "metadata": {
        "id": "22aHeOlLveiV"
      }
    },
    {
      "cell_type": "markdown",
      "source": [
        "Answer Here"
      ],
      "metadata": {
        "id": "uPQ8RGwHveiV"
      }
    },
    {
      "cell_type": "markdown",
      "source": [
        "## ***5. Hypothesis Testing***"
      ],
      "metadata": {
        "id": "g-ATYxFrGrvw"
      }
    },
    {
      "cell_type": "markdown",
      "source": [
        "### Based on your chart experiments, define three hypothetical statements from the dataset. In the next three questions, perform hypothesis testing to obtain final conclusion about the statements through your code and statistical testing."
      ],
      "metadata": {
        "id": "Yfr_Vlr8HBkt"
      }
    },
    {
      "cell_type": "markdown",
      "source": [
        "Answer Here."
      ],
      "metadata": {
        "id": "-7MS06SUHkB-"
      }
    },
    {
      "cell_type": "markdown",
      "source": [
        "### Hypothetical Statement - 1"
      ],
      "metadata": {
        "id": "8yEUt7NnHlrM"
      }
    },
    {
      "cell_type": "markdown",
      "source": [
        "#### 1. State Your research hypothesis as a null hypothesis and alternate hypothesis."
      ],
      "metadata": {
        "id": "tEA2Xm5dHt1r"
      }
    },
    {
      "cell_type": "markdown",
      "source": [
        "Answer Here."
      ],
      "metadata": {
        "id": "HI9ZP0laH0D-"
      }
    },
    {
      "cell_type": "markdown",
      "source": [
        "#### 2. Perform an appropriate statistical test."
      ],
      "metadata": {
        "id": "I79__PHVH19G"
      }
    },
    {
      "cell_type": "code",
      "source": [
        "# Perform Statistical Test to obtain P-Value"
      ],
      "metadata": {
        "id": "oZrfquKtyian"
      },
      "execution_count": null,
      "outputs": []
    },
    {
      "cell_type": "markdown",
      "source": [
        "##### Which statistical test have you done to obtain P-Value?"
      ],
      "metadata": {
        "id": "Ou-I18pAyIpj"
      }
    },
    {
      "cell_type": "markdown",
      "source": [
        "Answer Here."
      ],
      "metadata": {
        "id": "s2U0kk00ygSB"
      }
    },
    {
      "cell_type": "markdown",
      "source": [
        "##### Why did you choose the specific statistical test?"
      ],
      "metadata": {
        "id": "fF3858GYyt-u"
      }
    },
    {
      "cell_type": "markdown",
      "source": [
        "Answer Here."
      ],
      "metadata": {
        "id": "HO4K0gP5y3B4"
      }
    },
    {
      "cell_type": "markdown",
      "source": [
        "### Hypothetical Statement - 2"
      ],
      "metadata": {
        "id": "4_0_7-oCpUZd"
      }
    },
    {
      "cell_type": "markdown",
      "source": [
        "#### 1. State Your research hypothesis as a null hypothesis and alternate hypothesis."
      ],
      "metadata": {
        "id": "hwyV_J3ipUZe"
      }
    },
    {
      "cell_type": "markdown",
      "source": [
        "Answer Here."
      ],
      "metadata": {
        "id": "FnpLGJ-4pUZe"
      }
    },
    {
      "cell_type": "markdown",
      "source": [
        "#### 2. Perform an appropriate statistical test."
      ],
      "metadata": {
        "id": "3yB-zSqbpUZe"
      }
    },
    {
      "cell_type": "code",
      "source": [
        "# Perform Statistical Test to obtain P-Value"
      ],
      "metadata": {
        "id": "sWxdNTXNpUZe"
      },
      "execution_count": null,
      "outputs": []
    },
    {
      "cell_type": "markdown",
      "source": [
        "##### Which statistical test have you done to obtain P-Value?"
      ],
      "metadata": {
        "id": "dEUvejAfpUZe"
      }
    },
    {
      "cell_type": "markdown",
      "source": [
        "Answer Here."
      ],
      "metadata": {
        "id": "oLDrPz7HpUZf"
      }
    },
    {
      "cell_type": "markdown",
      "source": [
        "##### Why did you choose the specific statistical test?"
      ],
      "metadata": {
        "id": "Fd15vwWVpUZf"
      }
    },
    {
      "cell_type": "markdown",
      "source": [
        "Answer Here."
      ],
      "metadata": {
        "id": "4xOGYyiBpUZf"
      }
    },
    {
      "cell_type": "markdown",
      "source": [
        "### Hypothetical Statement - 3"
      ],
      "metadata": {
        "id": "bn_IUdTipZyH"
      }
    },
    {
      "cell_type": "markdown",
      "source": [
        "#### 1. State Your research hypothesis as a null hypothesis and alternate hypothesis."
      ],
      "metadata": {
        "id": "49K5P_iCpZyH"
      }
    },
    {
      "cell_type": "markdown",
      "source": [
        "Answer Here."
      ],
      "metadata": {
        "id": "7gWI5rT9pZyH"
      }
    },
    {
      "cell_type": "markdown",
      "source": [
        "#### 2. Perform an appropriate statistical test."
      ],
      "metadata": {
        "id": "Nff-vKELpZyI"
      }
    },
    {
      "cell_type": "code",
      "source": [
        "# Perform Statistical Test to obtain P-Value"
      ],
      "metadata": {
        "id": "s6AnJQjtpZyI"
      },
      "execution_count": null,
      "outputs": []
    },
    {
      "cell_type": "markdown",
      "source": [
        "##### Which statistical test have you done to obtain P-Value?"
      ],
      "metadata": {
        "id": "kLW572S8pZyI"
      }
    },
    {
      "cell_type": "markdown",
      "source": [
        "Answer Here."
      ],
      "metadata": {
        "id": "ytWJ8v15pZyI"
      }
    },
    {
      "cell_type": "markdown",
      "source": [
        "##### Why did you choose the specific statistical test?"
      ],
      "metadata": {
        "id": "dWbDXHzopZyI"
      }
    },
    {
      "cell_type": "markdown",
      "source": [
        "Answer Here."
      ],
      "metadata": {
        "id": "M99G98V6pZyI"
      }
    },
    {
      "cell_type": "markdown",
      "source": [
        "## ***6. Feature Engineering & Data Pre-processing***"
      ],
      "metadata": {
        "id": "yLjJCtPM0KBk"
      }
    },
    {
      "cell_type": "markdown",
      "source": [
        "### 1. Handling Missing Values"
      ],
      "metadata": {
        "id": "xiyOF9F70UgQ"
      }
    },
    {
      "cell_type": "code",
      "source": [
        "# Handling Missing Values & Missing Value Imputation"
      ],
      "metadata": {
        "id": "iRsAHk1K0fpS"
      },
      "execution_count": null,
      "outputs": []
    },
    {
      "cell_type": "markdown",
      "source": [
        "#### What all missing value imputation techniques have you used and why did you use those techniques?"
      ],
      "metadata": {
        "id": "7wuGOrhz0itI"
      }
    },
    {
      "cell_type": "markdown",
      "source": [
        "Answer Here."
      ],
      "metadata": {
        "id": "1ixusLtI0pqI"
      }
    },
    {
      "cell_type": "markdown",
      "source": [
        "### 2. Handling Outliers"
      ],
      "metadata": {
        "id": "id1riN9m0vUs"
      }
    },
    {
      "cell_type": "code",
      "source": [
        "# Handling Outliers & Outlier treatments"
      ],
      "metadata": {
        "id": "M6w2CzZf04JK"
      },
      "execution_count": null,
      "outputs": []
    },
    {
      "cell_type": "markdown",
      "source": [
        "##### What all outlier treatment techniques have you used and why did you use those techniques?"
      ],
      "metadata": {
        "id": "578E2V7j08f6"
      }
    },
    {
      "cell_type": "markdown",
      "source": [
        "Answer Here."
      ],
      "metadata": {
        "id": "uGZz5OrT1HH-"
      }
    },
    {
      "cell_type": "markdown",
      "source": [
        "### 3. Categorical Encoding"
      ],
      "metadata": {
        "id": "89xtkJwZ18nB"
      }
    },
    {
      "cell_type": "code",
      "source": [
        "# Encode your categorical columns"
      ],
      "metadata": {
        "id": "21JmIYMG2hEo"
      },
      "execution_count": null,
      "outputs": []
    },
    {
      "cell_type": "markdown",
      "source": [
        "#### What all categorical encoding techniques have you used & why did you use those techniques?"
      ],
      "metadata": {
        "id": "67NQN5KX2AMe"
      }
    },
    {
      "cell_type": "markdown",
      "source": [
        "Answer Here."
      ],
      "metadata": {
        "id": "UDaue5h32n_G"
      }
    },
    {
      "cell_type": "markdown",
      "source": [
        "### 4. Textual Data Preprocessing\n",
        "(It's mandatory for textual dataset i.e., NLP, Sentiment Analysis, Text Clustering etc.)"
      ],
      "metadata": {
        "id": "Iwf50b-R2tYG"
      }
    },
    {
      "cell_type": "markdown",
      "source": [
        "#### 1. Expand Contraction"
      ],
      "metadata": {
        "id": "GMQiZwjn3iu7"
      }
    },
    {
      "cell_type": "code",
      "source": [
        "# Expand Contraction"
      ],
      "metadata": {
        "id": "PTouz10C3oNN"
      },
      "execution_count": null,
      "outputs": []
    },
    {
      "cell_type": "markdown",
      "source": [
        "#### 2. Lower Casing"
      ],
      "metadata": {
        "id": "WVIkgGqN3qsr"
      }
    },
    {
      "cell_type": "code",
      "source": [
        "# Lower Casing"
      ],
      "metadata": {
        "id": "88JnJ1jN3w7j"
      },
      "execution_count": null,
      "outputs": []
    },
    {
      "cell_type": "markdown",
      "source": [
        "#### 3. Removing Punctuations"
      ],
      "metadata": {
        "id": "XkPnILGE3zoT"
      }
    },
    {
      "cell_type": "code",
      "source": [
        "# Remove Punctuations"
      ],
      "metadata": {
        "id": "vqbBqNaA33c0"
      },
      "execution_count": null,
      "outputs": []
    },
    {
      "cell_type": "markdown",
      "source": [
        "#### 4. Removing URLs & Removing words and digits contain digits."
      ],
      "metadata": {
        "id": "Hlsf0x5436Go"
      }
    },
    {
      "cell_type": "code",
      "source": [
        "# Remove URLs & Remove words and digits contain digits"
      ],
      "metadata": {
        "id": "2sxKgKxu4Ip3"
      },
      "execution_count": null,
      "outputs": []
    },
    {
      "cell_type": "markdown",
      "source": [
        "#### 5. Removing Stopwords & Removing White spaces"
      ],
      "metadata": {
        "id": "mT9DMSJo4nBL"
      }
    },
    {
      "cell_type": "code",
      "source": [
        "# Remove Stopwords"
      ],
      "metadata": {
        "id": "T2LSJh154s8W"
      },
      "execution_count": null,
      "outputs": []
    },
    {
      "cell_type": "code",
      "source": [
        "# Remove White spaces"
      ],
      "metadata": {
        "id": "EgLJGffy4vm0"
      },
      "execution_count": null,
      "outputs": []
    },
    {
      "cell_type": "markdown",
      "source": [
        "#### 6. Rephrase Text"
      ],
      "metadata": {
        "id": "c49ITxTc407N"
      }
    },
    {
      "cell_type": "code",
      "source": [
        "# Rephrase Text"
      ],
      "metadata": {
        "id": "foqY80Qu48N2"
      },
      "execution_count": null,
      "outputs": []
    },
    {
      "cell_type": "markdown",
      "source": [
        "#### 7. Tokenization"
      ],
      "metadata": {
        "id": "OeJFEK0N496M"
      }
    },
    {
      "cell_type": "code",
      "source": [
        "# Tokenization"
      ],
      "metadata": {
        "id": "ijx1rUOS5CUU"
      },
      "execution_count": null,
      "outputs": []
    },
    {
      "cell_type": "markdown",
      "source": [
        "#### 8. Text Normalization"
      ],
      "metadata": {
        "id": "9ExmJH0g5HBk"
      }
    },
    {
      "cell_type": "code",
      "source": [
        "# Normalizing Text (i.e., Stemming, Lemmatization etc.)"
      ],
      "metadata": {
        "id": "AIJ1a-Zc5PY8"
      },
      "execution_count": null,
      "outputs": []
    },
    {
      "cell_type": "markdown",
      "source": [
        "##### Which text normalization technique have you used and why?"
      ],
      "metadata": {
        "id": "cJNqERVU536h"
      }
    },
    {
      "cell_type": "markdown",
      "source": [
        "Answer Here."
      ],
      "metadata": {
        "id": "Z9jKVxE06BC1"
      }
    },
    {
      "cell_type": "markdown",
      "source": [
        "#### 9. Part of speech tagging"
      ],
      "metadata": {
        "id": "k5UmGsbsOxih"
      }
    },
    {
      "cell_type": "code",
      "source": [
        "# POS Taging"
      ],
      "metadata": {
        "id": "btT3ZJBAO6Ik"
      },
      "execution_count": null,
      "outputs": []
    },
    {
      "cell_type": "markdown",
      "source": [
        "#### 10. Text Vectorization"
      ],
      "metadata": {
        "id": "T0VqWOYE6DLQ"
      }
    },
    {
      "cell_type": "code",
      "source": [
        "# Vectorizing Text"
      ],
      "metadata": {
        "id": "yBRtdhth6JDE"
      },
      "execution_count": null,
      "outputs": []
    },
    {
      "cell_type": "markdown",
      "source": [
        "##### Which text vectorization technique have you used and why?"
      ],
      "metadata": {
        "id": "qBMux9mC6MCf"
      }
    },
    {
      "cell_type": "markdown",
      "source": [
        "Answer Here."
      ],
      "metadata": {
        "id": "su2EnbCh6UKQ"
      }
    },
    {
      "cell_type": "markdown",
      "source": [
        "### 4. Feature Manipulation & Selection"
      ],
      "metadata": {
        "id": "-oLEiFgy-5Pf"
      }
    },
    {
      "cell_type": "markdown",
      "source": [
        "#### 1. Feature Manipulation"
      ],
      "metadata": {
        "id": "C74aWNz2AliB"
      }
    },
    {
      "cell_type": "code",
      "source": [
        "# Manipulate Features to minimize feature correlation and create new features"
      ],
      "metadata": {
        "id": "h1qC4yhBApWC"
      },
      "execution_count": null,
      "outputs": []
    },
    {
      "cell_type": "markdown",
      "source": [
        "#### 2. Feature Selection"
      ],
      "metadata": {
        "id": "2DejudWSA-a0"
      }
    },
    {
      "cell_type": "code",
      "source": [
        "# Select your features wisely to avoid overfitting"
      ],
      "metadata": {
        "id": "YLhe8UmaBCEE"
      },
      "execution_count": null,
      "outputs": []
    },
    {
      "cell_type": "markdown",
      "source": [
        "##### What all feature selection methods have you used  and why?"
      ],
      "metadata": {
        "id": "pEMng2IbBLp7"
      }
    },
    {
      "cell_type": "markdown",
      "source": [
        "Answer Here."
      ],
      "metadata": {
        "id": "rb2Lh6Z8BgGs"
      }
    },
    {
      "cell_type": "markdown",
      "source": [
        "##### Which all features you found important and why?"
      ],
      "metadata": {
        "id": "rAdphbQ9Bhjc"
      }
    },
    {
      "cell_type": "markdown",
      "source": [
        "Answer Here."
      ],
      "metadata": {
        "id": "fGgaEstsBnaf"
      }
    },
    {
      "cell_type": "markdown",
      "source": [
        "### 5. Data Transformation"
      ],
      "metadata": {
        "id": "TNVZ9zx19K6k"
      }
    },
    {
      "cell_type": "markdown",
      "source": [
        "#### Do you think that your data needs to be transformed? If yes, which transformation have you used. Explain Why?"
      ],
      "metadata": {
        "id": "nqoHp30x9hH9"
      }
    },
    {
      "cell_type": "code",
      "source": [
        "# Transform Your data"
      ],
      "metadata": {
        "id": "I6quWQ1T9rtH"
      },
      "execution_count": null,
      "outputs": []
    },
    {
      "cell_type": "markdown",
      "source": [
        "### 6. Data Scaling"
      ],
      "metadata": {
        "id": "rMDnDkt2B6du"
      }
    },
    {
      "cell_type": "code",
      "source": [
        "# Scaling your data"
      ],
      "metadata": {
        "id": "dL9LWpySC6x_"
      },
      "execution_count": null,
      "outputs": []
    },
    {
      "cell_type": "markdown",
      "source": [
        "##### Which method have you used to scale you data and why?"
      ],
      "metadata": {
        "id": "yiiVWRdJDDil"
      }
    },
    {
      "cell_type": "markdown",
      "source": [
        "### 7. Dimesionality Reduction"
      ],
      "metadata": {
        "id": "1UUpS68QDMuG"
      }
    },
    {
      "cell_type": "markdown",
      "source": [
        "##### Do you think that dimensionality reduction is needed? Explain Why?"
      ],
      "metadata": {
        "id": "kexQrXU-DjzY"
      }
    },
    {
      "cell_type": "markdown",
      "source": [
        "Answer Here."
      ],
      "metadata": {
        "id": "GGRlBsSGDtTQ"
      }
    },
    {
      "cell_type": "code",
      "source": [
        "# DImensionality Reduction (If needed)"
      ],
      "metadata": {
        "id": "kQfvxBBHDvCa"
      },
      "execution_count": null,
      "outputs": []
    },
    {
      "cell_type": "markdown",
      "source": [
        "##### Which dimensionality reduction technique have you used and why? (If dimensionality reduction done on dataset.)"
      ],
      "metadata": {
        "id": "T5CmagL3EC8N"
      }
    },
    {
      "cell_type": "markdown",
      "source": [
        "Answer Here."
      ],
      "metadata": {
        "id": "ZKr75IDuEM7t"
      }
    },
    {
      "cell_type": "markdown",
      "source": [
        "### 8. Data Splitting"
      ],
      "metadata": {
        "id": "BhH2vgX9EjGr"
      }
    },
    {
      "cell_type": "code",
      "source": [
        "# Split your data to train and test. Choose Splitting ratio wisely."
      ],
      "metadata": {
        "id": "0CTyd2UwEyNM"
      },
      "execution_count": null,
      "outputs": []
    },
    {
      "cell_type": "markdown",
      "source": [
        "##### What data splitting ratio have you used and why?"
      ],
      "metadata": {
        "id": "qjKvONjwE8ra"
      }
    },
    {
      "cell_type": "markdown",
      "source": [
        "Answer Here."
      ],
      "metadata": {
        "id": "Y2lJ8cobFDb_"
      }
    },
    {
      "cell_type": "markdown",
      "source": [
        "### 9. Handling Imbalanced Dataset"
      ],
      "metadata": {
        "id": "P1XJ9OREExlT"
      }
    },
    {
      "cell_type": "markdown",
      "source": [
        "##### Do you think the dataset is imbalanced? Explain Why."
      ],
      "metadata": {
        "id": "VFOzZv6IFROw"
      }
    },
    {
      "cell_type": "markdown",
      "source": [
        "Answer Here."
      ],
      "metadata": {
        "id": "GeKDIv7pFgcC"
      }
    },
    {
      "cell_type": "code",
      "source": [
        "# Handling Imbalanced Dataset (If needed)"
      ],
      "metadata": {
        "id": "nQsRhhZLFiDs"
      },
      "execution_count": null,
      "outputs": []
    },
    {
      "cell_type": "markdown",
      "source": [
        "##### What technique did you use to handle the imbalance dataset and why? (If needed to be balanced)"
      ],
      "metadata": {
        "id": "TIqpNgepFxVj"
      }
    },
    {
      "cell_type": "markdown",
      "source": [
        "Answer Here."
      ],
      "metadata": {
        "id": "qbet1HwdGDTz"
      }
    },
    {
      "cell_type": "markdown",
      "source": [
        "## ***7. ML Model Implementation***"
      ],
      "metadata": {
        "id": "VfCC591jGiD4"
      }
    },
    {
      "cell_type": "markdown",
      "source": [
        "### ML Model - 1"
      ],
      "metadata": {
        "id": "OB4l2ZhMeS1U"
      }
    },
    {
      "cell_type": "code",
      "source": [
        "# ML Model - 1 Implementation\n",
        "\n",
        "# Fit the Algorithm\n",
        "\n",
        "# Predict on the model"
      ],
      "metadata": {
        "id": "7ebyywQieS1U"
      },
      "execution_count": null,
      "outputs": []
    },
    {
      "cell_type": "markdown",
      "source": [
        "#### 1. Explain the ML Model used and it's performance using Evaluation metric Score Chart."
      ],
      "metadata": {
        "id": "ArJBuiUVfxKd"
      }
    },
    {
      "cell_type": "code",
      "source": [
        "# Visualizing evaluation Metric Score chart"
      ],
      "metadata": {
        "id": "rqD5ZohzfxKe"
      },
      "execution_count": null,
      "outputs": []
    },
    {
      "cell_type": "markdown",
      "source": [
        "#### 2. Cross- Validation & Hyperparameter Tuning"
      ],
      "metadata": {
        "id": "4qY1EAkEfxKe"
      }
    },
    {
      "cell_type": "code",
      "source": [
        "# ML Model - 1 Implementation with hyperparameter optimization techniques (i.e., GridSearch CV, RandomSearch CV, Bayesian Optimization etc.)\n",
        "\n",
        "# Fit the Algorithm\n",
        "\n",
        "# Predict on the model"
      ],
      "metadata": {
        "id": "Dy61ujd6fxKe"
      },
      "execution_count": null,
      "outputs": []
    },
    {
      "cell_type": "markdown",
      "source": [
        "##### Which hyperparameter optimization technique have you used and why?"
      ],
      "metadata": {
        "id": "PiV4Ypx8fxKe"
      }
    },
    {
      "cell_type": "markdown",
      "source": [
        "Answer Here."
      ],
      "metadata": {
        "id": "negyGRa7fxKf"
      }
    },
    {
      "cell_type": "markdown",
      "source": [
        "##### Have you seen any improvement? Note down the improvement with updates Evaluation metric Score Chart."
      ],
      "metadata": {
        "id": "TfvqoZmBfxKf"
      }
    },
    {
      "cell_type": "markdown",
      "source": [
        "Answer Here."
      ],
      "metadata": {
        "id": "OaLui8CcfxKf"
      }
    },
    {
      "cell_type": "markdown",
      "source": [
        "### ML Model - 2"
      ],
      "metadata": {
        "id": "dJ2tPlVmpsJ0"
      }
    },
    {
      "cell_type": "markdown",
      "source": [
        "#### 1. Explain the ML Model used and it's performance using Evaluation metric Score Chart."
      ],
      "metadata": {
        "id": "JWYfwnehpsJ1"
      }
    },
    {
      "cell_type": "code",
      "source": [
        "# Visualizing evaluation Metric Score chart"
      ],
      "metadata": {
        "id": "yEl-hgQWpsJ1"
      },
      "execution_count": null,
      "outputs": []
    },
    {
      "cell_type": "markdown",
      "source": [
        "#### 2. Cross- Validation & Hyperparameter Tuning"
      ],
      "metadata": {
        "id": "-jK_YjpMpsJ2"
      }
    },
    {
      "cell_type": "code",
      "source": [
        "# ML Model - 1 Implementation with hyperparameter optimization techniques (i.e., GridSearch CV, RandomSearch CV, Bayesian Optimization etc.)\n",
        "\n",
        "# Fit the Algorithm\n",
        "\n",
        "# Predict on the model"
      ],
      "metadata": {
        "id": "Dn0EOfS6psJ2"
      },
      "execution_count": null,
      "outputs": []
    },
    {
      "cell_type": "markdown",
      "source": [
        "##### Which hyperparameter optimization technique have you used and why?"
      ],
      "metadata": {
        "id": "HAih1iBOpsJ2"
      }
    },
    {
      "cell_type": "markdown",
      "source": [
        "Answer Here."
      ],
      "metadata": {
        "id": "9kBgjYcdpsJ2"
      }
    },
    {
      "cell_type": "markdown",
      "source": [
        "##### Have you seen any improvement? Note down the improvement with updates Evaluation metric Score Chart."
      ],
      "metadata": {
        "id": "zVGeBEFhpsJ2"
      }
    },
    {
      "cell_type": "markdown",
      "source": [
        "Answer Here."
      ],
      "metadata": {
        "id": "74yRdG6UpsJ3"
      }
    },
    {
      "cell_type": "markdown",
      "source": [
        "#### 3. Explain each evaluation metric's indication towards business and the business impact pf the ML model used."
      ],
      "metadata": {
        "id": "bmKjuQ-FpsJ3"
      }
    },
    {
      "cell_type": "markdown",
      "source": [
        "Answer Here."
      ],
      "metadata": {
        "id": "BDKtOrBQpsJ3"
      }
    },
    {
      "cell_type": "markdown",
      "source": [
        "### ML Model - 3"
      ],
      "metadata": {
        "id": "Fze-IPXLpx6K"
      }
    },
    {
      "cell_type": "code",
      "source": [
        "# ML Model - 3 Implementation\n",
        "\n",
        "# Fit the Algorithm\n",
        "\n",
        "# Predict on the model"
      ],
      "metadata": {
        "id": "FFrSXAtrpx6M"
      },
      "execution_count": null,
      "outputs": []
    },
    {
      "cell_type": "markdown",
      "source": [
        "#### 1. Explain the ML Model used and it's performance using Evaluation metric Score Chart."
      ],
      "metadata": {
        "id": "7AN1z2sKpx6M"
      }
    },
    {
      "cell_type": "code",
      "source": [
        "# Visualizing evaluation Metric Score chart"
      ],
      "metadata": {
        "id": "xIY4lxxGpx6M"
      },
      "execution_count": null,
      "outputs": []
    },
    {
      "cell_type": "markdown",
      "source": [
        "#### 2. Cross- Validation & Hyperparameter Tuning"
      ],
      "metadata": {
        "id": "9PIHJqyupx6M"
      }
    },
    {
      "cell_type": "code",
      "source": [
        "# ML Model - 3 Implementation with hyperparameter optimization techniques (i.e., GridSearch CV, RandomSearch CV, Bayesian Optimization etc.)\n",
        "\n",
        "# Fit the Algorithm\n",
        "\n",
        "# Predict on the model"
      ],
      "metadata": {
        "id": "eSVXuaSKpx6M"
      },
      "execution_count": null,
      "outputs": []
    },
    {
      "cell_type": "markdown",
      "source": [
        "##### Which hyperparameter optimization technique have you used and why?"
      ],
      "metadata": {
        "id": "_-qAgymDpx6N"
      }
    },
    {
      "cell_type": "markdown",
      "source": [
        "Answer Here."
      ],
      "metadata": {
        "id": "lQMffxkwpx6N"
      }
    },
    {
      "cell_type": "markdown",
      "source": [
        "##### Have you seen any improvement? Note down the improvement with updates Evaluation metric Score Chart."
      ],
      "metadata": {
        "id": "Z-hykwinpx6N"
      }
    },
    {
      "cell_type": "markdown",
      "source": [
        "Answer Here."
      ],
      "metadata": {
        "id": "MzVzZC6opx6N"
      }
    },
    {
      "cell_type": "markdown",
      "source": [
        "### 1. Which Evaluation metrics did you consider for a positive business impact and why?"
      ],
      "metadata": {
        "id": "h_CCil-SKHpo"
      }
    },
    {
      "cell_type": "markdown",
      "source": [
        "Answer Here."
      ],
      "metadata": {
        "id": "jHVz9hHDKFms"
      }
    },
    {
      "cell_type": "markdown",
      "source": [
        "### 2. Which ML model did you choose from the above created models as your final prediction model and why?"
      ],
      "metadata": {
        "id": "cBFFvTBNJzUa"
      }
    },
    {
      "cell_type": "markdown",
      "source": [
        "Answer Here."
      ],
      "metadata": {
        "id": "6ksF5Q1LKTVm"
      }
    },
    {
      "cell_type": "markdown",
      "source": [
        "### 3. Explain the model which you have used and the feature importance using any model explainability tool?"
      ],
      "metadata": {
        "id": "HvGl1hHyA_VK"
      }
    },
    {
      "cell_type": "markdown",
      "source": [
        "Answer Here."
      ],
      "metadata": {
        "id": "YnvVTiIxBL-C"
      }
    },
    {
      "cell_type": "markdown",
      "source": [
        "## ***8.*** ***Future Work (Optional)***"
      ],
      "metadata": {
        "id": "EyNgTHvd2WFk"
      }
    },
    {
      "cell_type": "markdown",
      "source": [
        "### 1. Save the best performing ml model in a pickle file or joblib file format for deployment process.\n"
      ],
      "metadata": {
        "id": "KH5McJBi2d8v"
      }
    },
    {
      "cell_type": "code",
      "source": [
        "# Save the File"
      ],
      "metadata": {
        "id": "bQIANRl32f4J"
      },
      "execution_count": null,
      "outputs": []
    },
    {
      "cell_type": "markdown",
      "source": [
        "### 2. Again Load the saved model file and try to predict unseen data for a sanity check.\n"
      ],
      "metadata": {
        "id": "iW_Lq9qf2h6X"
      }
    },
    {
      "cell_type": "code",
      "source": [
        "# Load the File and predict unseen data."
      ],
      "metadata": {
        "id": "oEXk9ydD2nVC"
      },
      "execution_count": null,
      "outputs": []
    },
    {
      "cell_type": "markdown",
      "source": [
        "### ***Congrats! Your model is successfully created and ready for deployment on a live server for a real user interaction !!!***"
      ],
      "metadata": {
        "id": "-Kee-DAl2viO"
      }
    },
    {
      "cell_type": "markdown",
      "source": [
        "# **Conclusion**"
      ],
      "metadata": {
        "id": "gCX9965dhzqZ"
      }
    },
    {
      "cell_type": "markdown",
      "source": [
        "Write the conclusion here."
      ],
      "metadata": {
        "id": "Fjb1IsQkh3yE"
      }
    },
    {
      "cell_type": "markdown",
      "source": [
        "### ***Hurrah! You have successfully completed your Machine Learning Capstone Project !!!***"
      ],
      "metadata": {
        "id": "gIfDvo9L0UH2"
      }
    }
  ]
}